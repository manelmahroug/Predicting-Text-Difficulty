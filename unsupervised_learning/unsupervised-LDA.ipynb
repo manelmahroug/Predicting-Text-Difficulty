{
 "cells": [
  {
   "cell_type": "markdown",
   "id": "b35a6cd4",
   "metadata": {},
   "source": [
    "This notebook explores LDA as it relates to uncovering hidden structure in a collection of texts (wikipedia articles).  The information and the code are repurposed through some online articles https://towardsdatascience.com/end-to-end-topic-modeling-in-python-latent-dirichlet-allocation-lda-35ce4ed6b3e0, https://yanlinc.medium.com/how-to-build-a-lda-topic-model-using-from-text-601cdcbfd3a6and SIADS 543 unsupervised learning."
   ]
  },
  {
   "cell_type": "code",
   "execution_count": 1,
   "id": "50f6dbb0",
   "metadata": {},
   "outputs": [],
   "source": [
    "# import some necessary libararies \n",
    "import numpy as np\n",
    "import pandas as pd\n",
    "import seaborn as sns\n",
    "import matplotlib.pyplot as plt\n",
    "%matplotlib inline\n",
    "\n",
    "# Suppress all warnings\n",
    "import warnings\n",
    "warnings.filterwarnings('ignore')\n",
    "\n",
    "np.set_printoptions(precision = 3)\n",
    "\n",
    "from sklearn.feature_extraction.text import TfidfVectorizer\n",
    "from sklearn.feature_extraction.text import CountVectorizer"
   ]
  },
  {
   "cell_type": "markdown",
   "id": "3b5a5679",
   "metadata": {},
   "source": [
    "## The choice of text processing has a significant impact on final classification performance\n",
    "\n",
    "- The way text is represented has a major impact on classification performance.\n",
    "- Text representation is a function of the many different parameter settings for Vectorizer objects in scikit-learn."
   ]
  },
  {
   "cell_type": "code",
   "execution_count": 2,
   "id": "94ad79ed",
   "metadata": {},
   "outputs": [],
   "source": [
    "df = pd.read_pickle(\"data/features.pkl\")"
   ]
  },
  {
   "cell_type": "code",
   "execution_count": 3,
   "id": "64432928",
   "metadata": {},
   "outputs": [
    {
     "data": {
      "text/html": [
       "<div>\n",
       "<style scoped>\n",
       "    .dataframe tbody tr th:only-of-type {\n",
       "        vertical-align: middle;\n",
       "    }\n",
       "\n",
       "    .dataframe tbody tr th {\n",
       "        vertical-align: top;\n",
       "    }\n",
       "\n",
       "    .dataframe thead th {\n",
       "        text-align: right;\n",
       "    }\n",
       "</style>\n",
       "<table border=\"1\" class=\"dataframe\">\n",
       "  <thead>\n",
       "    <tr style=\"text-align: right;\">\n",
       "      <th></th>\n",
       "      <th>original_text</th>\n",
       "      <th>label</th>\n",
       "      <th>preprocessed</th>\n",
       "      <th>word_count</th>\n",
       "      <th>avg_word_count</th>\n",
       "      <th>syllable_count</th>\n",
       "      <th>uncommon</th>\n",
       "      <th>difficult_words</th>\n",
       "      <th>stem</th>\n",
       "      <th>discourse</th>\n",
       "      <th>cohesive_features</th>\n",
       "      <th>flesch</th>\n",
       "      <th>dale</th>\n",
       "      <th>mcalpine</th>\n",
       "      <th>nouns_adjs</th>\n",
       "      <th>normalized</th>\n",
       "    </tr>\n",
       "  </thead>\n",
       "  <tbody>\n",
       "    <tr>\n",
       "      <th>0</th>\n",
       "      <td>There is manuscript evidence that Austen conti...</td>\n",
       "      <td>1</td>\n",
       "      <td>[there, is, manuscript, evidence, that, austen...</td>\n",
       "      <td>35</td>\n",
       "      <td>4.485714</td>\n",
       "      <td>1.371429</td>\n",
       "      <td>14</td>\n",
       "      <td>7</td>\n",
       "      <td>there is manuscript evid that austen continu t...</td>\n",
       "      <td>4</td>\n",
       "      <td>2</td>\n",
       "      <td>52.87</td>\n",
       "      <td>11.24</td>\n",
       "      <td>48.0</td>\n",
       "      <td>0.228571</td>\n",
       "      <td>there is manuscript evidence that austen conti...</td>\n",
       "    </tr>\n",
       "    <tr>\n",
       "      <th>1</th>\n",
       "      <td>In a remarkable comparative analysis , Mandaea...</td>\n",
       "      <td>1</td>\n",
       "      <td>[in, a, remarkable, comparative, analysis, man...</td>\n",
       "      <td>19</td>\n",
       "      <td>6.000000</td>\n",
       "      <td>1.789474</td>\n",
       "      <td>14</td>\n",
       "      <td>8</td>\n",
       "      <td>there is manuscript evid that austen continu t...</td>\n",
       "      <td>2</td>\n",
       "      <td>1</td>\n",
       "      <td>35.27</td>\n",
       "      <td>14.55</td>\n",
       "      <td>23.0</td>\n",
       "      <td>0.315789</td>\n",
       "      <td>in a remarkable comparative analysis mandaean ...</td>\n",
       "    </tr>\n",
       "    <tr>\n",
       "      <th>2</th>\n",
       "      <td>Before Persephone was released to Hermes , who...</td>\n",
       "      <td>1</td>\n",
       "      <td>[before, persephone, was, released, to, hermes...</td>\n",
       "      <td>40</td>\n",
       "      <td>4.725000</td>\n",
       "      <td>1.400000</td>\n",
       "      <td>15</td>\n",
       "      <td>9</td>\n",
       "      <td>there is manuscript evid that austen continu t...</td>\n",
       "      <td>7</td>\n",
       "      <td>3</td>\n",
       "      <td>47.80</td>\n",
       "      <td>11.15</td>\n",
       "      <td>57.0</td>\n",
       "      <td>0.175000</td>\n",
       "      <td>before persephone was released to hermes who h...</td>\n",
       "    </tr>\n",
       "    <tr>\n",
       "      <th>3</th>\n",
       "      <td>Cogeneration plants are commonly found in dist...</td>\n",
       "      <td>1</td>\n",
       "      <td>[cogeneration, plants, are, commonly, found, i...</td>\n",
       "      <td>32</td>\n",
       "      <td>6.281250</td>\n",
       "      <td>1.781250</td>\n",
       "      <td>22</td>\n",
       "      <td>14</td>\n",
       "      <td>there is manuscript evid that austen continu t...</td>\n",
       "      <td>0</td>\n",
       "      <td>1</td>\n",
       "      <td>22.08</td>\n",
       "      <td>14.60</td>\n",
       "      <td>38.0</td>\n",
       "      <td>0.593750</td>\n",
       "      <td>cogeneration plants are commonly found in dist...</td>\n",
       "    </tr>\n",
       "    <tr>\n",
       "      <th>4</th>\n",
       "      <td>Geneva -LRB- , ; , ; , ; ; -RRB- is the second...</td>\n",
       "      <td>1</td>\n",
       "      <td>[geneva, is, the, city, in, switzerland, after...</td>\n",
       "      <td>20</td>\n",
       "      <td>4.650000</td>\n",
       "      <td>1.350000</td>\n",
       "      <td>7</td>\n",
       "      <td>4</td>\n",
       "      <td>there is manuscript evid that austen continu t...</td>\n",
       "      <td>0</td>\n",
       "      <td>2</td>\n",
       "      <td>68.10</td>\n",
       "      <td>8.58</td>\n",
       "      <td>29.0</td>\n",
       "      <td>0.400000</td>\n",
       "      <td>geneva is the city in switzerland after zürich...</td>\n",
       "    </tr>\n",
       "  </tbody>\n",
       "</table>\n",
       "</div>"
      ],
      "text/plain": [
       "                                       original_text  label  \\\n",
       "0  There is manuscript evidence that Austen conti...      1   \n",
       "1  In a remarkable comparative analysis , Mandaea...      1   \n",
       "2  Before Persephone was released to Hermes , who...      1   \n",
       "3  Cogeneration plants are commonly found in dist...      1   \n",
       "4  Geneva -LRB- , ; , ; , ; ; -RRB- is the second...      1   \n",
       "\n",
       "                                        preprocessed  word_count  \\\n",
       "0  [there, is, manuscript, evidence, that, austen...          35   \n",
       "1  [in, a, remarkable, comparative, analysis, man...          19   \n",
       "2  [before, persephone, was, released, to, hermes...          40   \n",
       "3  [cogeneration, plants, are, commonly, found, i...          32   \n",
       "4  [geneva, is, the, city, in, switzerland, after...          20   \n",
       "\n",
       "   avg_word_count  syllable_count  uncommon  difficult_words  \\\n",
       "0        4.485714        1.371429        14                7   \n",
       "1        6.000000        1.789474        14                8   \n",
       "2        4.725000        1.400000        15                9   \n",
       "3        6.281250        1.781250        22               14   \n",
       "4        4.650000        1.350000         7                4   \n",
       "\n",
       "                                                stem  discourse  \\\n",
       "0  there is manuscript evid that austen continu t...          4   \n",
       "1  there is manuscript evid that austen continu t...          2   \n",
       "2  there is manuscript evid that austen continu t...          7   \n",
       "3  there is manuscript evid that austen continu t...          0   \n",
       "4  there is manuscript evid that austen continu t...          0   \n",
       "\n",
       "   cohesive_features  flesch   dale  mcalpine  nouns_adjs  \\\n",
       "0                  2   52.87  11.24      48.0    0.228571   \n",
       "1                  1   35.27  14.55      23.0    0.315789   \n",
       "2                  3   47.80  11.15      57.0    0.175000   \n",
       "3                  1   22.08  14.60      38.0    0.593750   \n",
       "4                  2   68.10   8.58      29.0    0.400000   \n",
       "\n",
       "                                          normalized  \n",
       "0  there is manuscript evidence that austen conti...  \n",
       "1  in a remarkable comparative analysis mandaean ...  \n",
       "2  before persephone was released to hermes who h...  \n",
       "3  cogeneration plants are commonly found in dist...  \n",
       "4  geneva is the city in switzerland after zürich...  "
      ]
     },
     "execution_count": 3,
     "metadata": {},
     "output_type": "execute_result"
    }
   ],
   "source": [
    "df.head()"
   ]
  },
  {
   "cell_type": "code",
   "execution_count": 4,
   "id": "f7903922",
   "metadata": {},
   "outputs": [],
   "source": [
    "documents_train = [text for text in df['normalized']]"
   ]
  },
  {
   "cell_type": "code",
   "execution_count": 47,
   "id": "555e0f0a",
   "metadata": {},
   "outputs": [],
   "source": [
    "tfidf_vectorizer = TfidfVectorizer(max_features=10000,lowercase=False,ngram_range=(1,1),min_df=10,max_df=0.95,\\\n",
    "                                   stop_words='english')\n",
    "\n",
    "\n",
    "tfidf_documents = tfidf_vectorizer.fit_transform(documents_train)\n",
    "features_tfidf = tfidf_vectorizer.get_feature_names()\n",
    "\n",
    "tf_vectorizer = CountVectorizer(stop_words='english')\n",
    "tf_documents = tf_vectorizer.fit_transform(documents_train)\n",
    "tf_feature_names = tf_vectorizer.get_feature_names()\n"
   ]
  },
  {
   "cell_type": "code",
   "execution_count": 48,
   "id": "c12ba402",
   "metadata": {},
   "outputs": [],
   "source": [
    "n_topics = 10\n",
    "\n",
    "from sklearn.decomposition import LatentDirichletAllocation\n",
    "\n",
    "lda = LatentDirichletAllocation(n_components = n_topics, random_state=0)\n",
    "lda.fit(tfidf_documents)\n",
    "topic_models = lda.components_"
   ]
  },
  {
   "cell_type": "code",
   "execution_count": 49,
   "id": "0c4406eb",
   "metadata": {},
   "outputs": [],
   "source": [
    "num_top_words = 10\n",
    "\n",
    "def display_topics(model, feature_names, no_top_words):\n",
    "    \"\"\"takes the model components generated by LDA\n",
    "    dump the top words by weight for each topic.\n",
    "    \"\"\"\n",
    "    topics =[]\n",
    "    for topic_idx, topic in enumerate(model.components_):\n",
    "        term_list = [feature_names[i] for i in topic.argsort()[:-no_top_words - 1:-1]]\n",
    "        topics.append(term_list)\n",
    "    return topics\n",
    "\n",
    "\n",
    "#display_topics(lda, features_tfidf, num_top_words)"
   ]
  },
  {
   "cell_type": "markdown",
   "id": "52da39b0",
   "metadata": {},
   "source": [
    "# Topic coherence\n",
    "\n",
    "One measure of topic model quality that is used (to determine the optimal number of topics for a corpus is *topic coherence*) This is a measure of how semantically related the top terms in a topic model are. \n",
    "\n",
    "- Low coherence: tend to be filled with seemingly random words and hard to interpret\n",
    "- High coherence: tend to indicate a clear semantic theme that's easily interpreted\n",
    "\n",
    "Word embeddings are an ideal tool for computing topic coherence because they have the ability to represent word semantics. \n",
    "\n",
    "We're going to use `text8_model` W2VTransformer object, which implements the word2vec embedding"
   ]
  },
  {
   "cell_type": "code",
   "execution_count": 50,
   "id": "d0b436d5",
   "metadata": {},
   "outputs": [],
   "source": [
    "#pip install \"gensim==3.8.3\"- use to this version of gensim"
   ]
  },
  {
   "cell_type": "code",
   "execution_count": 51,
   "id": "7013f64c",
   "metadata": {},
   "outputs": [],
   "source": [
    "import pickle\n",
    "\n",
    "f = open(\"data/text8_W2V.pickle\", \"rb\")\n",
    "text8_model = pickle.load(f)\n",
    "f.close()"
   ]
  },
  {
   "cell_type": "markdown",
   "id": "4fe96306",
   "metadata": {},
   "source": [
    "# Average semantic distance as a text coherence measure"
   ]
  },
  {
   "cell_type": "code",
   "execution_count": 68,
   "id": "a5d8faaa",
   "metadata": {},
   "outputs": [],
   "source": [
    "from sklearn.metrics.pairwise import cosine_similarity\n",
    "def calc_avg_cosine(s):\n",
    "    try:\n",
    "        wordvecs=text8_model.transform(s)#For each input term, compute its word2vec embedding vector\n",
    "    except KeyError:\n",
    "        #print('term not found {}'.format(s))\n",
    "        matrix= np.zeros(10)\n",
    "    else:\n",
    "        matrix=np.zeros([len(s),len(s)]) #create an empty array with dimension len(input)*len(input)\n",
    "    \n",
    "        for i in range(len(s)): #iterate over the rows\n",
    "            for j in range(len(s)):#iterate over the columns\n",
    "                if i==j: #if row index and column index match (i.e comparing the same word to itself)\n",
    "                    matrix[i][j]=0 # set that value to 0\n",
    "                else: #otherwise calculate the cosine similarity between all words and append to the matrix\n",
    "                    v1 = np.array(wordvecs[i]).reshape(1,-1)\n",
    "                    v2 = np.array(wordvecs[j]).reshape(1,-1)\n",
    "                    sim = cosine_similarity(v1,v2)\n",
    "                    matrix[i][j]= sim\n",
    "                    \n",
    "                \n",
    "    return np.mean(matrix)"
   ]
  },
  {
   "cell_type": "code",
   "execution_count": 73,
   "id": "a72e78b1",
   "metadata": {},
   "outputs": [],
   "source": [
    "#display_topics(lda, features_tfidf, num_top_words)"
   ]
  },
  {
   "cell_type": "code",
   "execution_count": 71,
   "id": "0b1b198e",
   "metadata": {},
   "outputs": [],
   "source": [
    "scores =[]\n",
    "for topic in display_topics(lda, features_tfidf, num_top_words):\n",
    "    scores.append(calc_avg_cosine(topic))"
   ]
  },
  {
   "cell_type": "code",
   "execution_count": 72,
   "id": "9de0d7ba",
   "metadata": {},
   "outputs": [
    {
     "name": "stdout",
     "output_type": "stream",
     "text": [
      "[0.18844251058995723, 0.22881923768669366, 0.18896742030978203, 0.23224354784935713, 0.26277119332458826, 0.1510866433568299, 0.32901755705475805, 0.0, 0.1663243638537824, 0.1324111014790833]\n"
     ]
    }
   ],
   "source": [
    "print(scores)"
   ]
  },
  {
   "cell_type": "code",
   "execution_count": 79,
   "id": "bc5346df",
   "metadata": {},
   "outputs": [],
   "source": [
    "def coherence_b():\n",
    "    from sklearn.decomposition import LatentDirichletAllocation\n",
    "    top=10\n",
    "    HH=[]\n",
    "    for terms in range(2,11):\n",
    "        lda = LatentDirichletAllocation(n_components = terms, random_state=0)\n",
    "        W= lda.fit(tfidf_documents)\n",
    "        h = lda.components_\n",
    "        HH.append(h)\n",
    "        \n",
    "    topics=[]\n",
    "    for H in HH:\n",
    "        tops=[]\n",
    "        for each in H:\n",
    "            top10_indexes=each.argsort()[::-1][:top]\n",
    "            topi=[features_tfidf[each] for each in top10_indexes]\n",
    "            tops.append(topi)\n",
    "        topics.append(tops)\n",
    "    \n",
    "    medians=[]\n",
    "    for eachlist in topics:\n",
    "        scorelist=[]\n",
    "        for each in eachlist:\n",
    "            score=calc_avg_cosine(each)\n",
    "            scorelist.append(score)\n",
    "        medians.append(np.median(scorelist))\n",
    "    \n",
    "    return medians"
   ]
  },
  {
   "cell_type": "code",
   "execution_count": 80,
   "id": "4e027740",
   "metadata": {},
   "outputs": [
    {
     "data": {
      "text/plain": [
       "[0.1576924245734699,\n",
       " 0.11390801172703505,\n",
       " 0.12204309355001897,\n",
       " 0.16601227690465747,\n",
       " 0.21220865251030774,\n",
       " 0.1433943632710725,\n",
       " 0.1633485022885725,\n",
       " 0.19491060564294457,\n",
       " 0.18870496544986964]"
      ]
     },
     "execution_count": 80,
     "metadata": {},
     "output_type": "execute_result"
    }
   ],
   "source": [
    "coherence_b()"
   ]
  },
  {
   "cell_type": "markdown",
   "id": "f27a7baf",
   "metadata": {},
   "source": [
    "# Diagnose model performance with perplexity and log-likelihood"
   ]
  },
  {
   "cell_type": "code",
   "execution_count": 83,
   "id": "c40bf763",
   "metadata": {},
   "outputs": [
    {
     "name": "stdout",
     "output_type": "stream",
     "text": [
      "Log Likelihood:  -9233917.46092212\n",
      "Perplexity:  8274.853376250132\n",
      "{'batch_size': 128, 'doc_topic_prior': None, 'evaluate_every': -1, 'learning_decay': 0.7, 'learning_method': 'batch', 'learning_offset': 10.0, 'max_doc_update_iter': 100, 'max_iter': 10, 'mean_change_tol': 0.001, 'n_components': 10, 'n_jobs': None, 'perp_tol': 0.1, 'random_state': 0, 'topic_word_prior': None, 'total_samples': 1000000.0, 'verbose': 0}\n"
     ]
    }
   ],
   "source": [
    "import pprint\n",
    "# Log Likelyhood: Higher the better\n",
    "print(\"Log Likelihood: \", lda.score(tfidf_documents))\n",
    "# Perplexity: Lower the better. Perplexity = exp(-1. * log-likelihood per word)\n",
    "print(\"Perplexity: \", lda.perplexity(tfidf_documents))\n",
    "# See model parameters\n",
    "print(lda.get_params())"
   ]
  },
  {
   "cell_type": "markdown",
   "id": "98070d78",
   "metadata": {},
   "source": [
    "#  Use GridSearch to determine the best LDA model"
   ]
  },
  {
   "cell_type": "code",
   "execution_count": 86,
   "id": "38f9f936",
   "metadata": {},
   "outputs": [],
   "source": [
    "from sklearn.model_selection import GridSearchCV\n",
    "#Define Search Param\n",
    "search_params = {'n_components': [2, 3, 4, 8, 10,13], 'learning_decay': [.5, .7, .9]}\n",
    "# Init the Model\n",
    "lda = LatentDirichletAllocation(max_iter=5, learning_method='online', learning_offset=50.,random_state=0)\n",
    "# Init Grid Search Class\n",
    "model = GridSearchCV(lda, param_grid=search_params)\n",
    "# Do the Grid Search\n",
    "model.fit(tf_documents)\n",
    "GridSearchCV(cv=None, error_score='raise',\n",
    "       estimator=LatentDirichletAllocation(batch_size=128, doc_topic_prior=None,\n",
    "             evaluate_every=-1, learning_decay=0.7, learning_method=None,\n",
    "             learning_offset=10.0, max_doc_update_iter=100, max_iter=10,\n",
    "             mean_change_tol=0.001, n_components=10, n_jobs=1,\n",
    "             n_topics=None, perp_tol=0.1, random_state=None,\n",
    "             topic_word_prior=None, total_samples=1000000.0, verbose=0),\n",
    "       fit_params=None, iid=True, n_jobs=1,\n",
    "       param_grid={'n_topics': [2,3,4,8,10,13], 'learning_decay': [0.5, 0.7, 0.9]},\n",
    "       pre_dispatch='2*n_jobs', refit=True, return_train_score='warn',\n",
    "       scoring=None, verbose=0)"
   ]
  },
  {
   "cell_type": "markdown",
   "id": "d67918e1",
   "metadata": {},
   "source": [
    "# Visualizing Topics with pyLDAvis\n",
    "\n",
    "pyLDAvis is designed to help users interpret the topics in a topic model that has been fit to a corpus of text data. The package extracts information from a fitted LDA topic model to inform an interactive web-based visualization."
   ]
  },
  {
   "cell_type": "code",
   "execution_count": 111,
   "id": "6d26a9f2",
   "metadata": {},
   "outputs": [],
   "source": [
    "#pip install pyLDAvis\n",
    "import spacy \n",
    "from spacy import displacy\n",
    "\n",
    "import gensim\n",
    "from gensim.corpora import Dictionary\n",
    "from gensim.models import LdaModel, CoherenceModel, LsiModel, HdpModel\n",
    "import warnings\n",
    "warnings.filterwarnings(\"ignore\")\n",
    "from nltk.corpus import stopwords"
   ]
  },
  {
   "cell_type": "code",
   "execution_count": 112,
   "id": "9e9c03ef",
   "metadata": {},
   "outputs": [],
   "source": [
    "stop = stopwords.words('english')"
   ]
  },
  {
   "cell_type": "code",
   "execution_count": 113,
   "id": "40b63ec5",
   "metadata": {},
   "outputs": [],
   "source": [
    "df['no_stop']= df['preprocessed'].apply(lambda x: [item for item in x if item not in stop])"
   ]
  },
  {
   "cell_type": "code",
   "execution_count": 115,
   "id": "0596ecdc",
   "metadata": {},
   "outputs": [],
   "source": [
    "texts= df['no_stop']\n",
    "\n",
    "dictionary = Dictionary(texts)\n",
    "corpus = [dictionary.doc2bow(text) for text in texts]"
   ]
  },
  {
   "cell_type": "code",
   "execution_count": 116,
   "id": "6ca1074f",
   "metadata": {},
   "outputs": [
    {
     "data": {
      "text/plain": [
       "[(0,\n",
       "  '0.040*\"born\" + 0.032*\"player\" + 0.028*\"football\" + 0.020*\"former\" + 0.012*\"plays\" + 0.009*\"may\" + 0.007*\"italian\" + 0.007*\"spanish\" + 0.006*\"battle\" + 0.005*\"types\"'),\n",
       " (1,\n",
       "  '0.022*\"used\" + 0.018*\"also\" + 0.014*\"name\" + 0.013*\"called\" + 0.012*\"many\" + 0.010*\"like\" + 0.009*\"people\" + 0.009*\"often\" + 0.009*\"different\" + 0.008*\"one\"'),\n",
       " (2,\n",
       "  '0.024*\"team\" + 0.022*\"national\" + 0.019*\"university\" + 0.014*\"football\" + 0.012*\"language\" + 0.011*\"japanese\" + 0.010*\"club\" + 0.009*\"league\" + 0.008*\"church\" + 0.007*\"world\"'),\n",
       " (3,\n",
       "  '0.072*\"france\" + 0.071*\"found\" + 0.062*\"region\" + 0.056*\"department\" + 0.042*\"commune\" + 0.026*\"de\" + 0.016*\"la\" + 0.013*\"ã\" + 0.011*\"calvados\" + 0.010*\"aisne\"'),\n",
       " (4,\n",
       "  '0.020*\"born\" + 0.015*\"american\" + 0.011*\"died\" + 0.010*\"september\" + 0.009*\"first\" + 0.009*\"king\" + 0.009*\"became\" + 0.009*\"november\" + 0.009*\"july\" + 0.009*\"president\"'),\n",
       " (5,\n",
       "  '0.035*\"city\" + 0.030*\"united\" + 0.029*\"states\" + 0.027*\"north\" + 0.017*\"state\" + 0.017*\"south\" + 0.015*\"county\" + 0.014*\"west\" + 0.013*\"part\" + 0.012*\"town\"'),\n",
       " (6,\n",
       "  '0.025*\"people\" + 0.013*\"area\" + 0.012*\"population\" + 0.011*\"country\" + 0.010*\"year\" + 0.010*\"million\" + 0.009*\"km\" + 0.009*\"pakistan\" + 0.009*\"district\" + 0.009*\"largest\"'),\n",
       " (7,\n",
       "  '0.023*\"new\" + 0.013*\"played\" + 0.011*\"york\" + 0.010*\"â\" + 0.010*\"international\" + 0.009*\"first\" + 0.007*\"games\" + 0.006*\"party\" + 0.006*\"minister\" + 0.006*\"hockey\"'),\n",
       " (8,\n",
       "  '0.018*\"first\" + 0.015*\"war\" + 0.014*\"game\" + 0.013*\"world\" + 0.010*\"ii\" + 0.010*\"years\" + 0.009*\"made\" + 0.009*\"time\" + 0.008*\"series\" + 0.007*\"book\"'),\n",
       " (9,\n",
       "  '0.011*\"music\" + 0.010*\"first\" + 0.010*\"one\" + 0.009*\"also\" + 0.009*\"band\" + 0.009*\"album\" + 0.009*\"made\" + 0.008*\"movie\" + 0.007*\"released\" + 0.006*\"said\"')]"
      ]
     },
     "execution_count": 116,
     "metadata": {},
     "output_type": "execute_result"
    }
   ],
   "source": [
    "lda_model = LdaModel(corpus=corpus, num_topics=10, id2word=dictionary)\n",
    "lda_model.show_topics()"
   ]
  },
  {
   "cell_type": "code",
   "execution_count": 117,
   "id": "8c55c9dc",
   "metadata": {},
   "outputs": [
    {
     "data": {
      "text/html": [
       "\n",
       "<link rel=\"stylesheet\" type=\"text/css\" href=\"https://cdn.jsdelivr.net/gh/bmabey/pyLDAvis@3.3.1/pyLDAvis/js/ldavis.v1.0.0.css\">\n",
       "\n",
       "\n",
       "<div id=\"ldavis_el326891402293188131689076010829\"></div>\n",
       "<script type=\"text/javascript\">\n",
       "\n",
       "var ldavis_el326891402293188131689076010829_data = {\"mdsDat\": {\"x\": [-0.1812359162627742, -0.13266833084785545, 0.044892672820062776, 0.043445879666534445, -0.14219584914639175, -0.05366326081779885, 0.0968878651071253, -0.09417476885133247, 0.02380638894888847, 0.39490531938354145], \"y\": [0.007209482372473076, -0.09937302115636641, -0.20093571742268396, 0.21378893736522964, 0.01986711640361934, 0.040941782642185814, 0.28180918813992534, 0.04026612036242909, -0.24049773913139277, -0.06307614957541888], \"topics\": [1, 2, 3, 4, 5, 6, 7, 8, 9, 10], \"cluster\": [1, 1, 1, 1, 1, 1, 1, 1, 1, 1], \"Freq\": [14.055775756536647, 12.946652758669527, 11.59942624906631, 10.997283899876864, 9.917330400297704, 8.796085658741376, 8.736563187009331, 8.715506250795848, 7.830903613073192, 6.404472225933194]}, \"tinfo\": {\"Term\": [\"france\", \"found\", \"region\", \"department\", \"born\", \"city\", \"commune\", \"united\", \"states\", \"player\", \"north\", \"football\", \"people\", \"team\", \"used\", \"new\", \"de\", \"national\", \"former\", \"south\", \"state\", \"university\", \"first\", \"county\", \"west\", \"name\", \"game\", \"war\", \"american\", \"music\", \"music\", \"band\", \"album\", \"movie\", \"rock\", \"song\", \"championship\", \"award\", \"single\", \"big\", \"star\", \"grand\", \"metal\", \"songs\", \"go\", \"race\", \"awards\", \"lead\", \"records\", \"shows\", \"guitar\", \"c\", \"director\", \"lot\", \"points\", \"biggest\", \"baseball\", \"disney\", \"page\", \"radio\", \"film\", \"match\", \"story\", \"released\", \"formula\", \"said\", \"show\", \"best\", \"would\", \"made\", \"one\", \"good\", \"first\", \"series\", \"also\", \"television\", \"two\", \"work\", \"known\", \"called\", \"later\", \"many\", \"time\", \"word\", \"species\", \"person\", \"term\", \"changed\", \"thought\", \"comes\", \"pages\", \"meaning\", \"\\u00f0\", \"light\", \"words\", \"animals\", \"natural\", \"instead\", \"change\", \"latin\", \"numbers\", \"discovered\", \"study\", \"\\u00ee\", \"mean\", \"theory\", \"champion\", \"stage\", \"image\", \"genus\", \"cause\", \"brazil\", \"cell\", \"sometimes\", \"living\", \"similar\", \"done\", \"less\", \"like\", \"plant\", \"usually\", \"used\", \"different\", \"name\", \"often\", \"use\", \"many\", \"common\", \"called\", \"also\", \"given\", \"even\", \"set\", \"family\", \"people\", \"large\", \"small\", \"one\", \"known\", \"make\", \"two\", \"may\", \"number\", \"long\", \"north\", \"south\", \"county\", \"river\", \"west\", \"republic\", \"picardie\", \"station\", \"state\", \"miles\", \"got\", \"killed\", \"railway\", \"road\", \"park\", \"cities\", \"iowa\", \"square\", \"act\", \"mountain\", \"court\", \"romania\", \"districts\", \"bridge\", \"seat\", \"buildings\", \"hill\", \"oklahoma\", \"cathedral\", \"disease\", \"central\", \"states\", \"street\", \"building\", \"d\\u00e3\", \"america\", \"united\", \"northern\", \"city\", \"town\", \"scotland\", \"western\", \"east\", \"capital\", \"line\", \"part\", \"london\", \"school\", \"england\", \"australia\", \"near\", \"germany\", \"located\", \"high\", \"new\", \"area\", \"died\", \"president\", \"northwest\", \"tropical\", \"hurricane\", \"son\", \"storm\", \"house\", \"father\", \"george\", \"switzerland\", \"william\", \"canton\", \"married\", \"wife\", \"mother\", \"henry\", \"women\", \"actress\", \"daughter\", \"peter\", \"federal\", \"chicago\", \"politician\", \"nations\", \"elected\", \"bad\", \"secretary\", \"illinois\", \"rights\", \"army\", \"james\", \"queen\", \"atlantic\", \"berlin\", \"king\", \"office\", \"john\", \"november\", \"september\", \"american\", \"july\", \"march\", \"october\", \"december\", \"august\", \"june\", \"january\", \"born\", \"april\", \"became\", \"february\", \"\\u00e2\", \"first\", \"member\", \"may\", \"later\", \"game\", \"ii\", \"published\", \"japan\", \"emperor\", \"books\", \"websites\", \"lived\", \"makes\", \"orchestra\", \"color\", \"duke\", \"program\", \"says\", \"shown\", \"news\", \"start\", \"never\", \"network\", \"hard\", \"data\", \"tour\", \"dynasty\", \"ever\", \"super\", \"sir\", \"stone\", \"base\", \"older\", \"followed\", \"war\", \"computer\", \"science\", \"site\", \"take\", \"book\", \"age\", \"years\", \"world\", \"series\", \"first\", \"century\", \"time\", \"written\", \"started\", \"made\", \"built\", \"history\", \"one\", \"british\", \"many\", \"also\", \"became\", \"called\", \"language\", \"japanese\", \"loire\", \"wrestling\", \"pays\", \"founded\", \"worked\", \"san\", \"division\", \"playing\", \"languages\", \"club\", \"wales\", \"statistics\", \"half\", \"saint\", \"episode\", \"sports\", \"students\", \"magazine\", \"code\", \"grew\", \"museum\", \"raw\", \"call\", \"beach\", \"zealand\", \"owned\", \"sarthe\", \"santa\", \"team\", \"university\", \"college\", \"official\", \"wwe\", \"association\", \"church\", \"organization\", \"national\", \"currently\", \"league\", \"valley\", \"professional\", \"football\", \"means\", \"company\", \"royal\", \"world\", \"based\", \"new\", \"season\", \"english\", \"american\", \"also\", \"plays\", \"battle\", \"right\", \"energy\", \"stadium\", \"opened\", \"money\", \"player\", \"port\", \"wanted\", \"key\", \"bank\", \"nintendo\", \"lady\", \"animal\", \"writing\", \"brown\", \"wind\", \"korea\", \"source\", \"castle\", \"producer\", \"manager\", \"guitarist\", \"alexander\", \"versions\", \"becomes\", \"african\", \"korean\", \"laws\", \"former\", \"spanish\", \"types\", \"food\", \"italian\", \"football\", \"born\", \"david\", \"left\", \"may\", \"side\", \"paul\", \"february\", \"april\", \"january\", \"august\", \"german\", \"september\", \"july\", \"june\", \"december\", \"march\", \"october\", \"played\", \"minister\", \"hockey\", \"force\", \"put\", \"cup\", \"prime\", \"uk\", \"ice\", \"international\", \"things\", \"scottish\", \"airport\", \"summer\", \"brazilian\", \"nhl\", \"society\", \"police\", \"unit\", \"winter\", \"\\u00e0\", \"hit\", \"child\", \"ground\", \"chess\", \"winds\", \"hand\", \"harry\", \"introduced\", \"rules\", \"attack\", \"york\", \"give\", \"fire\", \"played\", \"new\", \"held\", \"games\", \"party\", \"\\u00e2\", \"list\", \"first\", \"place\", \"time\", \"world\", \"times\", \"one\", \"season\", \"league\", \"two\", \"also\", \"population\", \"pakistan\", \"india\", \"lake\", \"land\", \"village\", \"total\", \"art\", \"sold\", \"greek\", \"full\", \"windows\", \"divided\", \"los\", \"census\", \"blood\", \"netherlands\", \"changes\", \"cells\", \"starting\", \"angeles\", \"worldwide\", \"feet\", \"date\", \"seasons\", \"copies\", \"object\", \"armenian\", \"week\", \"mythology\", \"africa\", \"native\", \"country\", \"million\", \"km\", \"countries\", \"people\", \"area\", \"empire\", \"europe\", \"largest\", \"island\", \"year\", \"live\", \"district\", \"province\", \"coast\", \"around\", \"sea\", \"council\", \"ancient\", \"day\", \"city\", \"one\", \"part\", \"france\", \"region\", \"department\", \"commune\", \"\\u00e3\", \"calvados\", \"aisne\", \"roman\", \"gironde\", \"aquitaine\", \"florida\", \"writer\", \"bc\", \"prize\", \"paris\", \"plants\", \"la\", \"\\u00f8\", \"belgian\", \"pope\", \"inside\", \"places\", \"cross\", \"nobel\", \"border\", \"partement\", \"\\u00f9\", \"flag\", \"le\", \"told\", \"found\", \"southwest\", \"de\", \"asia\", \"province\", \"municipality\", \"located\", \"southern\", \"french\", \"italy\"], \"Freq\": [19854.0, 19832.0, 17086.0, 15583.0, 24398.0, 19975.0, 11664.0, 16719.0, 14810.0, 12045.0, 13448.0, 15744.0, 14662.0, 9015.0, 13952.0, 15043.0, 7841.0, 9875.0, 7692.0, 8619.0, 8626.0, 7076.0, 23381.0, 7603.0, 7098.0, 9755.0, 6086.0, 6748.0, 11334.0, 6931.0, 6930.119571177845, 5506.142691930048, 5498.226500667247, 4661.77983117029, 3497.168965413682, 3407.9291192973915, 3478.872332709664, 2512.3444109785096, 2513.277427080544, 2322.654929658458, 1816.4221744000156, 1779.6836032055971, 1713.5748520973711, 1705.1791234147931, 1651.991823903022, 1527.122885666894, 1512.1609216238521, 1504.3825300980395, 1483.3202722512567, 1691.8461137138283, 1445.8115520642966, 1393.7916556686564, 1421.4852957197006, 1326.3948381597008, 1304.3620339639133, 1291.7673079514586, 1270.4691052312712, 1244.232205256962, 1239.2891176720625, 1316.1915678088976, 3467.866198320847, 2068.1522696803045, 2136.068137586036, 4336.7146419453575, 1609.6220161802025, 3531.5146647107144, 3334.3820148632594, 3245.599896136431, 3098.0810997948975, 5408.332920135809, 6287.940506637001, 1996.2569209835785, 6358.738131015744, 3004.2166775104465, 5629.384092059834, 2333.5389845269424, 3425.001274585169, 2321.640480001677, 3151.257069420791, 2776.2429453151017, 2225.295520827861, 2475.3526168347225, 2069.7337801252684, 3650.358444528603, 3435.9205811999163, 2994.109606930728, 2580.98759258768, 2081.3242582124385, 2061.934431618851, 2022.2321180206382, 1935.785112066938, 1927.0063367691132, 1825.9574764721683, 1533.096348066699, 1545.283996807363, 1518.3837431665522, 1485.2661958949757, 1480.4950514677657, 1531.9664054001646, 1456.838654244492, 1425.8234108304387, 1390.462414704203, 1784.966334249463, 1360.91510535001, 1242.919453123395, 1241.2865020382326, 1238.2614073214315, 1138.3581434799826, 1129.5300587469292, 1444.7509288566985, 1080.2257762238814, 1077.8584667640648, 1013.19873040752, 3735.8578744571696, 2215.634941535888, 2069.140262022532, 1292.3640327300097, 1737.191100787346, 5383.783635036547, 1416.1592833186023, 4254.123519392996, 12057.397737059693, 4802.4206975548905, 7814.297876749834, 4819.0283240570625, 4491.430003015472, 6819.526199690653, 2510.0331415691307, 7275.554466887599, 10005.44272635201, 2602.0935962444087, 2294.8598110557386, 2149.830065292692, 2986.6664911760395, 5186.518239095059, 2547.424303675426, 2737.2677164773236, 4680.70048714138, 3605.5643447259536, 2433.466546311418, 3069.8095040729418, 2702.01068759944, 2336.8766678001434, 2195.910906547973, 13447.214604339444, 8617.916397387433, 7602.187538801447, 5543.032128945775, 7096.675545742936, 2857.5216381004607, 2744.5815578290913, 2645.9744152590324, 8622.233248776385, 1917.7159993741573, 1756.673576932326, 1746.3760584631402, 1730.2449001783768, 1657.0162062222105, 2392.664670574025, 1524.6581252464464, 1511.0323910256036, 1304.8869592375113, 1275.2802495896808, 1270.1046093766533, 1269.1919417218903, 1084.1400137114015, 1084.0604226404712, 1056.901050768379, 1042.6189531784557, 1066.1627165772798, 963.2487153298167, 946.1495496368607, 945.0885691054303, 902.1701067522548, 3146.620951220887, 14540.81695620745, 1415.2228570676673, 1633.231916503307, 1545.0577491589802, 3017.965549713755, 15109.071490408624, 2617.350146936076, 17441.33436869254, 6206.45327422502, 1832.3905145009787, 2590.248043235431, 4933.465972095808, 4099.8882333257625, 2700.327286158447, 6615.686484941183, 3375.2233367623116, 3312.34755946567, 3625.41652418238, 2631.6225439989985, 2677.1002508098736, 2717.8644364891575, 2799.978345682321, 2398.054891119252, 3479.1089685063653, 2533.6617136495624, 5465.567998469293, 4123.267599561059, 4087.7354248936767, 3189.3640445598608, 2941.124598622196, 2939.2721315968324, 2902.0794071721766, 2785.174975675026, 2767.890897646296, 2657.0757395617443, 2533.471932759325, 2306.041548760599, 2232.035502177997, 2196.4913603830432, 1949.8289159231256, 1880.5328204937775, 1838.0946159570458, 1584.8178957657005, 1593.6119616229178, 1488.8564915522472, 1291.0795416081726, 1285.4961009489402, 1192.2609856870388, 1191.6312710019602, 1187.43823327575, 1141.426068251156, 1134.2285058573577, 1054.1379505518378, 1038.7395815695027, 1033.6023596392533, 2468.7944837321306, 2530.7915177967966, 1911.546296435575, 1416.0479333739459, 1484.0043753557136, 4407.512143318651, 1569.6788145474134, 4022.1373934973763, 4290.42576715972, 4983.484674608507, 7058.192782874304, 4272.573028957873, 4059.6343932212094, 4046.9700696620002, 3882.0878724366476, 4067.370476355722, 4071.928179052651, 3851.9426780842, 9303.564097436352, 3629.0759803461888, 4358.768259812404, 3254.7881093794285, 3412.2491362161763, 4518.479328246055, 2629.5039208641024, 2961.751494285881, 2806.1637661410105, 6085.819594107299, 4140.19144109418, 2741.062610750953, 2985.651794171915, 2298.7492149941327, 2324.09007413537, 2165.826567154416, 1796.3683162979478, 1715.317497200457, 1642.3107656025866, 1594.895805603085, 1468.7167173340486, 1503.6611983112073, 1378.2370457704185, 1325.2107799046396, 1295.6644641043667, 1271.655609365186, 1493.1735372446037, 1580.660845430591, 1192.1061680727137, 1189.533391077984, 1203.84739217186, 1148.5273407810098, 1141.5541528445428, 1128.243801579193, 1122.5067896710711, 1077.729857894697, 1038.0261341822688, 1067.3098462639666, 999.3592355017789, 6280.317817687269, 1723.1136700022903, 1783.1957620371315, 1211.0359191545708, 1596.5984329854282, 3132.512224307778, 1990.5142032296317, 4077.7301273929493, 5722.148217889382, 3431.6518343705557, 7619.76545634532, 2604.4962863533524, 3668.4624318445053, 2139.6095628821035, 2558.4772829552558, 3988.6674966714468, 2067.5286392951148, 2223.0098259031615, 2718.4840869203267, 2017.4994332966185, 2022.8286500085817, 2049.7843021833696, 1795.8566987031595, 1807.0299473318416, 4395.63753894434, 4220.207232482528, 2381.125255063988, 2376.7472168875465, 2376.2354797234757, 2543.670845745991, 2141.9561084162565, 2130.9485303460106, 1981.2550403976832, 1928.3481178976692, 1562.1995566100732, 3733.3943448627747, 1517.1124459320715, 1372.7786361465464, 1333.5874040800186, 1306.0597733758136, 1267.758364850552, 1262.9477341736206, 1182.3808596001675, 1159.9729048605827, 1070.6828348639094, 1052.6682509175625, 1043.3485014847545, 1009.9412996921427, 990.186419425447, 986.9226991159719, 980.2399825165138, 974.2459042552669, 957.5958345759855, 949.8546356504972, 8988.930765734001, 7064.672822779503, 2776.0787515255824, 2172.8838576799376, 1875.1175265159115, 1361.3296914193777, 3042.827464793373, 1316.5466628698705, 8221.189596283988, 1797.3481897990391, 3430.5405982688912, 1448.967561171401, 2015.8918648806862, 5146.3341561869665, 1931.2815222371942, 1993.5897317853517, 1751.9407780973188, 2854.352380667734, 1880.398150642976, 2737.2517798927797, 1912.6374147237543, 1893.890498912718, 1992.7342958470745, 2068.5180143748503, 4678.0106609416325, 2444.516872971331, 1761.7816331891415, 1689.4135523483371, 1639.9597153013033, 1576.8187403837699, 1511.900478034536, 12034.52217854483, 1294.5574152643658, 1186.1775650038444, 1165.8658721223187, 1154.48269383329, 1139.672141291995, 1134.0158074033698, 1112.358869027478, 1064.069555776084, 1045.2444815248978, 979.6283323624633, 962.6011441194522, 949.9257132550217, 923.5765247919898, 927.4296909861648, 891.9776922835447, 848.7456816690315, 955.7751808051207, 791.7751247709374, 1218.3328231614119, 787.0902690445827, 784.4887744695928, 773.3314762969459, 7660.319745967754, 2526.793925433572, 2067.3419729474854, 1867.9996892571073, 2646.7906686008123, 10597.335906394668, 15093.456559606006, 1412.0357623873506, 1946.9427652860531, 3322.2887657921237, 1292.5449167371971, 1257.80753018765, 1909.5494827928787, 1938.0910112007598, 1873.304791008413, 1705.5892447356355, 1619.131913642558, 1685.130809003756, 1615.9979370628948, 1586.2074659070709, 1472.720225018156, 1472.3173203834413, 1412.6855858554443, 1381.0510139365351, 2347.5940226909343, 2195.161009004411, 2042.0391670960423, 2039.2318671730484, 2041.6569921315506, 1778.410801930156, 1719.3187543644058, 1662.108426729521, 3748.24981194764, 1509.3598025599133, 1470.06120409148, 1414.216502116708, 1397.7973804574863, 1908.6941770726078, 1322.5117225626648, 1313.106284282124, 1233.1623421119293, 1208.302088993188, 1158.9432966065187, 1148.3618272771562, 1124.5182192788006, 1122.5988263103047, 1084.7220557026446, 1059.4885848451418, 998.720482276568, 996.6585640398346, 945.9026200711197, 948.687878193542, 942.6298956739059, 977.4735915806064, 4272.0451892462315, 1264.9833255984167, 1431.3695893901806, 5046.355201977836, 8524.733638057467, 2159.136100908516, 2492.704767790775, 2392.2851344968076, 3816.2312913391165, 1560.5995245340014, 3300.957221451925, 1658.5543400652502, 2106.425813227769, 1648.0585790918951, 1340.2795214058622, 1425.1805854902545, 1366.1443888614108, 1361.4943592842596, 1384.6083924652905, 1377.815390540141, 4183.309633856951, 3038.4051981175517, 2850.1360907171747, 2510.4052593453644, 2631.32132886151, 2425.475983775728, 1881.9329755665372, 1853.8869629192818, 1821.619806413248, 2284.2209727147565, 1313.7447457949395, 1302.7979242935894, 1300.2772943314872, 1286.9433464646002, 1283.2505359879738, 1238.139654927973, 1207.281703052351, 1177.1960521242363, 1131.6149101685323, 1079.0105479800395, 1075.7535178602868, 941.6785858677853, 941.5831134376174, 937.9681800589875, 904.3123336596024, 877.1930348076545, 867.010781775996, 830.1615798445819, 826.2653578597135, 820.438304603243, 1969.3237039721387, 1010.1331073265158, 3785.23252319898, 3226.214459796426, 3082.3020012577235, 2654.681144341384, 8480.541705560327, 4456.6520934034, 1938.4723799346443, 2305.237689610939, 2896.5912393745066, 2730.316770605437, 3295.230769439285, 2101.3543424165246, 2951.8784557535523, 2516.6744051854967, 1538.0365479316822, 2173.503252408578, 1807.7093944349506, 1590.4266100207237, 1559.183927922376, 1824.74861942637, 2532.7309742717007, 2368.4233953697594, 1865.23319057064, 19853.618532917204, 17085.187701824965, 15582.633934394133, 11663.655728109492, 3623.9580570350054, 2914.7322521099795, 2858.8019839010103, 2793.701435564204, 2095.154114296358, 1908.7319756202105, 1825.4285748118994, 1834.7206882558157, 1621.4047484802388, 1587.627623143777, 1569.3164887313928, 1524.818805944275, 4307.316738857857, 1348.1366213972071, 1253.8991967136692, 1216.8120511892007, 1165.697941726122, 1150.0342297848488, 1135.7403682851675, 1107.3858579999517, 1094.8091493291167, 1087.8909786987147, 1048.14305291901, 991.693444388111, 988.3425764834313, 876.3292967078878, 19785.04083076493, 2409.0808841028565, 7248.801470583043, 1655.2154296029084, 2423.171733095978, 1817.9084650012085, 1934.7307406528942, 1535.2205834259532, 1482.9393779064103, 1235.0198079679205], \"Total\": [19854.0, 19832.0, 17086.0, 15583.0, 24398.0, 19975.0, 11664.0, 16719.0, 14810.0, 12045.0, 13448.0, 15744.0, 14662.0, 9015.0, 13952.0, 15043.0, 7841.0, 9875.0, 7692.0, 8619.0, 8626.0, 7076.0, 23381.0, 7603.0, 7098.0, 9755.0, 6086.0, 6748.0, 11334.0, 6931.0, 6931.29981493015, 5507.32289682679, 5499.406688715416, 4662.960729053844, 3498.349186903376, 3409.109332690728, 3480.284085820152, 2513.5246614793896, 2514.4582017570724, 2323.8353039269505, 1817.6024648825644, 1780.864005529956, 1714.755059846068, 1706.3593332952537, 1653.172333075852, 1528.3031625764213, 1513.3411410702533, 1505.5642426415397, 1484.5005161416186, 1693.2150651186562, 1446.991739196995, 1394.9719316277835, 1422.725795186242, 1327.5751873510997, 1305.5442415997074, 1292.9476917647369, 1271.6495227746689, 1245.4124126725385, 1240.4695163453812, 1317.4889776058471, 3479.8215441821885, 2072.1734665978374, 2235.3232693007135, 4940.73357917029, 1655.43347252705, 4114.28945797085, 4054.6852273242857, 4091.325614158426, 4834.102308753755, 14146.297990508998, 20063.029247910268, 2527.65090838883, 23381.302062354564, 6453.664104327092, 25568.093545763633, 3774.334603453474, 12659.99682139565, 4488.389040483369, 13528.565033159355, 15397.681209506209, 6460.350195791096, 12825.927492709994, 10098.996560265054, 3651.537426228821, 3437.099083361433, 2995.287956013071, 2582.190072481368, 2082.502925712327, 2063.116641708906, 2023.4103724328345, 1936.9633255660033, 1928.1847140182917, 1827.1356367630376, 1534.2746306581805, 1546.4774122342185, 1519.5657744694267, 1486.4444606220272, 1481.6734064753869, 1533.2035953205002, 1458.0171274444035, 1427.001944112541, 1391.640829861088, 1786.5000279245828, 1362.0932648850783, 1244.0976970105257, 1242.4647533696734, 1239.4398436598672, 1139.5364796960953, 1130.7083167379615, 1446.270956478551, 1081.4040803322148, 1079.0369429963591, 1014.3769813819441, 3742.0208066713426, 2219.603368544428, 2078.793205517002, 1294.3670058038451, 1747.2409177377742, 5618.695638476096, 1422.4605707876149, 4441.779250078921, 13952.50648719094, 5570.218035966055, 9755.08403438736, 5639.269164052879, 5921.056506198908, 12825.927492709994, 3165.15890392745, 15397.681209506209, 25568.093545763633, 3455.2366811962056, 2961.4120835688773, 2810.50350054544, 5138.889453743544, 14662.161302128388, 3991.815194876254, 4745.811813117362, 20063.029247910268, 13528.565033159355, 4271.415543031244, 12659.99682139565, 10816.779508880314, 4837.585173485208, 3565.9487827537046, 13448.46988229519, 8619.226340137977, 7603.369731559043, 5544.214370593453, 7098.788582862378, 2858.703920639228, 2745.763900129994, 2647.156663685846, 8626.541828444644, 1918.898254980737, 1757.8559923691316, 1747.5584104997763, 1731.4271203585822, 1658.1986159986986, 2394.4455531744547, 1525.8404919600018, 1512.2145402712379, 1306.072450509666, 1276.4625659163228, 1271.2910128258345, 1270.4810638635859, 1085.3222558574537, 1085.253466925835, 1058.0833601241677, 1043.8011320347416, 1067.4497144391921, 964.4423954744192, 947.3317336476813, 946.2708262156359, 903.3525015509846, 3154.032485208645, 14810.455963779337, 1418.1747720467229, 1640.2916994712937, 1557.6904389343028, 3093.798666891566, 16719.95968565573, 2700.7145854662613, 19975.122827550018, 6752.7867481473195, 1892.0286399787665, 2800.2748487727185, 5815.5197676624175, 5328.379593671918, 3180.1680238704876, 10140.621512031259, 4624.921173995373, 4777.550046207746, 5481.7454324692935, 3539.1379919590363, 3950.858322325578, 4448.940611373733, 5615.22568428319, 3774.247663913253, 15043.104986607592, 6991.359744811964, 5466.783272821954, 4124.4490437492095, 4088.9172347225576, 3190.5454792511587, 2942.3060087487925, 2940.4536727068476, 2903.260849797672, 2786.356715047779, 2769.0723940649473, 2658.257218396127, 2534.653350660751, 2307.2280603112677, 2233.2168880485783, 2197.6728000519047, 1951.010373254623, 1881.7143330582962, 1839.2789793798229, 1585.9994467198974, 1594.8048575635237, 1490.037944480471, 1292.2610640132996, 1286.6776799748686, 1193.4425511237932, 1192.812720306522, 1188.6198292010363, 1142.6075183349299, 1135.410138495255, 1055.3193960220483, 1039.921069645976, 1034.7921614092738, 2471.9170939286537, 2536.249395021083, 1919.0318960682464, 1427.2479339346423, 1506.5455532983526, 4818.489163353629, 1603.2298490977685, 4834.19149406278, 5394.232747025653, 6696.238807301078, 11334.502166613063, 5914.463067296441, 5599.207859733861, 5665.63020702402, 5366.989290113245, 5782.920118141843, 5815.391986253725, 5745.735648441515, 24398.12599689237, 5596.540057363794, 9709.742452889857, 5330.4359154826025, 7459.115910371808, 23381.302062354564, 3457.9901025234403, 10816.779508880314, 6460.350195791096, 6086.999970572513, 4141.3747935540705, 2742.2517300032446, 2987.0821714726003, 2299.9296009035315, 2325.299600469692, 2167.0068533482445, 1797.559425670525, 1716.497947714774, 1643.4910850676326, 1596.0762079170217, 1469.8971684017622, 1504.9210807637019, 1379.4175418902137, 1326.3912228478944, 1296.8449138062845, 1272.836044204407, 1494.5669135731068, 1582.2018160951113, 1193.2866370738661, 1190.7216889126796, 1205.0708698212834, 1149.7076917305865, 1142.7346151220927, 1129.4241387485677, 1123.6872271612003, 1078.9102999522609, 1039.2066159100425, 1068.5310141997315, 1000.5396843522957, 6748.791128760695, 1801.9745943029122, 1937.5036883121732, 1248.7968448274169, 1792.133231650305, 4377.611775405991, 2442.835311131837, 7443.250391888445, 12481.860222382773, 6453.664104327092, 23381.302062354564, 4504.246885698973, 10098.996560265054, 3516.4608745368955, 5260.585621481781, 14146.297990508998, 3407.3302609783063, 4495.440133901976, 20063.029247910268, 5971.846040517772, 12825.927492709994, 25568.093545763633, 9709.742452889857, 15397.681209506209, 4396.81286587484, 4221.391290956572, 2382.3006343851553, 2377.9224773607257, 2377.4108583370653, 2544.9328426994634, 2143.133831656086, 2132.138218422091, 1982.4318417625993, 1929.5235025860095, 1563.374873793716, 3736.2111158056928, 1518.2878803146962, 1373.9539011909353, 1334.7628705319971, 1307.2351272097364, 1268.9339325456215, 1264.1230647650855, 1183.5562184742703, 1161.2136347795051, 1071.8582214986823, 1053.843723145736, 1044.524004155471, 1011.1170824062426, 991.3619470047657, 988.0980849269621, 981.4155825542356, 975.4221788078156, 958.7711525313601, 951.0307327490679, 9015.853234261866, 7076.732765470455, 2786.432221153283, 2176.7808351222243, 1883.3953563288294, 1365.0292013736146, 3205.2774324686466, 1332.91775156454, 9875.004961039029, 2032.1577921397802, 4793.079982466072, 1565.217444698063, 2713.120987749279, 15744.711147479806, 3355.856533339418, 3647.384505515329, 2774.596007723847, 12481.860222382773, 3689.1749761304764, 15043.104986607592, 5154.365517643197, 6986.57882576339, 11334.502166613063, 25568.093545763633, 4679.186059622254, 2445.6923623253992, 1762.95710608939, 1690.5889945558504, 1641.1351474016801, 1577.9943326208345, 1513.1428524407388, 12045.082611735997, 1295.7329128734675, 1187.3531036397565, 1167.041307693564, 1155.6582111747668, 1140.8476948909304, 1135.191322123975, 1113.5398177151417, 1065.2450491375853, 1046.419962120271, 980.8038024285082, 963.7766157192727, 951.1014948371795, 924.7519987420447, 928.614396390124, 893.1541512306231, 849.921116189317, 957.1792392691824, 792.9506187255032, 1220.1439390970656, 788.265907935097, 785.6642045805456, 774.506973057464, 7692.483348346885, 2535.1734589135485, 2073.7159128480494, 1873.056084310258, 2698.9943224496815, 15744.711147479806, 24398.12599689237, 1714.2450367365752, 2927.4303144775336, 10816.779508880314, 1733.161294527922, 1806.26434718257, 5330.4359154826025, 5596.540057363794, 5745.735648441515, 5782.920118141843, 5483.244294526404, 6696.238807301078, 5914.463067296441, 5815.391986253725, 5366.989290113245, 5599.207859733861, 5665.63020702402, 6428.454941788292, 2348.770262823715, 2196.337220620887, 2043.2154475503849, 2040.4082069206881, 2042.8349313290546, 1779.587026821722, 1720.4950690208009, 1663.2846845183299, 3751.0258995311237, 1510.536131651104, 1471.261390031983, 1415.393932810986, 1398.9736958791318, 1910.3689157502645, 1323.687931346303, 1314.2826520822834, 1234.33860176807, 1209.500674030541, 1160.1195164036121, 1149.5379937758355, 1125.6945312662426, 1123.7750919738917, 1085.8983587115006, 1060.6648444967545, 999.8968567590545, 997.8348607689779, 947.0788488318901, 949.8684254293107, 943.8062278634777, 978.6986709990734, 4294.140631899048, 1268.049539947113, 1482.5781181411792, 6428.454941788292, 15043.104986607592, 2794.8875961804183, 3655.030212007357, 3523.192770906175, 7459.115910371808, 2072.445903029559, 23381.302062354564, 3875.6960533816964, 10098.996560265054, 12481.860222382773, 3070.091742397363, 20063.029247910268, 5154.365517643197, 4793.079982466072, 12659.99682139565, 25568.093545763633, 4184.48280087779, 3039.5783626599177, 2851.309704908759, 2511.578691696901, 2632.6052241805733, 2426.6609884981403, 1883.10627294501, 1855.0619996891617, 1822.7930508488948, 2286.1208302730647, 1314.9180938929687, 1303.9711796140327, 1301.4505657769269, 1288.116547826716, 1284.4237120615032, 1239.312893856561, 1208.4549590792903, 1178.3694967553524, 1132.7881174129636, 1080.1838241325297, 1076.9267021905778, 942.8519219394731, 942.7576047600459, 939.1417429045252, 905.4857197119745, 878.3662263024596, 868.1910427740419, 831.3348366363405, 827.4387031741094, 821.6115356794907, 1972.295393238684, 1013.465308150544, 3963.4925781075804, 3890.500741404128, 3743.352412196635, 3255.81305880801, 14662.161302128388, 6991.359744811964, 2385.797365397485, 3062.8725779775386, 4520.201978197313, 4341.022778167531, 6646.244364654683, 3469.007949795707, 6705.185586593022, 4940.893231773487, 1935.7857166885956, 4773.100957708521, 3144.804916098946, 2225.7485327894915, 2134.382462269206, 3950.4920312401687, 19975.122827550018, 20063.029247910268, 10140.621512031259, 19854.801927169596, 17086.37109646917, 15583.817316633891, 11664.839097395648, 3625.1414926048537, 2915.915617007919, 2859.985351242388, 2794.950847892748, 2096.3374755716695, 1909.9153406129615, 1826.6121906561195, 1835.9454250828992, 1622.5884790157097, 1588.811091204065, 1570.5001016817064, 1526.0023150539205, 4311.059860088063, 1349.3200096858661, 1255.0825806594994, 1217.9955618993222, 1166.881528149339, 1151.2178249395906, 1136.9239452875013, 1108.5702779309581, 1095.9933809613221, 1089.0743564711754, 1049.3264458358942, 992.8770084013179, 989.5260023097376, 877.5128761504075, 19832.0185663085, 2412.4176383242284, 7841.250267640937, 1716.0565833368303, 4940.893231773487, 3670.5324670175896, 5615.22568428319, 3335.256421806092, 4911.649308725138, 2115.386428148137], \"Category\": [\"Default\", \"Default\", \"Default\", \"Default\", \"Default\", \"Default\", \"Default\", \"Default\", \"Default\", \"Default\", \"Default\", \"Default\", \"Default\", \"Default\", \"Default\", \"Default\", \"Default\", \"Default\", \"Default\", \"Default\", \"Default\", \"Default\", \"Default\", \"Default\", \"Default\", \"Default\", \"Default\", \"Default\", \"Default\", \"Default\", \"Topic1\", \"Topic1\", \"Topic1\", \"Topic1\", \"Topic1\", \"Topic1\", \"Topic1\", \"Topic1\", \"Topic1\", \"Topic1\", \"Topic1\", \"Topic1\", \"Topic1\", \"Topic1\", \"Topic1\", \"Topic1\", \"Topic1\", \"Topic1\", \"Topic1\", \"Topic1\", \"Topic1\", \"Topic1\", \"Topic1\", \"Topic1\", \"Topic1\", \"Topic1\", \"Topic1\", \"Topic1\", \"Topic1\", \"Topic1\", \"Topic1\", \"Topic1\", \"Topic1\", \"Topic1\", \"Topic1\", \"Topic1\", \"Topic1\", \"Topic1\", \"Topic1\", \"Topic1\", \"Topic1\", \"Topic1\", \"Topic1\", \"Topic1\", \"Topic1\", \"Topic1\", \"Topic1\", \"Topic1\", \"Topic1\", \"Topic1\", \"Topic1\", \"Topic1\", \"Topic1\", \"Topic2\", \"Topic2\", \"Topic2\", \"Topic2\", \"Topic2\", \"Topic2\", \"Topic2\", \"Topic2\", \"Topic2\", \"Topic2\", \"Topic2\", \"Topic2\", \"Topic2\", \"Topic2\", \"Topic2\", \"Topic2\", \"Topic2\", \"Topic2\", \"Topic2\", \"Topic2\", \"Topic2\", \"Topic2\", \"Topic2\", \"Topic2\", \"Topic2\", \"Topic2\", \"Topic2\", \"Topic2\", \"Topic2\", \"Topic2\", \"Topic2\", \"Topic2\", \"Topic2\", \"Topic2\", \"Topic2\", \"Topic2\", \"Topic2\", \"Topic2\", \"Topic2\", \"Topic2\", \"Topic2\", \"Topic2\", \"Topic2\", \"Topic2\", \"Topic2\", \"Topic2\", \"Topic2\", \"Topic2\", \"Topic2\", \"Topic2\", \"Topic2\", \"Topic2\", \"Topic2\", \"Topic2\", \"Topic2\", \"Topic2\", \"Topic2\", \"Topic2\", \"Topic2\", \"Topic2\", \"Topic2\", \"Topic3\", \"Topic3\", \"Topic3\", \"Topic3\", \"Topic3\", \"Topic3\", \"Topic3\", \"Topic3\", \"Topic3\", \"Topic3\", \"Topic3\", \"Topic3\", \"Topic3\", \"Topic3\", \"Topic3\", \"Topic3\", \"Topic3\", \"Topic3\", \"Topic3\", \"Topic3\", \"Topic3\", \"Topic3\", \"Topic3\", \"Topic3\", \"Topic3\", \"Topic3\", \"Topic3\", \"Topic3\", \"Topic3\", \"Topic3\", \"Topic3\", \"Topic3\", \"Topic3\", \"Topic3\", \"Topic3\", \"Topic3\", \"Topic3\", \"Topic3\", \"Topic3\", \"Topic3\", \"Topic3\", \"Topic3\", \"Topic3\", \"Topic3\", \"Topic3\", \"Topic3\", \"Topic3\", \"Topic3\", \"Topic3\", \"Topic3\", \"Topic3\", \"Topic3\", \"Topic3\", \"Topic3\", \"Topic3\", \"Topic3\", \"Topic4\", \"Topic4\", \"Topic4\", \"Topic4\", \"Topic4\", \"Topic4\", \"Topic4\", \"Topic4\", \"Topic4\", \"Topic4\", \"Topic4\", \"Topic4\", \"Topic4\", \"Topic4\", \"Topic4\", \"Topic4\", \"Topic4\", \"Topic4\", \"Topic4\", \"Topic4\", \"Topic4\", \"Topic4\", \"Topic4\", \"Topic4\", \"Topic4\", \"Topic4\", \"Topic4\", \"Topic4\", \"Topic4\", \"Topic4\", \"Topic4\", \"Topic4\", \"Topic4\", \"Topic4\", \"Topic4\", \"Topic4\", \"Topic4\", \"Topic4\", \"Topic4\", \"Topic4\", \"Topic4\", \"Topic4\", \"Topic4\", \"Topic4\", \"Topic4\", \"Topic4\", \"Topic4\", \"Topic4\", \"Topic4\", \"Topic4\", \"Topic4\", \"Topic4\", \"Topic4\", \"Topic4\", \"Topic4\", \"Topic4\", \"Topic4\", \"Topic5\", \"Topic5\", \"Topic5\", \"Topic5\", \"Topic5\", \"Topic5\", \"Topic5\", \"Topic5\", \"Topic5\", \"Topic5\", \"Topic5\", \"Topic5\", \"Topic5\", \"Topic5\", \"Topic5\", \"Topic5\", \"Topic5\", \"Topic5\", \"Topic5\", \"Topic5\", \"Topic5\", \"Topic5\", \"Topic5\", \"Topic5\", \"Topic5\", \"Topic5\", \"Topic5\", \"Topic5\", \"Topic5\", \"Topic5\", \"Topic5\", \"Topic5\", \"Topic5\", \"Topic5\", \"Topic5\", \"Topic5\", \"Topic5\", \"Topic5\", \"Topic5\", \"Topic5\", \"Topic5\", \"Topic5\", \"Topic5\", \"Topic5\", \"Topic5\", \"Topic5\", \"Topic5\", \"Topic5\", \"Topic5\", \"Topic5\", \"Topic5\", \"Topic5\", \"Topic5\", \"Topic5\", \"Topic6\", \"Topic6\", \"Topic6\", \"Topic6\", \"Topic6\", \"Topic6\", \"Topic6\", \"Topic6\", \"Topic6\", \"Topic6\", \"Topic6\", \"Topic6\", \"Topic6\", \"Topic6\", \"Topic6\", \"Topic6\", \"Topic6\", \"Topic6\", \"Topic6\", \"Topic6\", \"Topic6\", \"Topic6\", \"Topic6\", \"Topic6\", \"Topic6\", \"Topic6\", \"Topic6\", \"Topic6\", \"Topic6\", \"Topic6\", \"Topic6\", \"Topic6\", \"Topic6\", \"Topic6\", \"Topic6\", \"Topic6\", \"Topic6\", \"Topic6\", \"Topic6\", \"Topic6\", \"Topic6\", \"Topic6\", \"Topic6\", \"Topic6\", \"Topic6\", \"Topic6\", \"Topic6\", \"Topic6\", \"Topic6\", \"Topic6\", \"Topic6\", \"Topic6\", \"Topic6\", \"Topic6\", \"Topic7\", \"Topic7\", \"Topic7\", \"Topic7\", \"Topic7\", \"Topic7\", \"Topic7\", \"Topic7\", \"Topic7\", \"Topic7\", \"Topic7\", \"Topic7\", \"Topic7\", \"Topic7\", \"Topic7\", \"Topic7\", \"Topic7\", \"Topic7\", \"Topic7\", \"Topic7\", \"Topic7\", \"Topic7\", \"Topic7\", \"Topic7\", \"Topic7\", \"Topic7\", \"Topic7\", \"Topic7\", \"Topic7\", \"Topic7\", \"Topic7\", \"Topic7\", \"Topic7\", \"Topic7\", \"Topic7\", \"Topic7\", \"Topic7\", \"Topic7\", \"Topic7\", \"Topic7\", \"Topic7\", \"Topic7\", \"Topic7\", \"Topic7\", \"Topic7\", \"Topic7\", \"Topic7\", \"Topic7\", \"Topic7\", \"Topic7\", \"Topic7\", \"Topic7\", \"Topic7\", \"Topic7\", \"Topic8\", \"Topic8\", \"Topic8\", \"Topic8\", \"Topic8\", \"Topic8\", \"Topic8\", \"Topic8\", \"Topic8\", \"Topic8\", \"Topic8\", \"Topic8\", \"Topic8\", \"Topic8\", \"Topic8\", \"Topic8\", \"Topic8\", \"Topic8\", \"Topic8\", \"Topic8\", \"Topic8\", \"Topic8\", \"Topic8\", \"Topic8\", \"Topic8\", \"Topic8\", \"Topic8\", \"Topic8\", \"Topic8\", \"Topic8\", \"Topic8\", \"Topic8\", \"Topic8\", \"Topic8\", \"Topic8\", \"Topic8\", \"Topic8\", \"Topic8\", \"Topic8\", \"Topic8\", \"Topic8\", \"Topic8\", \"Topic8\", \"Topic8\", \"Topic8\", \"Topic8\", \"Topic8\", \"Topic8\", \"Topic8\", \"Topic8\", \"Topic9\", \"Topic9\", \"Topic9\", \"Topic9\", \"Topic9\", \"Topic9\", \"Topic9\", \"Topic9\", \"Topic9\", \"Topic9\", \"Topic9\", \"Topic9\", \"Topic9\", \"Topic9\", \"Topic9\", \"Topic9\", \"Topic9\", \"Topic9\", \"Topic9\", \"Topic9\", \"Topic9\", \"Topic9\", \"Topic9\", \"Topic9\", \"Topic9\", \"Topic9\", \"Topic9\", \"Topic9\", \"Topic9\", \"Topic9\", \"Topic9\", \"Topic9\", \"Topic9\", \"Topic9\", \"Topic9\", \"Topic9\", \"Topic9\", \"Topic9\", \"Topic9\", \"Topic9\", \"Topic9\", \"Topic9\", \"Topic9\", \"Topic9\", \"Topic9\", \"Topic9\", \"Topic9\", \"Topic9\", \"Topic9\", \"Topic9\", \"Topic9\", \"Topic9\", \"Topic9\", \"Topic9\", \"Topic9\", \"Topic10\", \"Topic10\", \"Topic10\", \"Topic10\", \"Topic10\", \"Topic10\", \"Topic10\", \"Topic10\", \"Topic10\", \"Topic10\", \"Topic10\", \"Topic10\", \"Topic10\", \"Topic10\", \"Topic10\", \"Topic10\", \"Topic10\", \"Topic10\", \"Topic10\", \"Topic10\", \"Topic10\", \"Topic10\", \"Topic10\", \"Topic10\", \"Topic10\", \"Topic10\", \"Topic10\", \"Topic10\", \"Topic10\", \"Topic10\", \"Topic10\", \"Topic10\", \"Topic10\", \"Topic10\", \"Topic10\", \"Topic10\", \"Topic10\", \"Topic10\", \"Topic10\", \"Topic10\"], \"logprob\": [30.0, 29.0, 28.0, 27.0, 26.0, 25.0, 24.0, 23.0, 22.0, 21.0, 20.0, 19.0, 18.0, 17.0, 16.0, 15.0, 14.0, 13.0, 12.0, 11.0, 10.0, 9.0, 8.0, 7.0, 6.0, 5.0, 4.0, 3.0, 2.0, 1.0, -4.4747, -4.7048, -4.7062, -4.8712, -5.1587, -5.1845, -5.1639, -5.4894, -5.489, -5.5679, -5.8137, -5.8342, -5.872, -5.8769, -5.9086, -5.9872, -5.9971, -6.0022, -6.0163, -5.8848, -6.0419, -6.0786, -6.0589, -6.1282, -6.1449, -6.1546, -6.1712, -6.1921, -6.1961, -6.1359, -5.1671, -5.684, -5.6516, -4.9435, -5.9346, -5.1489, -5.2063, -5.2333, -5.2798, -4.7227, -4.572, -5.7193, -4.5608, -5.3106, -4.6826, -5.5632, -5.1795, -5.5683, -5.2628, -5.3895, -5.6107, -5.5042, -5.6832, -5.0336, -5.0941, -5.2318, -5.3802, -5.5954, -5.6048, -5.6242, -5.6679, -5.6725, -5.7263, -5.9011, -5.8932, -5.9108, -5.9328, -5.936, -5.9019, -5.9522, -5.9737, -5.9988, -5.749, -6.0203, -6.111, -6.1123, -6.1147, -6.1988, -6.2066, -5.9605, -6.2513, -6.2534, -6.3153, -5.0104, -5.5329, -5.6013, -6.0719, -5.7762, -4.645, -5.9805, -4.8805, -3.8387, -4.7593, -4.2725, -4.7558, -4.8262, -4.4086, -5.4081, -4.3439, -4.0253, -5.3721, -5.4977, -5.563, -5.2343, -4.6824, -5.3933, -5.3215, -4.785, -5.0459, -5.4391, -5.2068, -5.3344, -5.4796, -5.5418, -3.6198, -4.0647, -4.1901, -4.506, -4.2589, -5.1686, -5.2089, -5.2455, -4.0642, -5.5674, -5.6551, -5.661, -5.6703, -5.7135, -5.3461, -5.7968, -5.8057, -5.9524, -5.9754, -5.9794, -5.9802, -6.1378, -6.1378, -6.1632, -6.1768, -6.1545, -6.256, -6.2739, -6.275, -6.3215, -5.0722, -3.5416, -5.8713, -5.728, -5.7835, -5.114, -3.5032, -5.2564, -3.3597, -4.3929, -5.6129, -5.2668, -4.6225, -4.8076, -5.2252, -4.3291, -5.0021, -5.0209, -4.9306, -5.2509, -5.2338, -5.2187, -5.1889, -5.3439, -4.9718, -5.2889, -4.4668, -4.7486, -4.7572, -5.0054, -5.0864, -5.0871, -5.0998, -5.1409, -5.1471, -5.188, -5.2356, -5.3297, -5.3623, -5.3784, -5.4975, -5.5337, -5.5565, -5.7048, -5.6992, -5.7672, -5.9098, -5.9141, -5.9894, -5.9899, -5.9934, -6.033, -6.0393, -6.1125, -6.1272, -6.1322, -5.2615, -5.2367, -5.5173, -5.8174, -5.7705, -4.6819, -5.7144, -4.7734, -4.7088, -4.5591, -4.211, -4.713, -4.7641, -4.7673, -4.8089, -4.7622, -4.7611, -4.8167, -3.9348, -4.8763, -4.693, -4.9851, -4.9379, -4.6571, -5.1984, -5.0795, -5.1334, -4.2559, -4.6411, -5.0535, -4.968, -5.2295, -5.2185, -5.2891, -5.4761, -5.5223, -5.5658, -5.5951, -5.6775, -5.654, -5.7411, -5.7803, -5.8028, -5.8215, -5.661, -5.604, -5.8861, -5.8883, -5.8763, -5.9234, -5.9295, -5.9412, -5.9463, -5.987, -6.0245, -5.9967, -6.0625, -4.2244, -5.5177, -5.4835, -5.8704, -5.594, -4.92, -5.3735, -4.6563, -4.3175, -4.8288, -4.0311, -5.1046, -4.7621, -5.3012, -5.1225, -4.6784, -5.3355, -5.263, -5.0618, -5.36, -5.3574, -5.3441, -5.4764, -5.4702, -4.4613, -4.502, -5.0743, -5.0762, -5.0764, -5.0083, -5.1802, -5.1853, -5.2582, -5.2852, -5.4958, -4.6246, -5.5251, -5.6251, -5.654, -5.6749, -5.7046, -5.7084, -5.7744, -5.7935, -5.8736, -5.8906, -5.8995, -5.932, -5.9518, -5.9551, -5.9618, -5.968, -5.9852, -5.9933, -3.7459, -3.9868, -4.9209, -5.1658, -5.3132, -5.6334, -4.8291, -5.6669, -3.8352, -5.3556, -4.7092, -5.571, -5.2408, -4.3036, -5.2837, -5.252, -5.3812, -4.893, -5.3104, -4.9349, -5.2934, -5.3033, -5.2524, -5.2151, -4.3922, -5.0413, -5.3688, -5.4107, -5.4404, -5.4797, -5.5217, -3.4473, -5.6769, -5.7644, -5.7816, -5.7914, -5.8044, -5.8093, -5.8286, -5.873, -5.8908, -5.9557, -5.9732, -5.9865, -6.0146, -6.0104, -6.0494, -6.0991, -5.9803, -6.1686, -5.7376, -6.1745, -6.1778, -6.1921, -3.899, -5.0081, -5.2088, -5.3102, -4.9618, -3.5745, -3.2208, -5.5901, -5.2688, -4.7344, -5.6785, -5.7057, -5.2882, -5.2734, -5.3074, -5.4012, -5.4532, -5.4133, -5.4551, -5.4738, -5.548, -5.5483, -5.5896, -5.6123, -5.0793, -5.1464, -5.2187, -5.2201, -5.2189, -5.357, -5.3908, -5.4246, -4.6114, -5.521, -5.5474, -5.5861, -5.5978, -5.2863, -5.6532, -5.6603, -5.7231, -5.7435, -5.7852, -5.7944, -5.8153, -5.817, -5.8514, -5.8749, -5.934, -5.936, -5.9883, -5.9854, -5.9918, -5.9555, -4.4806, -5.6976, -5.5741, -4.314, -3.7897, -5.163, -5.0193, -5.0604, -4.5934, -5.4876, -4.7385, -5.4267, -5.1877, -5.4331, -5.6398, -5.5784, -5.6207, -5.6241, -5.6073, -5.6122, -4.3946, -4.7143, -4.7783, -4.9052, -4.8582, -4.9396, -5.1934, -5.2084, -5.2259, -4.9996, -5.5528, -5.5611, -5.5631, -5.5734, -5.5763, -5.6121, -5.6373, -5.6625, -5.702, -5.7496, -5.7526, -5.8858, -5.8859, -5.8897, -5.9262, -5.9567, -5.9684, -6.0118, -6.0165, -6.0236, -5.148, -5.8156, -4.4946, -4.6544, -4.7, -4.8493, -3.6879, -4.3313, -5.1638, -4.9905, -4.7621, -4.8212, -4.6332, -5.0831, -4.7432, -4.9027, -5.3952, -5.0493, -5.2336, -5.3617, -5.3815, -5.2242, -4.8964, -4.9634, -5.2023, -2.6362, -2.7864, -2.8784, -3.1681, -4.337, -4.5548, -4.5742, -4.5972, -4.885, -4.9781, -5.0228, -5.0177, -5.1413, -5.1623, -5.1739, -5.2027, -4.1643, -5.3259, -5.3983, -5.4283, -5.4713, -5.4848, -5.4973, -5.5226, -5.534, -5.5403, -5.5776, -5.6329, -5.6363, -5.7566, -2.6397, -4.7453, -3.6437, -5.1206, -4.7395, -5.0269, -4.9646, -5.1959, -5.2306, -5.4135], \"loglift\": [30.0, 29.0, 28.0, 27.0, 26.0, 25.0, 24.0, 23.0, 22.0, 21.0, 20.0, 19.0, 18.0, 17.0, 16.0, 15.0, 14.0, 13.0, 12.0, 11.0, 10.0, 9.0, 8.0, 7.0, 6.0, 5.0, 4.0, 3.0, 2.0, 1.0, 1.962, 1.9619, 1.9619, 1.9619, 1.9618, 1.9618, 1.9617, 1.9617, 1.9617, 1.9616, 1.9615, 1.9615, 1.9614, 1.9614, 1.9614, 1.9614, 1.9614, 1.9614, 1.9613, 1.9613, 1.9613, 1.9613, 1.9613, 1.9612, 1.9612, 1.9612, 1.9612, 1.9612, 1.9612, 1.9612, 1.9587, 1.9602, 1.9167, 1.8317, 1.9341, 1.8094, 1.7666, 1.7306, 1.5172, 1.0006, 0.8019, 1.7261, 0.66, 1.1975, 0.4488, 1.4813, 0.6548, 1.3029, 0.5051, 0.249, 0.8963, 0.3171, 0.3771, 2.044, 2.044, 2.0439, 2.0439, 2.0438, 2.0438, 2.0438, 2.0437, 2.0437, 2.0437, 2.0436, 2.0436, 2.0436, 2.0435, 2.0435, 2.0435, 2.0435, 2.0435, 2.0435, 2.0435, 2.0435, 2.0434, 2.0434, 2.0434, 2.0433, 2.0433, 2.0433, 2.0432, 2.0432, 2.0432, 2.0427, 2.0425, 2.0397, 2.0428, 2.0386, 2.0016, 2.0399, 2.0012, 1.8984, 1.896, 1.8225, 1.8872, 1.768, 1.4127, 1.8124, 1.2946, 1.1061, 1.7608, 1.7893, 1.7764, 1.5017, 1.0051, 1.5952, 1.494, 0.5889, 0.722, 1.4817, 0.6275, 0.6572, 1.3167, 1.5595, 2.1541, 2.1541, 2.1541, 2.154, 2.1539, 2.1538, 2.1538, 2.1538, 2.1537, 2.1536, 2.1535, 2.1535, 2.1535, 2.1535, 2.1535, 2.1534, 2.1534, 2.1533, 2.1533, 2.1533, 2.1532, 2.1531, 2.1531, 2.1531, 2.1531, 2.153, 2.153, 2.153, 2.153, 2.1529, 2.1519, 2.1358, 2.1521, 2.1499, 2.1461, 2.1294, 2.0529, 2.1229, 2.0186, 2.0698, 2.1222, 2.0763, 1.9897, 1.8921, 1.9907, 1.7271, 1.8392, 1.7879, 1.7408, 1.8579, 1.765, 1.6614, 1.4583, 1.7007, 0.6901, 1.1392, 2.2073, 2.2072, 2.2072, 2.2072, 2.2071, 2.2071, 2.2071, 2.2071, 2.2071, 2.2071, 2.2071, 2.207, 2.207, 2.207, 2.2069, 2.2069, 2.2069, 2.2068, 2.2068, 2.2067, 2.2066, 2.2066, 2.2065, 2.2065, 2.2065, 2.2065, 2.2065, 2.2064, 2.2064, 2.2064, 2.2063, 2.2054, 2.2036, 2.1996, 2.1924, 2.1184, 2.1864, 2.0236, 1.9786, 1.9121, 1.7339, 1.8823, 1.886, 1.8711, 1.8836, 1.8556, 1.8511, 1.8076, 1.2434, 1.7744, 1.4066, 1.7142, 1.4255, 0.5638, 1.9336, 0.9122, 1.3737, 2.3107, 2.3106, 2.3105, 2.3104, 2.3104, 2.3104, 2.3103, 2.3102, 2.3102, 2.3102, 2.3101, 2.3101, 2.31, 2.31, 2.31, 2.31, 2.31, 2.31, 2.3099, 2.3099, 2.3099, 2.3099, 2.3099, 2.3099, 2.3098, 2.3098, 2.3098, 2.3097, 2.3097, 2.3097, 2.2389, 2.2661, 2.2279, 2.2802, 2.1954, 1.9762, 2.1061, 1.7091, 1.531, 1.6793, 1.1897, 1.7631, 1.2982, 1.8141, 1.5901, 1.0449, 1.8113, 1.6067, 0.3121, 1.2257, 0.4639, -0.2127, 0.6232, 0.1684, 2.4306, 2.4306, 2.4304, 2.4304, 2.4304, 2.4304, 2.4303, 2.4303, 2.4303, 2.4303, 2.4301, 2.4301, 2.4301, 2.43, 2.43, 2.43, 2.4299, 2.4299, 2.4299, 2.4298, 2.4298, 2.4297, 2.4297, 2.4297, 2.4297, 2.4297, 2.4297, 2.4297, 2.4296, 2.4296, 2.4279, 2.4292, 2.4271, 2.4291, 2.4265, 2.4281, 2.3789, 2.4185, 2.2476, 2.3081, 2.0964, 2.3537, 2.1338, 1.3126, 1.8783, 1.8268, 1.9711, 0.9554, 1.7569, 0.7269, 1.4395, 1.1255, 0.6925, -0.0836, 2.4374, 2.4372, 2.437, 2.437, 2.4369, 2.4369, 2.4368, 2.4368, 2.4367, 2.4367, 2.4366, 2.4366, 2.4366, 2.4366, 2.4366, 2.4365, 2.4365, 2.4365, 2.4364, 2.4364, 2.4364, 2.4364, 2.4363, 2.4363, 2.4362, 2.4362, 2.4362, 2.4362, 2.4362, 2.4361, 2.4335, 2.4343, 2.4346, 2.435, 2.4181, 2.0418, 1.9574, 2.2437, 2.0298, 1.2572, 2.1443, 2.0758, 1.4111, 1.3772, 1.3169, 1.2167, 1.2178, 1.058, 1.1402, 1.1385, 1.1445, 1.1019, 1.0487, 0.8998, 2.4396, 2.4395, 2.4395, 2.4395, 2.4395, 2.4394, 2.4394, 2.4394, 2.4393, 2.4393, 2.4393, 2.4392, 2.4392, 2.4392, 2.4392, 2.4392, 2.4391, 2.4391, 2.4391, 2.439, 2.439, 2.439, 2.439, 2.439, 2.4389, 2.4389, 2.4388, 2.4388, 2.4388, 2.4388, 2.4349, 2.4376, 2.4049, 2.198, 1.8721, 2.182, 2.0573, 2.0529, 1.7699, 2.1564, 0.4823, 1.5913, 0.8726, 0.4154, 1.6112, -0.2045, 1.1122, 1.1815, 0.227, -0.4808, 2.5468, 2.5467, 2.5467, 2.5466, 2.5466, 2.5466, 2.5465, 2.5465, 2.5464, 2.5463, 2.5462, 2.5462, 2.5462, 2.5462, 2.5462, 2.5461, 2.5461, 2.5461, 2.5461, 2.546, 2.546, 2.5458, 2.5458, 2.5458, 2.5458, 2.5458, 2.5457, 2.5457, 2.5457, 2.5457, 2.5456, 2.5438, 2.5011, 2.3599, 2.3528, 2.343, 1.9996, 2.0968, 2.3395, 2.2629, 2.1021, 2.0834, 1.8455, 2.0458, 1.7267, 1.8725, 2.3171, 1.7604, 1.9934, 2.211, 2.2331, 1.7747, 0.4819, 0.4104, 0.8539, 2.7481, 2.7481, 2.7481, 2.7481, 2.7478, 2.7478, 2.7478, 2.7477, 2.7476, 2.7476, 2.7475, 2.7475, 2.7474, 2.7474, 2.7474, 2.7474, 2.7473, 2.7473, 2.7472, 2.7472, 2.7472, 2.7471, 2.7471, 2.7471, 2.7471, 2.7471, 2.747, 2.747, 2.747, 2.7468, 2.7458, 2.7468, 2.6696, 2.7121, 2.0357, 2.0455, 1.6827, 1.9723, 1.5506, 2.21]}, \"token.table\": {\"Topic\": [3, 4, 4, 9, 7, 1, 2, 5, 6, 8, 8, 10, 1, 7, 1, 2, 3, 4, 5, 6, 7, 8, 9, 3, 5, 1, 4, 5, 6, 7, 8, 5, 9, 10, 9, 7, 2, 4, 6, 7, 8, 10, 3, 9, 9, 4, 9, 1, 2, 5, 6, 9, 9, 5, 10, 6, 8, 3, 4, 8, 4, 7, 8, 3, 4, 8, 9, 1, 1, 4, 1, 7, 5, 1, 1, 2, 6, 7, 7, 10, 6, 1, 2, 3, 4, 5, 6, 8, 9, 7, 9, 10, 4, 5, 1, 2, 5, 6, 7, 1, 1, 9, 1, 2, 5, 5, 10, 4, 7, 2, 2, 8, 3, 1, 3, 4, 5, 8, 9, 7, 2, 3, 3, 1, 3, 5, 1, 6, 1, 2, 3, 4, 5, 6, 7, 8, 9, 10, 4, 3, 9, 7, 3, 2, 2, 9, 9, 3, 7, 9, 2, 3, 5, 6, 8, 9, 10, 2, 1, 2, 2, 9, 8, 4, 8, 3, 6, 3, 3, 9, 6, 7, 4, 9, 6, 3, 6, 5, 2, 2, 9, 10, 1, 4, 5, 6, 2, 5, 7, 9, 4, 9, 8, 9, 2, 4, 9, 10, 3, 3, 10, 8, 6, 7, 5, 9, 4, 7, 8, 1, 2, 3, 4, 5, 8, 9, 6, 7, 10, 4, 5, 7, 8, 10, 4, 1, 2, 5, 7, 9, 1, 2, 3, 1, 3, 4, 9, 3, 9, 6, 2, 7, 5, 5, 1, 3, 6, 3, 9, 10, 4, 5, 9, 10, 7, 3, 4, 7, 1, 2, 4, 5, 6, 7, 6, 5, 9, 10, 1, 2, 7, 5, 1, 2, 4, 6, 10, 4, 4, 6, 7, 8, 4, 9, 1, 4, 1, 8, 1, 2, 3, 4, 5, 6, 7, 8, 9, 10, 10, 5, 2, 7, 6, 7, 8, 4, 7, 1, 7, 2, 3, 5, 9, 10, 6, 10, 2, 3, 4, 5, 6, 7, 10, 9, 5, 5, 8, 2, 4, 3, 4, 5, 6, 7, 10, 3, 4, 5, 6, 8, 10, 4, 8, 2, 3, 6, 7, 1, 1, 4, 5, 3, 1, 1, 9, 6, 8, 1, 7, 6, 8, 5, 8, 1, 3, 8, 4, 1, 2, 3, 8, 3, 1, 2, 4, 5, 6, 8, 9, 8, 8, 4, 4, 8, 5, 4, 2, 9, 10, 2, 7, 8, 8, 3, 3, 9, 2, 7, 6, 10, 4, 5, 6, 7, 4, 5, 6, 7, 9, 5, 6, 1, 4, 5, 7, 8, 4, 7, 8, 1, 4, 5, 6, 7, 8, 7, 3, 4, 5, 3, 9, 1, 2, 3, 4, 5, 6, 7, 8, 9, 7, 7, 6, 10, 7, 9, 9, 6, 6, 2, 3, 9, 3, 6, 9, 1, 2, 3, 4, 6, 7, 9, 2, 7, 10, 1, 6, 8, 4, 6, 7, 2, 7, 2, 2, 7, 9, 1, 3, 1, 8, 1, 2, 8, 9, 5, 2, 5, 3, 9, 10, 6, 3, 4, 8, 1, 2, 3, 8, 9, 9, 1, 1, 3, 4, 5, 6, 7, 8, 9, 6, 1, 2, 3, 5, 7, 8, 9, 5, 7, 1, 2, 3, 5, 6, 7, 8, 9, 4, 5, 7, 8, 4, 1, 7, 1, 2, 4, 5, 7, 8, 9, 2, 2, 1, 3, 6, 7, 1, 3, 4, 6, 7, 8, 1, 3, 5, 9, 8, 7, 4, 3, 1, 4, 10, 6, 1, 9, 1, 2, 3, 4, 5, 6, 7, 8, 9, 3, 4, 6, 7, 8, 4, 9, 10, 2, 3, 4, 9, 9, 5, 5, 1, 2, 3, 5, 6, 8, 9, 5, 8, 7, 10, 3, 3, 10, 4, 1, 4, 5, 7, 1, 2, 5, 6, 7, 8, 9, 2, 9, 1, 4, 5, 7, 8, 4, 8, 1, 6, 1, 2, 6, 7, 3, 5, 1, 2, 3, 4, 5, 6, 7, 8, 9, 7, 5, 4, 6, 6, 1, 2, 9, 10, 3, 5, 1, 2, 3, 4, 5, 6, 8, 9, 10, 10, 4, 8, 5, 7, 8, 6, 2, 3, 4, 6, 7, 8, 9, 2, 4, 3, 1, 2, 3, 6, 8, 10, 2, 8, 10, 7, 8, 6, 7, 8, 6, 7, 1, 8, 4, 10, 9, 7, 4, 8, 10, 7, 6, 7, 8, 5, 9, 10, 5, 8, 4, 5, 1, 1, 3, 6, 1, 10, 1, 5, 3, 7, 4, 3, 3, 1, 10, 3, 1, 3, 5, 6, 8, 8, 1, 3, 7, 6, 6, 6, 6, 5, 3, 6, 2, 5, 3, 7, 8, 2, 3, 9, 1, 4, 6, 8, 9, 3, 4, 4, 5, 7, 8, 1, 5, 6, 7, 2, 3, 1, 5, 5, 1, 7, 8, 2, 5, 8, 1, 5, 5, 6, 9, 2, 3, 9, 8, 9, 1, 2, 3, 4, 1, 1, 7, 3, 3, 10, 9, 10, 3, 7, 2, 6, 3, 7, 2, 1, 5, 1, 3, 4, 5, 8, 9, 3, 9, 3, 4, 3, 6, 5, 4, 1, 4, 7, 8, 3, 7, 6, 2, 8, 5, 4, 3, 5, 6, 7, 1, 4, 5, 6, 2, 2, 8, 2, 1, 2, 3, 4, 5, 6, 7, 8, 9, 1, 5, 6, 8, 10, 9, 5, 3, 9, 4, 1, 2, 3, 4, 5, 6, 7, 8, 9, 5, 7, 9, 8, 8, 3, 4, 3, 6, 1, 2, 5, 7, 8, 1, 2, 5, 7, 8, 9, 2, 3, 7, 4, 5, 6, 7, 9, 6, 7, 3, 5, 8, 5, 9, 3, 9, 3, 6, 10, 4, 4, 7, 9, 8, 8, 4, 2, 2, 1, 5, 6, 7, 8, 10, 6, 1, 2, 3, 5, 6, 8, 9, 9, 1, 2, 3, 5, 7, 6, 10, 7, 2, 4, 5, 6, 7, 1, 6, 1, 4, 5, 6, 8, 9, 1, 3, 4, 5, 6, 8, 9, 6, 8, 6, 8, 1, 2, 4, 5, 8, 10, 2, 2, 10, 10], \"Freq\": [0.9988542038322347, 0.9994953253624063, 0.0010140468850945408, 0.9983291583755755, 0.998394059767962, 0.07777847288115687, 0.10397753743059919, 0.815036523717807, 0.0008187207671700724, 0.002456162301510217, 0.9990151626493003, 0.9996554698289067, 0.9997442108221779, 0.9987680058020452, 0.22015720452230067, 0.39130801763112777, 0.07145624669785812, 0.01517516350233659, 0.08017805458708765, 0.08092116826374846, 0.018616953162660353, 0.053895297180978914, 0.0683273470066547, 0.9754998062082291, 0.024242042897818814, 0.1814812834090856, 0.6227004853190695, 0.0002646785854289046, 0.17583480691993564, 0.014910226979161625, 0.0047642145377202825, 0.24128758978485457, 0.7304220436399772, 0.028111175508915096, 0.9991394937197743, 0.9986171866594755, 0.9989695908556683, 0.6484363486731499, 0.00017868182658394873, 0.34628537991969266, 0.004824409317766616, 0.9995207428342516, 0.3624473768325811, 0.6375011675386005, 0.9983943453618023, 0.998819906243693, 0.0008090886239317076, 0.09197375121324816, 0.28555859431357, 0.16551085070265614, 0.001466551841669105, 0.45546910054123346, 0.9994275125632784, 0.03496388206694878, 0.964420413680004, 0.9970482672681581, 0.0021977551813405394, 0.007006491137410137, 0.9921191450572754, 0.9982643575092021, 0.7032779144296395, 0.2950066688018109, 0.0015563071624948993, 0.743683915682275, 0.006781312301054179, 0.2489306723845305, 0.0005651093584211816, 0.9993934169404599, 0.9991137880059846, 0.9987580360193684, 0.9997597931242506, 0.9985651370286365, 0.9988389066316847, 0.9987028479583984, 0.3250049151253905, 0.008402962776386243, 0.5095990328905206, 0.15640353296693105, 0.9997169053900381, 0.9990210216353358, 0.9988886883359932, 0.13471006119330253, 0.00010298934341995606, 0.13059048745650428, 0.44893054796758847, 0.1849688607822411, 0.011843774493294946, 0.08661403781618304, 0.002162776211819077, 0.9982428801812906, 0.0008195754352884159, 0.9991374426860976, 0.9850349342248613, 0.013939173597521622, 0.7933858866590585, 0.00024441955842854544, 0.032263381712568, 0.12465397479855818, 0.04912833124413763, 0.9996405494289811, 0.9992670300811293, 0.9989406276146491, 0.2741220696503424, 0.010051142553845888, 0.7156870368454357, 0.9994411040756084, 0.9990936250359005, 0.3813407636793525, 0.6186130853624751, 0.9990390106630829, 0.0005234591035037163, 0.9992834285885944, 0.9989761108009103, 0.03784424421973298, 0.1110209465384202, 0.37660046570875877, 0.33775150704071427, 0.07066491619790849, 0.06580879636440293, 0.9986430284477812, 0.0036578859735338217, 0.9955546324634551, 0.998641889711916, 0.00029348490560257047, 0.39268280369623926, 0.6069267847861157, 0.9993032607999148, 0.9986261859163743, 0.18028688620245983, 0.4725386830003955, 0.08981871888256554, 6.494484373287458e-05, 0.11735533262530437, 0.040655472176779485, 0.016885659370547392, 0.029160234836060686, 0.05331971670469003, 0.9996859933111306, 0.9994550963432658, 0.7694646989619951, 0.23027638673813852, 0.9991868103631377, 0.9986570163842858, 0.9987016136171935, 0.9986425348689714, 0.9993042675846887, 0.998891555762998, 0.997770319347811, 0.0012682177557646153, 0.0006341088778823076, 0.1833824878966022, 0.003330190458170742, 0.5781210635384408, 0.0019981142749024455, 0.041294361681317206, 0.19159695769342336, 0.0002220126972113828, 0.9988383109779532, 0.9996310399414278, 0.9992149801082038, 0.9992783079947833, 0.9988378036268561, 0.9984303764705764, 0.9987912689031954, 0.9993102783827231, 0.050229661360701845, 0.9493717982646939, 0.9994491613216253, 0.873136057814127, 0.1268077308894664, 0.9991405421947094, 0.0005353016566807979, 0.20508468296745072, 0.7945094267101743, 0.9991993143482332, 0.0032299368101173366, 0.9962560649873029, 0.9993257164590993, 0.9993029726188768, 0.7930091588404917, 0.20662469716401657, 0.9999280660977282, 0.10802261165616615, 0.001096676260468692, 0.3440821767220521, 0.546693115843643, 0.004439574245548547, 0.9561733031350182, 0.03884627464854978, 0.9984445823831242, 0.28484799188227206, 0.7143664149728904, 0.1842857649264626, 0.815464509799597, 0.00025230273055726587, 0.043900675116964265, 0.9549658351592514, 0.0005046054611145317, 0.9998198520383195, 0.9988342495565562, 0.9991873288522676, 0.9995912879125719, 0.8842817260306501, 0.11514853861500954, 0.9993939063011957, 0.998784269879226, 0.9993034107055355, 0.8236862115628685, 0.17558749977367097, 0.22832598898239956, 0.002025064203835029, 0.0005062660509587573, 0.2349074476448634, 0.026072701624376002, 0.04632334366272629, 0.46196777149986606, 0.00854455574214916, 0.06682607774456954, 0.9244699190274516, 0.7233105546066944, 0.00018632420262923604, 0.2744555504728647, 0.0020495662289215966, 0.9999475535026313, 0.9998567214424161, 0.1335674824928045, 0.8620847458742571, 0.0010771571168774557, 0.0030519451644861247, 0.00017952618614624263, 0.9987869797595003, 0.9988209386891503, 0.9985027975804988, 0.9988659076638656, 0.24384112548192144, 0.31572578755059794, 0.440256270594882, 0.9988450007633832, 0.9988854238377768, 0.9992777346830112, 0.99817130242564, 0.0007725784074501858, 0.999389638662453, 0.9993844594276644, 0.00706173686700271, 0.9918530417744715, 0.0006419760788184282, 0.8482474820961443, 0.0055025176215440135, 0.1459886706465896, 0.9985931141628821, 0.9995958133226485, 0.8123070417076766, 0.1869395978336552, 0.9990600941086406, 0.6612857245300958, 0.3378485963668241, 0.0007296945925849333, 0.028483182536519398, 0.10190967822111463, 0.3714264255390344, 0.09360804713006877, 0.27109119459380776, 0.13339862373887476, 0.9992640022292194, 0.23997080560410766, 0.7525615060101607, 0.0071827996235243104, 0.22185362302170106, 0.7749681352127914, 0.003039090726324672, 0.9993571428463167, 0.00019459457320521393, 0.581253990163974, 0.2827459148671758, 0.13465944465800805, 0.0009729728660260697, 0.9996127244389689, 0.6106442421614409, 0.0005628057531441851, 0.35831966283513117, 0.030579112587500724, 0.9986961148071665, 0.9991963949627978, 0.9966028303371037, 0.0031610816417843544, 0.0337250357253949, 0.9652105224608019, 0.2719694558943494, 0.0015824610580422909, 0.0008126151379136088, 0.1932313259522992, 0.3259014395211421, 0.06513751868644349, 0.00012830765335478033, 0.1411811879080433, 4.276921778492678e-05, 0.9991166998592, 0.9991173875525595, 0.9984611461430514, 0.0021355473728235834, 0.9973006231086134, 0.32683991162478077, 0.673051407595764, 0.9994051300112076, 0.004029907975902464, 0.9957772611423507, 0.9725549390651773, 0.027183212582567066, 0.00161355234178547, 0.0005042351068079594, 5.042351068079594e-05, 0.00020169404272318375, 0.9976291588195476, 0.9996334509564213, 0.9999596104170398, 0.02911445647106204, 0.004071951953994691, 0.19525009619404543, 0.19667527937794357, 0.08917574779248373, 0.18364503312516056, 0.3019352373887063, 0.9993017862502366, 0.9998357202928623, 0.3176444331939938, 0.6820737053855527, 0.9991212182801171, 0.9995270516384094, 0.13878644815436383, 0.4132589901679217, 0.04559344551720231, 0.10522967225370293, 0.29526315316940216, 0.001641364038619283, 0.6109319582849505, 0.15104719498435865, 0.0885604089640436, 0.14902424148010385, 0.00022477261158386703, 0.9993619941506294, 0.0015772254450590428, 0.9975950939998446, 0.7530598451215752, 0.0008682473233530844, 0.23761035082429408, 0.008393057459079815, 0.999290858519468, 0.7896660070327062, 0.0003956242520203939, 0.20968085357080876, 0.9995130475005646, 0.9995148391301788, 0.00043742219866854345, 0.9990723017589532, 0.9991993849493951, 0.9991727046050917, 0.9993146200008403, 0.9989162333165142, 0.9994284598793993, 0.999163327719043, 0.9989217703157883, 0.9988608669349751, 0.2268427542010793, 0.00035779614227299575, 0.7724818711673977, 0.9993046300239596, 0.10386175866200648, 0.19500575095723666, 0.6353584114068661, 0.06544350609570306, 0.998504425478196, 0.03915078273931647, 0.21065790485302668, 0.001779581033605294, 0.4945010797130711, 0.14926235919364403, 0.07251792711941574, 0.03203245860489529, 0.9993830197740577, 0.9993911587854852, 0.9995130863753188, 0.999556127491529, 0.9992276219878127, 0.9996680344999901, 0.9991142888889734, 0.9993735636967764, 0.9995406655031179, 0.9992445435735563, 0.9988705969425694, 0.0002665937337636084, 0.9991933141460042, 0.999085741344736, 0.9991968465856571, 0.3708803390982497, 0.6288840532535539, 0.018895927114700634, 0.9807356680904427, 0.41552691664449176, 0.583817681519849, 0.9979302528247467, 0.0003942829920287423, 0.0003942829920287423, 0.0007885659840574846, 0.6704102373809739, 0.002610631765502235, 0.00017404211770014898, 0.32598088645237905, 0.0006961684708005959, 0.999637716202475, 0.9996704188594048, 0.12597763260887718, 0.8319902107601052, 0.001448018765619278, 0.0031028973548984525, 0.03744162808244133, 0.7224662579477785, 0.27322852161095484, 0.004226926386308089, 0.0012037021780382856, 0.7002107527102712, 0.003267191626103918, 0.0005158723620164081, 0.2727245220526744, 0.022010554112700077, 0.9991077370726303, 0.9991082355299754, 0.9148095700877468, 0.0850889119183249, 0.17631254750409825, 0.8233261687994405, 0.23291457684364178, 0.26654711650211754, 0.026314690370148042, 0.09557554676573432, 0.08397047264182071, 0.12669488565852174, 0.06896518571727, 0.052777216079454216, 0.046272461156496275, 0.9991941953077029, 0.9978817864288038, 0.0006958845614216822, 0.9990582686810616, 0.9989505538839515, 0.9993714345076585, 0.9993902526038355, 0.9998151238409192, 0.9991205731800079, 0.6380555901659062, 0.19990905416269852, 0.1615806264848879, 0.35861229383525595, 0.00044245810467027257, 0.6409005646148899, 0.34440857423635995, 0.06098740595466329, 0.027088314827578872, 0.4343417794639218, 0.0812649444827366, 0.0004643711113299235, 0.05123561261673489, 0.9993023899203528, 0.9980542808394415, 0.9984578451640729, 0.9989610256425888, 0.7158236483745735, 0.2839510304394621, 0.0027327721382251866, 0.33203181479436017, 0.6650884191405548, 0.9941388061406932, 0.005150978270159032, 0.9991692291375281, 0.9582295156069799, 0.040578813068051896, 0.0010678635017908394, 0.15062097235259395, 0.8490117439499032, 0.24656855904079622, 0.7532162830972268, 0.2848076494198245, 0.10637046825497495, 0.002882668516394985, 0.6056486552945863, 0.9991324761516893, 0.9983765709696183, 0.0013515928307350428, 0.49864425001422413, 0.15671676429018475, 0.3445987942062585, 0.9994540427155236, 0.7297421670615001, 0.26984243688674137, 0.00021621990135155557, 0.15087148828440114, 0.6158248852649533, 0.14974976718191488, 0.0005608605512431268, 0.08300736158398278, 0.9991331934764756, 0.9988134853934393, 0.38229082998451774, 0.04990704992031611, 0.048351872727331754, 0.28198190103702686, 0.0576122460128295, 0.072598498963406, 0.09642098596502999, 0.010815550478482103, 0.9989548565886969, 0.3331448288428891, 0.5696003995606108, 0.023411442645318983, 0.00046822885290637964, 0.06344500956881444, 0.0065552039406893145, 0.0030434875438914676, 0.9991273233290093, 0.9987077804777228, 0.19296850082824354, 0.5317354245044933, 0.005691596186045163, 0.15772738471738856, 0.0009356048525005747, 0.0015593414208342911, 0.009278081453964032, 0.1001097192175615, 0.72510256838241, 0.01053720481146852, 0.2628943302115536, 0.001250176842038638, 0.9992388311618249, 0.9979859472842834, 0.0014477552426754594, 0.05306570218323854, 0.24979708588695215, 0.27383381509887206, 0.009337344809245807, 0.30711544016153036, 0.10529936373991063, 0.0015716322946255318, 0.9991176761976464, 0.9993855806398222, 0.21902009001219142, 0.0005959730340467794, 0.5754119643721655, 0.20471673719506872, 0.004626965238658182, 0.0014459266370806818, 0.7605574111044386, 0.2267212966942509, 0.0020242972919129543, 0.004626965238658182, 0.9995596689791161, 0.9995318902508742, 0.17041508126296243, 0.8291991736867523, 0.9996720569755558, 0.9992447160961073, 0.9996203817732869, 0.9989844867832701, 0.9997939658706843, 0.5045589479568892, 0.4952959867093005, 0.9985409582265147, 0.9998124716914784, 0.9980385673648583, 0.0008200851957604296, 0.8010182149589996, 0.0001025106494700537, 0.0004100425978802148, 0.005330553772442792, 0.1897472121690694, 0.0014351490925807518, 0.0003075319484101611, 0.0007175745462903759, 0.05073415172717906, 0.00010126577191053704, 0.832505910876525, 0.0031392389292266482, 0.11351893031171202, 0.9986372184265805, 0.9965807333288321, 0.0019734271947105587, 0.9990282444717626, 0.6775742842695124, 0.19413503027071946, 0.12807343587612002, 0.9987960171222278, 0.9992404154243247, 0.9989515935627393, 0.0007312320169135931, 0.00019942691370370723, 0.23126874425839913, 0.018945556801852188, 0.18194382093568223, 0.5667048131080347, 0.00019942691370370723, 0.999348485083074, 0.9994802918950818, 0.9992569605086405, 0.9985835107054386, 0.9998907026369501, 0.9690028017337462, 0.03036233463590645, 0.9997756778457708, 0.00018538317623602614, 0.795293826052552, 0.00018538317623602614, 0.20410687703586478, 0.2501247950386501, 0.4830922694258886, 0.002273861773078637, 0.13539813285150065, 0.0010335735332175622, 0.06077412375319266, 0.06738899436578506, 0.9992978677312426, 0.9986281328470791, 0.00017650287142994972, 0.7143071206770065, 0.0008825143571497486, 0.24939855733051897, 0.03530057428598994, 0.9792731846176213, 0.020583449103427708, 0.0013781819242411478, 0.9982631071253382, 0.1377838115890852, 0.8545433565608773, 0.0008866397142154776, 0.00673846182803763, 0.9985942267102639, 0.998567178510136, 0.3134122929444938, 0.23331471744166277, 0.06753715918253643, 0.0020934027200490996, 0.1354730617403203, 0.05687077389466721, 0.0021930885638609615, 0.07102616371595159, 0.11802803907324448, 0.9993698756704765, 0.9990927330965284, 0.011253507564434068, 0.9880579641573112, 0.9985419863944924, 0.9988153547297877, 0.999502661948583, 0.9994807297356412, 0.9990448254794125, 0.9993962889769875, 0.0004176332172908431, 0.10364256261345021, 0.0016764258462689378, 0.6524254940538408, 9.86132850746434e-05, 0.010157168362688271, 0.02780894639104944, 0.010551621502986844, 0.18391377666420994, 0.00986132850746434, 0.9990135141234465, 0.32073181159183656, 0.6789296401129851, 0.30228133598033785, 0.696465056159826, 0.0005536288204768092, 0.9994065567875583, 0.3537677626863268, 0.06322396684214864, 6.820276897750661e-05, 0.00027281107591002645, 0.0023870969142127316, 0.0018414747623926786, 0.5784276836982336, 0.9995700059453432, 0.9990241414460147, 0.9997217895792286, 0.15558495601683184, 0.1862891181495068, 0.148618465448914, 0.08153374146155698, 0.4280521426731742, 0.9989421420401873, 0.9954581723245673, 0.0035150359192251675, 0.9993431759283503, 0.21482611490714257, 0.7849475567135709, 0.0007471928827811398, 0.9991629271412241, 8.302143142012664e-05, 0.9992104254838214, 0.999746524372585, 0.9988171663965862, 0.9989155311466784, 0.9993186522136408, 0.9991826227200945, 0.9996456429746875, 0.9994343642380418, 0.999648669741379, 0.9991082049948654, 0.9994894980224174, 0.9982614997178594, 0.743055694568347, 0.024694807309563117, 0.23220490455260842, 0.9993879541090391, 0.5094220583059527, 0.49039715823413715, 0.9995435393514208, 0.9993098405917444, 0.996335706518139, 0.003126576484889557, 0.9991473140877204, 0.998869836764363, 0.9991757548776949, 0.9988951997491881, 0.9989892114382563, 0.9999197549636825, 0.8778048705731515, 0.12204665366742226, 0.9997537623137025, 0.9994571018851882, 0.9992344729320378, 0.9997809661545747, 0.9992771577619628, 0.9996143361250424, 0.9996597979912725, 0.9987816928563682, 0.002522889811891023, 0.1344339856907645, 0.0010812384908104385, 0.6314432786332961, 0.22994338571235326, 0.9991457697145072, 0.8584714410789093, 0.0017013873407566152, 0.13975681727643624, 0.999055160633288, 0.999466161052667, 0.9989161940686307, 0.9991956865521828, 0.9989723619954324, 0.6932423455467412, 0.30643321071269, 0.07896759160922352, 0.9202563126748075, 0.968272869284135, 0.03118346030991483, 0.9991426472273867, 0.0034978322323552056, 0.42132979162460427, 0.5749164250998374, 0.13192700394886353, 0.23184230841013517, 0.3711417037561411, 0.26501806969727587, 0.9983592013881267, 0.9992324859495219, 0.9987497661589262, 0.7441490877784869, 0.00044801269583292407, 0.25163379749282566, 0.003434764001385751, 0.4654720096116964, 0.5317909244298742, 0.002324261033347352, 0.0003099014711129803, 0.7649874834109778, 0.23483336700057925, 0.8222586497053753, 0.1773257255963302, 0.998951121792779, 0.9992823917388362, 0.7460355848485452, 0.253871351379242, 0.9952889948403663, 0.00048104833003400976, 0.0033673383102380684, 0.9994200731767768, 0.9993884177513199, 0.9697333917970938, 0.0008007707611867001, 0.028827747402721204, 0.5767190330714268, 0.2874113120604407, 0.1356985960168063, 0.9990240667939645, 0.9995649254595712, 0.0010689411434775368, 0.9983910280080195, 0.0002672352858693842, 0.9995056297875595, 0.9996745975026115, 0.9992033721920526, 0.9988418745600142, 0.9998577203928076, 0.5393888122778321, 0.46023447851388116, 0.0008290438472292419, 0.9985833139876218, 0.0027611522893584797, 0.9967759764584111, 0.9996802293635486, 0.999111585891921, 0.9991788736457556, 0.9993083157085038, 0.9986516625632686, 0.999118363386095, 0.9993431642604609, 0.19674615612633356, 0.000380185808939775, 0.23742603768288947, 0.4862576496339722, 0.0788885553550033, 0.998904053082372, 0.9994735053124454, 0.0003477639197329316, 0.9818063694704389, 0.018162843916343308, 0.9995630543134401, 0.9993057254758632, 0.9991562783742994, 0.9995657125339736, 0.9555664853201365, 0.0026841755205621815, 0.038025819874630905, 0.003131538107322545, 0.9977613675625177, 0.001410263417049495, 0.9986851334562913, 0.9991603538196832, 0.9993039927183763, 0.9987390576314885, 0.9993477014676109, 0.10825088033290528, 0.8911167829466481, 0.9970215537493647, 0.0028838091442300014, 0.6183871450783447, 0.03179368355158585, 0.34787588752693516, 0.0018546315405091743, 0.9995391228190168, 0.9988210906058294, 0.9989830553411359, 0.999458759778128, 0.20497085900043832, 0.21061498410334895, 0.0018813750343035403, 0.005248046148320402, 0.3632044013592308, 0.004653927716435073, 0.000792157909180438, 0.2085355695917503, 9.901973864755475e-05, 0.28793927809782816, 0.24689815927392955, 0.028337915378406162, 0.4364690414605087, 0.9982759499130721, 0.9994125276088216, 0.999111363615119, 0.9190279852540383, 0.08070742055485834, 0.9995156065753618, 0.27053719272754323, 0.2424961114375351, 0.07575041396371211, 0.029462882594853614, 0.11413904919454014, 0.08309638737208043, 0.0006319116910424368, 0.10939971151172187, 0.07440760162024693, 0.0019289045212110972, 0.9967614113358345, 0.0004822261303027743, 0.999131023943212, 0.9987592615177798, 0.9036505041912396, 0.09629209820291851, 0.0015543896264774003, 0.9983420646420756, 0.00793777258345609, 0.7584795036659852, 0.17412433050091977, 0.05927996120836357, 0.0001688887783714062, 0.10141546977950068, 0.8641458085734557, 0.002365166433020157, 0.030532148498987485, 0.000860060521098239, 0.0005733736807321593, 0.9577243173272096, 0.00022513500642388568, 0.04187511119484274, 0.04791666503210218, 0.02555555468378783, 0.9257499684202141, 0.9988011627671959, 0.9993155251161934, 0.9991517548605938, 0.9988604033327503, 0.06919757792026332, 0.9305370221397294, 0.00014817468505409705, 0.9995353714056378, 0.9982612570954315, 0.9997480439315103, 0.00014086910580970977, 0.9249092106566339, 0.06642205142167332, 0.008213479476873583, 0.9994821281995865, 0.9994677334536656, 0.9991804656277657, 0.9992552138964297, 0.9991030507266905, 0.9990349990774376, 0.9993698316087283, 0.999578964679979, 0.9990446596746059, 0.5173348341813829, 0.3384287739541432, 0.01158544848295948, 0.044559417242151844, 0.06617073460459548, 0.021834114448654404, 0.9994709468725946, 0.04021836417458044, 0.04214115449368389, 0.00016023252659195397, 0.4584252585795803, 0.2286518154467183, 0.13203160191177007, 0.09830265506416375, 0.9990964414245234, 0.6408635568986691, 0.23810004970638096, 0.0008274545602306897, 0.1162573657124119, 0.003516681880980431, 0.9996120658391902, 0.9994850472840954, 0.9988312087077117, 0.1956512597600299, 0.00028437683104655506, 0.6085664184396279, 0.00028437683104655506, 0.1950825060979368, 0.003716691759102884, 0.9955424354739868, 0.26345705994681345, 0.0007523045686659437, 0.002858757360930586, 0.03505739289983298, 0.2019185462299393, 0.4957687107508569, 0.14066435292046692, 0.002418298331010893, 0.14496354995337518, 0.5478789218812457, 0.002149598516454127, 0.15933899003216215, 0.0025526482382892757, 0.0048903847824641284, 0.9948439900327027, 0.9985576114956812, 0.9986620766045464, 0.00040219243621466416, 0.0302984968615047, 0.45742686412147804, 0.00013406414540488806, 0.5115887788650528, 0.9996851177789384, 0.9991973641502658, 0.9993784606133295, 0.9990217222924209, 0.9987359073611858], \"Term\": [\"act\", \"actress\", \"africa\", \"africa\", \"african\", \"age\", \"age\", \"age\", \"age\", \"age\", \"airport\", \"aisne\", \"album\", \"alexander\", \"also\", \"also\", \"also\", \"also\", \"also\", \"also\", \"also\", \"also\", \"also\", \"america\", \"america\", \"american\", \"american\", \"american\", \"american\", \"american\", \"american\", \"ancient\", \"ancient\", \"ancient\", \"angeles\", \"animal\", \"animals\", \"april\", \"april\", \"april\", \"april\", \"aquitaine\", \"area\", \"area\", \"armenian\", \"army\", \"army\", \"around\", \"around\", \"around\", \"around\", \"around\", \"art\", \"asia\", \"asia\", \"association\", \"association\", \"atlantic\", \"atlantic\", \"attack\", \"august\", \"august\", \"august\", \"australia\", \"australia\", \"australia\", \"australia\", \"award\", \"awards\", \"bad\", \"band\", \"bank\", \"base\", \"baseball\", \"based\", \"based\", \"based\", \"based\", \"battle\", \"bc\", \"beach\", \"became\", \"became\", \"became\", \"became\", \"became\", \"became\", \"became\", \"became\", \"becomes\", \"becomes\", \"belgian\", \"berlin\", \"berlin\", \"best\", \"best\", \"best\", \"best\", \"best\", \"big\", \"biggest\", \"blood\", \"book\", \"book\", \"book\", \"books\", \"border\", \"born\", \"born\", \"brazil\", \"brazilian\", \"brazilian\", \"bridge\", \"british\", \"british\", \"british\", \"british\", \"british\", \"british\", \"brown\", \"building\", \"building\", \"buildings\", \"built\", \"built\", \"built\", \"c\", \"call\", \"called\", \"called\", \"called\", \"called\", \"called\", \"called\", \"called\", \"called\", \"called\", \"calvados\", \"canton\", \"capital\", \"capital\", \"castle\", \"cathedral\", \"cause\", \"cell\", \"cells\", \"census\", \"central\", \"central\", \"central\", \"century\", \"century\", \"century\", \"century\", \"century\", \"century\", \"century\", \"champion\", \"championship\", \"change\", \"changed\", \"changes\", \"chess\", \"chicago\", \"child\", \"church\", \"church\", \"cities\", \"city\", \"city\", \"club\", \"club\", \"coast\", \"coast\", \"code\", \"college\", \"college\", \"color\", \"comes\", \"common\", \"common\", \"commune\", \"company\", \"company\", \"company\", \"company\", \"computer\", \"computer\", \"computer\", \"copies\", \"council\", \"council\", \"countries\", \"countries\", \"country\", \"country\", \"country\", \"country\", \"county\", \"court\", \"cross\", \"cup\", \"currently\", \"currently\", \"data\", \"date\", \"daughter\", \"david\", \"david\", \"day\", \"day\", \"day\", \"day\", \"day\", \"day\", \"day\", \"de\", \"de\", \"de\", \"december\", \"december\", \"december\", \"december\", \"department\", \"died\", \"different\", \"different\", \"different\", \"different\", \"different\", \"director\", \"discovered\", \"disease\", \"disney\", \"district\", \"district\", \"district\", \"districts\", \"divided\", \"division\", \"done\", \"done\", \"duke\", \"dynasty\", \"d\\u00e3\", \"d\\u00e3\", \"d\\u00e3\", \"east\", \"east\", \"east\", \"elected\", \"emperor\", \"empire\", \"empire\", \"energy\", \"england\", \"england\", \"england\", \"english\", \"english\", \"english\", \"english\", \"english\", \"english\", \"episode\", \"europe\", \"europe\", \"europe\", \"even\", \"even\", \"even\", \"ever\", \"family\", \"family\", \"family\", \"family\", \"family\", \"father\", \"february\", \"february\", \"february\", \"february\", \"federal\", \"feet\", \"film\", \"film\", \"fire\", \"fire\", \"first\", \"first\", \"first\", \"first\", \"first\", \"first\", \"first\", \"first\", \"first\", \"flag\", \"florida\", \"followed\", \"food\", \"food\", \"football\", \"football\", \"force\", \"former\", \"former\", \"formula\", \"formula\", \"found\", \"found\", \"found\", \"found\", \"found\", \"founded\", \"france\", \"french\", \"french\", \"french\", \"french\", \"french\", \"french\", \"french\", \"full\", \"game\", \"games\", \"games\", \"genus\", \"george\", \"german\", \"german\", \"german\", \"german\", \"german\", \"german\", \"germany\", \"germany\", \"germany\", \"germany\", \"germany\", \"gironde\", \"give\", \"give\", \"given\", \"given\", \"given\", \"given\", \"go\", \"good\", \"good\", \"good\", \"got\", \"grand\", \"greek\", \"greek\", \"grew\", \"ground\", \"guitar\", \"guitarist\", \"half\", \"hand\", \"hard\", \"harry\", \"held\", \"held\", \"held\", \"henry\", \"high\", \"high\", \"high\", \"high\", \"hill\", \"history\", \"history\", \"history\", \"history\", \"history\", \"history\", \"history\", \"hit\", \"hockey\", \"house\", \"hurricane\", \"ice\", \"ii\", \"illinois\", \"image\", \"india\", \"inside\", \"instead\", \"international\", \"international\", \"introduced\", \"iowa\", \"island\", \"island\", \"italian\", \"italian\", \"italy\", \"italy\", \"james\", \"james\", \"james\", \"james\", \"january\", \"january\", \"january\", \"january\", \"january\", \"japan\", \"japanese\", \"john\", \"john\", \"john\", \"john\", \"john\", \"july\", \"july\", \"july\", \"june\", \"june\", \"june\", \"june\", \"june\", \"june\", \"key\", \"killed\", \"king\", \"king\", \"km\", \"km\", \"known\", \"known\", \"known\", \"known\", \"known\", \"known\", \"known\", \"known\", \"known\", \"korea\", \"korean\", \"la\", \"la\", \"lady\", \"lake\", \"land\", \"language\", \"languages\", \"large\", \"large\", \"large\", \"largest\", \"largest\", \"largest\", \"later\", \"later\", \"later\", \"later\", \"later\", \"later\", \"later\", \"latin\", \"laws\", \"le\", \"lead\", \"league\", \"league\", \"left\", \"left\", \"left\", \"less\", \"less\", \"light\", \"like\", \"like\", \"like\", \"line\", \"line\", \"list\", \"list\", \"live\", \"live\", \"live\", \"live\", \"lived\", \"living\", \"living\", \"located\", \"located\", \"located\", \"loire\", \"london\", \"london\", \"london\", \"long\", \"long\", \"long\", \"long\", \"long\", \"los\", \"lot\", \"made\", \"made\", \"made\", \"made\", \"made\", \"made\", \"made\", \"made\", \"magazine\", \"make\", \"make\", \"make\", \"make\", \"make\", \"make\", \"make\", \"makes\", \"manager\", \"many\", \"many\", \"many\", \"many\", \"many\", \"many\", \"many\", \"many\", \"march\", \"march\", \"march\", \"march\", \"married\", \"match\", \"match\", \"may\", \"may\", \"may\", \"may\", \"may\", \"may\", \"may\", \"mean\", \"meaning\", \"means\", \"means\", \"means\", \"means\", \"member\", \"member\", \"member\", \"member\", \"member\", \"member\", \"metal\", \"miles\", \"million\", \"million\", \"minister\", \"money\", \"mother\", \"mountain\", \"movie\", \"municipality\", \"municipality\", \"museum\", \"music\", \"mythology\", \"name\", \"name\", \"name\", \"name\", \"name\", \"name\", \"name\", \"name\", \"name\", \"national\", \"national\", \"national\", \"national\", \"national\", \"nations\", \"native\", \"native\", \"natural\", \"near\", \"near\", \"near\", \"netherlands\", \"network\", \"never\", \"new\", \"new\", \"new\", \"new\", \"new\", \"new\", \"new\", \"news\", \"nhl\", \"nintendo\", \"nobel\", \"north\", \"northern\", \"northern\", \"northwest\", \"november\", \"november\", \"november\", \"november\", \"number\", \"number\", \"number\", \"number\", \"number\", \"number\", \"number\", \"numbers\", \"object\", \"october\", \"october\", \"october\", \"october\", \"october\", \"office\", \"office\", \"official\", \"official\", \"often\", \"often\", \"often\", \"often\", \"oklahoma\", \"older\", \"one\", \"one\", \"one\", \"one\", \"one\", \"one\", \"one\", \"one\", \"one\", \"opened\", \"orchestra\", \"organization\", \"organization\", \"owned\", \"page\", \"pages\", \"pakistan\", \"paris\", \"park\", \"park\", \"part\", \"part\", \"part\", \"part\", \"part\", \"part\", \"part\", \"part\", \"part\", \"partement\", \"party\", \"party\", \"paul\", \"paul\", \"paul\", \"pays\", \"people\", \"people\", \"people\", \"people\", \"people\", \"people\", \"people\", \"person\", \"peter\", \"picardie\", \"place\", \"place\", \"place\", \"place\", \"place\", \"places\", \"plant\", \"plant\", \"plants\", \"played\", \"played\", \"player\", \"player\", \"player\", \"playing\", \"plays\", \"points\", \"police\", \"politician\", \"pope\", \"population\", \"port\", \"president\", \"prime\", \"prize\", \"producer\", \"professional\", \"professional\", \"professional\", \"program\", \"province\", \"province\", \"published\", \"put\", \"queen\", \"queen\", \"race\", \"radio\", \"railway\", \"raw\", \"records\", \"region\", \"released\", \"released\", \"republic\", \"right\", \"rights\", \"river\", \"road\", \"rock\", \"roman\", \"romania\", \"royal\", \"royal\", \"royal\", \"royal\", \"royal\", \"rules\", \"said\", \"said\", \"said\", \"saint\", \"san\", \"santa\", \"sarthe\", \"says\", \"school\", \"school\", \"science\", \"science\", \"scotland\", \"scotland\", \"scottish\", \"sea\", \"sea\", \"sea\", \"season\", \"season\", \"season\", \"season\", \"seasons\", \"seat\", \"secretary\", \"september\", \"september\", \"september\", \"september\", \"series\", \"series\", \"series\", \"series\", \"set\", \"set\", \"show\", \"show\", \"shown\", \"shows\", \"side\", \"side\", \"similar\", \"similar\", \"similar\", \"single\", \"sir\", \"site\", \"site\", \"site\", \"small\", \"small\", \"small\", \"society\", \"sold\", \"sometimes\", \"sometimes\", \"sometimes\", \"son\", \"song\", \"songs\", \"source\", \"south\", \"southern\", \"southern\", \"southwest\", \"southwest\", \"spanish\", \"spanish\", \"species\", \"sports\", \"square\", \"stadium\", \"stage\", \"star\", \"start\", \"started\", \"started\", \"started\", \"started\", \"started\", \"starting\", \"state\", \"state\", \"states\", \"states\", \"station\", \"statistics\", \"stone\", \"storm\", \"story\", \"story\", \"story\", \"story\", \"street\", \"street\", \"students\", \"study\", \"summer\", \"super\", \"switzerland\", \"take\", \"take\", \"team\", \"team\", \"television\", \"television\", \"television\", \"television\", \"term\", \"theory\", \"things\", \"thought\", \"time\", \"time\", \"time\", \"time\", \"time\", \"time\", \"time\", \"time\", \"time\", \"times\", \"times\", \"times\", \"times\", \"told\", \"total\", \"tour\", \"town\", \"town\", \"tropical\", \"two\", \"two\", \"two\", \"two\", \"two\", \"two\", \"two\", \"two\", \"two\", \"types\", \"types\", \"types\", \"uk\", \"unit\", \"united\", \"united\", \"university\", \"university\", \"use\", \"use\", \"use\", \"use\", \"use\", \"used\", \"used\", \"used\", \"used\", \"used\", \"used\", \"usually\", \"usually\", \"usually\", \"valley\", \"valley\", \"valley\", \"versions\", \"village\", \"wales\", \"wanted\", \"war\", \"war\", \"war\", \"websites\", \"week\", \"west\", \"west\", \"western\", \"western\", \"western\", \"wife\", \"william\", \"wind\", \"windows\", \"winds\", \"winter\", \"women\", \"word\", \"words\", \"work\", \"work\", \"work\", \"work\", \"work\", \"work\", \"worked\", \"world\", \"world\", \"world\", \"world\", \"world\", \"world\", \"world\", \"worldwide\", \"would\", \"would\", \"would\", \"would\", \"would\", \"wrestling\", \"writer\", \"writing\", \"written\", \"written\", \"written\", \"written\", \"written\", \"wwe\", \"wwe\", \"year\", \"year\", \"year\", \"year\", \"year\", \"year\", \"years\", \"years\", \"years\", \"years\", \"years\", \"years\", \"years\", \"york\", \"york\", \"zealand\", \"\\u00e0\", \"\\u00e2\", \"\\u00e2\", \"\\u00e2\", \"\\u00e2\", \"\\u00e2\", \"\\u00e3\", \"\\u00ee\", \"\\u00f0\", \"\\u00f8\", \"\\u00f9\"]}, \"R\": 30, \"lambda.step\": 0.01, \"plot.opts\": {\"xlab\": \"PC1\", \"ylab\": \"PC2\"}, \"topic.order\": [10, 2, 6, 5, 9, 3, 1, 8, 7, 4]};\n",
       "\n",
       "function LDAvis_load_lib(url, callback){\n",
       "  var s = document.createElement('script');\n",
       "  s.src = url;\n",
       "  s.async = true;\n",
       "  s.onreadystatechange = s.onload = callback;\n",
       "  s.onerror = function(){console.warn(\"failed to load library \" + url);};\n",
       "  document.getElementsByTagName(\"head\")[0].appendChild(s);\n",
       "}\n",
       "\n",
       "if(typeof(LDAvis) !== \"undefined\"){\n",
       "   // already loaded: just create the visualization\n",
       "   !function(LDAvis){\n",
       "       new LDAvis(\"#\" + \"ldavis_el326891402293188131689076010829\", ldavis_el326891402293188131689076010829_data);\n",
       "   }(LDAvis);\n",
       "}else if(typeof define === \"function\" && define.amd){\n",
       "   // require.js is available: use it to load d3/LDAvis\n",
       "   require.config({paths: {d3: \"https://d3js.org/d3.v5\"}});\n",
       "   require([\"d3\"], function(d3){\n",
       "      window.d3 = d3;\n",
       "      LDAvis_load_lib(\"https://cdn.jsdelivr.net/gh/bmabey/pyLDAvis@3.3.1/pyLDAvis/js/ldavis.v3.0.0.js\", function(){\n",
       "        new LDAvis(\"#\" + \"ldavis_el326891402293188131689076010829\", ldavis_el326891402293188131689076010829_data);\n",
       "      });\n",
       "    });\n",
       "}else{\n",
       "    // require.js not available: dynamically load d3 & LDAvis\n",
       "    LDAvis_load_lib(\"https://d3js.org/d3.v5.js\", function(){\n",
       "         LDAvis_load_lib(\"https://cdn.jsdelivr.net/gh/bmabey/pyLDAvis@3.3.1/pyLDAvis/js/ldavis.v3.0.0.js\", function(){\n",
       "                 new LDAvis(\"#\" + \"ldavis_el326891402293188131689076010829\", ldavis_el326891402293188131689076010829_data);\n",
       "            })\n",
       "         });\n",
       "}\n",
       "</script>"
      ],
      "text/plain": [
       "PreparedData(topic_coordinates=              x         y  topics  cluster       Freq\n",
       "topic                                                \n",
       "9     -0.181236  0.007209       1        1  14.055776\n",
       "1     -0.132668 -0.099373       2        1  12.946653\n",
       "5      0.044893 -0.200936       3        1  11.599426\n",
       "4      0.043446  0.213789       4        1  10.997284\n",
       "8     -0.142196  0.019867       5        1   9.917330\n",
       "2     -0.053663  0.040942       6        1   8.796086\n",
       "0      0.096888  0.281809       7        1   8.736563\n",
       "7     -0.094175  0.040266       8        1   8.715506\n",
       "6      0.023806 -0.240498       9        1   7.830904\n",
       "3      0.394905 -0.063076      10        1   6.404472, topic_info=              Term          Freq         Total Category  logprob  loglift\n",
       "99          france  19854.000000  19854.000000  Default  30.0000  30.0000\n",
       "51           found  19832.000000  19832.000000  Default  29.0000  29.0000\n",
       "820         region  17086.000000  17086.000000  Default  28.0000  28.0000\n",
       "188     department  15583.000000  15583.000000  Default  27.0000  27.0000\n",
       "484           born  24398.000000  24398.000000  Default  26.0000  26.0000\n",
       "...            ...           ...           ...      ...      ...      ...\n",
       "471   municipality   1817.908465   3670.532467  Topic10  -5.0269   2.0455\n",
       "1840       located   1934.730741   5615.225684  Topic10  -4.9646   1.6827\n",
       "2070      southern   1535.220583   3335.256422  Topic10  -5.1959   1.9723\n",
       "1205        french   1482.939378   4911.649309  Topic10  -5.2306   1.5506\n",
       "149          italy   1235.019808   2115.386428  Topic10  -5.4135   2.2100\n",
       "\n",
       "[564 rows x 6 columns], token_table=       Topic      Freq     Term\n",
       "term                           \n",
       "2725       3  0.998854      act\n",
       "4802       4  0.999495  actress\n",
       "502        4  0.001014   africa\n",
       "502        9  0.998329   africa\n",
       "3368       7  0.998394  african\n",
       "...      ...       ...      ...\n",
       "2089      10  0.999685        ã\n",
       "3400       2  0.999197        î\n",
       "8381       2  0.999378        ð\n",
       "13586     10  0.999022        ø\n",
       "13587     10  0.998736        ù\n",
       "\n",
       "[985 rows x 3 columns], R=30, lambda_step=0.01, plot_opts={'xlab': 'PC1', 'ylab': 'PC2'}, topic_order=[10, 2, 6, 5, 9, 3, 1, 8, 7, 4])"
      ]
     },
     "execution_count": 117,
     "metadata": {},
     "output_type": "execute_result"
    }
   ],
   "source": [
    "import pyLDAvis\n",
    "import pyLDAvis.gensim_models\n",
    "\n",
    "pyLDAvis.enable_notebook()\n",
    "pyLDAvis.gensim_models.prepare(lda_model, corpus, dictionary)"
   ]
  },
  {
   "cell_type": "code",
   "execution_count": null,
   "id": "60834a8e",
   "metadata": {},
   "outputs": [],
   "source": []
  }
 ],
 "metadata": {
  "kernelspec": {
   "display_name": "Python 3",
   "language": "python",
   "name": "python3"
  },
  "language_info": {
   "codemirror_mode": {
    "name": "ipython",
    "version": 3
   },
   "file_extension": ".py",
   "mimetype": "text/x-python",
   "name": "python",
   "nbconvert_exporter": "python",
   "pygments_lexer": "ipython3",
   "version": "3.8.8"
  }
 },
 "nbformat": 4,
 "nbformat_minor": 5
}
