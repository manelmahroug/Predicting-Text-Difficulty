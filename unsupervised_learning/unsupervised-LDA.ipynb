{
 "cells": [
  {
   "cell_type": "markdown",
   "id": "b35a6cd4",
   "metadata": {},
   "source": [
    "This notebook explores LDA as it relates to uncovering hidden structure in a collection of texts (wikipedia articles).  The information and the code are repurposed through some online articles [end-to-end topic modeling](https://towardsdatascience.com/end-to-end-topic-modeling-in-python-latent-dirichlet-allocation-lda-35ce4ed6b3e0), [How to build topic models](https://yanlinc.medium.com/how-to-build-a-lda-topic-model-using-from-text-601cdcbfd3a6and) and SIADS 543 unsupervised learning lecture notebooks and homework assignments."
   ]
  },
  {
   "cell_type": "code",
   "execution_count": 146,
   "id": "50f6dbb0",
   "metadata": {},
   "outputs": [],
   "source": [
    "# import some necessary libararies \n",
    "import numpy as np\n",
    "import pandas as pd\n",
    "import seaborn as sns\n",
    "import matplotlib.pyplot as plt\n",
    "%matplotlib inline\n",
    "\n",
    "# Suppress all warnings\n",
    "import warnings\n",
    "warnings.filterwarnings('ignore')\n",
    "\n",
    "np.set_printoptions(precision = 3)\n",
    "\n",
    "from sklearn.feature_extraction.text import TfidfVectorizer\n",
    "from sklearn.feature_extraction.text import CountVectorizer"
   ]
  },
  {
   "cell_type": "code",
   "execution_count": 147,
   "id": "94ad79ed",
   "metadata": {},
   "outputs": [],
   "source": [
    "df = pd.read_pickle(\"data/features.pkl\")"
   ]
  },
  {
   "cell_type": "code",
   "execution_count": 148,
   "id": "64432928",
   "metadata": {},
   "outputs": [
    {
     "data": {
      "text/html": [
       "<div>\n",
       "<style scoped>\n",
       "    .dataframe tbody tr th:only-of-type {\n",
       "        vertical-align: middle;\n",
       "    }\n",
       "\n",
       "    .dataframe tbody tr th {\n",
       "        vertical-align: top;\n",
       "    }\n",
       "\n",
       "    .dataframe thead th {\n",
       "        text-align: right;\n",
       "    }\n",
       "</style>\n",
       "<table border=\"1\" class=\"dataframe\">\n",
       "  <thead>\n",
       "    <tr style=\"text-align: right;\">\n",
       "      <th></th>\n",
       "      <th>original_text</th>\n",
       "      <th>label</th>\n",
       "      <th>preprocessed</th>\n",
       "      <th>word_count</th>\n",
       "      <th>avg_word_count</th>\n",
       "      <th>syllable_count</th>\n",
       "      <th>uncommon</th>\n",
       "      <th>difficult_words</th>\n",
       "      <th>stem</th>\n",
       "      <th>discourse</th>\n",
       "      <th>cohesive_features</th>\n",
       "      <th>flesch</th>\n",
       "      <th>dale</th>\n",
       "      <th>mcalpine</th>\n",
       "      <th>nouns_adjs</th>\n",
       "      <th>normalized</th>\n",
       "    </tr>\n",
       "  </thead>\n",
       "  <tbody>\n",
       "    <tr>\n",
       "      <th>0</th>\n",
       "      <td>There is manuscript evidence that Austen conti...</td>\n",
       "      <td>1</td>\n",
       "      <td>[there, is, manuscript, evidence, that, austen...</td>\n",
       "      <td>35</td>\n",
       "      <td>4.485714</td>\n",
       "      <td>1.371429</td>\n",
       "      <td>14</td>\n",
       "      <td>7</td>\n",
       "      <td>there is manuscript evid that austen continu t...</td>\n",
       "      <td>4</td>\n",
       "      <td>2</td>\n",
       "      <td>52.87</td>\n",
       "      <td>11.24</td>\n",
       "      <td>48.0</td>\n",
       "      <td>0.228571</td>\n",
       "      <td>there is manuscript evidence that austen conti...</td>\n",
       "    </tr>\n",
       "    <tr>\n",
       "      <th>1</th>\n",
       "      <td>In a remarkable comparative analysis , Mandaea...</td>\n",
       "      <td>1</td>\n",
       "      <td>[in, a, remarkable, comparative, analysis, man...</td>\n",
       "      <td>19</td>\n",
       "      <td>6.000000</td>\n",
       "      <td>1.789474</td>\n",
       "      <td>14</td>\n",
       "      <td>8</td>\n",
       "      <td>there is manuscript evid that austen continu t...</td>\n",
       "      <td>2</td>\n",
       "      <td>1</td>\n",
       "      <td>35.27</td>\n",
       "      <td>14.55</td>\n",
       "      <td>23.0</td>\n",
       "      <td>0.315789</td>\n",
       "      <td>in a remarkable comparative analysis mandaean ...</td>\n",
       "    </tr>\n",
       "    <tr>\n",
       "      <th>2</th>\n",
       "      <td>Before Persephone was released to Hermes , who...</td>\n",
       "      <td>1</td>\n",
       "      <td>[before, persephone, was, released, to, hermes...</td>\n",
       "      <td>40</td>\n",
       "      <td>4.725000</td>\n",
       "      <td>1.400000</td>\n",
       "      <td>15</td>\n",
       "      <td>9</td>\n",
       "      <td>there is manuscript evid that austen continu t...</td>\n",
       "      <td>7</td>\n",
       "      <td>3</td>\n",
       "      <td>47.80</td>\n",
       "      <td>11.15</td>\n",
       "      <td>57.0</td>\n",
       "      <td>0.175000</td>\n",
       "      <td>before persephone was released to hermes who h...</td>\n",
       "    </tr>\n",
       "    <tr>\n",
       "      <th>3</th>\n",
       "      <td>Cogeneration plants are commonly found in dist...</td>\n",
       "      <td>1</td>\n",
       "      <td>[cogeneration, plants, are, commonly, found, i...</td>\n",
       "      <td>32</td>\n",
       "      <td>6.281250</td>\n",
       "      <td>1.781250</td>\n",
       "      <td>22</td>\n",
       "      <td>14</td>\n",
       "      <td>there is manuscript evid that austen continu t...</td>\n",
       "      <td>0</td>\n",
       "      <td>1</td>\n",
       "      <td>22.08</td>\n",
       "      <td>14.60</td>\n",
       "      <td>38.0</td>\n",
       "      <td>0.593750</td>\n",
       "      <td>cogeneration plants are commonly found in dist...</td>\n",
       "    </tr>\n",
       "    <tr>\n",
       "      <th>4</th>\n",
       "      <td>Geneva -LRB- , ; , ; , ; ; -RRB- is the second...</td>\n",
       "      <td>1</td>\n",
       "      <td>[geneva, is, the, city, in, switzerland, after...</td>\n",
       "      <td>20</td>\n",
       "      <td>4.650000</td>\n",
       "      <td>1.350000</td>\n",
       "      <td>7</td>\n",
       "      <td>4</td>\n",
       "      <td>there is manuscript evid that austen continu t...</td>\n",
       "      <td>0</td>\n",
       "      <td>2</td>\n",
       "      <td>68.10</td>\n",
       "      <td>8.58</td>\n",
       "      <td>29.0</td>\n",
       "      <td>0.400000</td>\n",
       "      <td>geneva is the city in switzerland after zürich...</td>\n",
       "    </tr>\n",
       "  </tbody>\n",
       "</table>\n",
       "</div>"
      ],
      "text/plain": [
       "                                       original_text  label  \\\n",
       "0  There is manuscript evidence that Austen conti...      1   \n",
       "1  In a remarkable comparative analysis , Mandaea...      1   \n",
       "2  Before Persephone was released to Hermes , who...      1   \n",
       "3  Cogeneration plants are commonly found in dist...      1   \n",
       "4  Geneva -LRB- , ; , ; , ; ; -RRB- is the second...      1   \n",
       "\n",
       "                                        preprocessed  word_count  \\\n",
       "0  [there, is, manuscript, evidence, that, austen...          35   \n",
       "1  [in, a, remarkable, comparative, analysis, man...          19   \n",
       "2  [before, persephone, was, released, to, hermes...          40   \n",
       "3  [cogeneration, plants, are, commonly, found, i...          32   \n",
       "4  [geneva, is, the, city, in, switzerland, after...          20   \n",
       "\n",
       "   avg_word_count  syllable_count  uncommon  difficult_words  \\\n",
       "0        4.485714        1.371429        14                7   \n",
       "1        6.000000        1.789474        14                8   \n",
       "2        4.725000        1.400000        15                9   \n",
       "3        6.281250        1.781250        22               14   \n",
       "4        4.650000        1.350000         7                4   \n",
       "\n",
       "                                                stem  discourse  \\\n",
       "0  there is manuscript evid that austen continu t...          4   \n",
       "1  there is manuscript evid that austen continu t...          2   \n",
       "2  there is manuscript evid that austen continu t...          7   \n",
       "3  there is manuscript evid that austen continu t...          0   \n",
       "4  there is manuscript evid that austen continu t...          0   \n",
       "\n",
       "   cohesive_features  flesch   dale  mcalpine  nouns_adjs  \\\n",
       "0                  2   52.87  11.24      48.0    0.228571   \n",
       "1                  1   35.27  14.55      23.0    0.315789   \n",
       "2                  3   47.80  11.15      57.0    0.175000   \n",
       "3                  1   22.08  14.60      38.0    0.593750   \n",
       "4                  2   68.10   8.58      29.0    0.400000   \n",
       "\n",
       "                                          normalized  \n",
       "0  there is manuscript evidence that austen conti...  \n",
       "1  in a remarkable comparative analysis mandaean ...  \n",
       "2  before persephone was released to hermes who h...  \n",
       "3  cogeneration plants are commonly found in dist...  \n",
       "4  geneva is the city in switzerland after zürich...  "
      ]
     },
     "execution_count": 148,
     "metadata": {},
     "output_type": "execute_result"
    }
   ],
   "source": [
    "df.head()"
   ]
  },
  {
   "cell_type": "code",
   "execution_count": 149,
   "id": "05364c3d",
   "metadata": {},
   "outputs": [],
   "source": [
    "# Import stopwords with scikit-learn\n",
    "from sklearn.feature_extraction import text\n",
    "stop = text.ENGLISH_STOP_WORDS\n",
    "#remove stop words to reduce number of features. Stop words rarely contribute to topics\n",
    "df['no_stop']= df['preprocessed'].apply(lambda x:' '.join([token for token in x if token not in stop])) "
   ]
  },
  {
   "cell_type": "code",
   "execution_count": 166,
   "id": "f7903922",
   "metadata": {},
   "outputs": [],
   "source": [
    "# create the corpus\n",
    "documents_train = [text for text in df['no_stop']]"
   ]
  },
  {
   "cell_type": "markdown",
   "id": "3b5a5679",
   "metadata": {},
   "source": [
    "## The choice of text processing has a significant impact on final classification performance\n",
    "\n",
    "- The way text is represented has a major impact on classification performance.\n",
    "- Text representation is a function of the many different parameter settings for Vectorizer objects in scikit-learn.\n",
    "\n",
    "Due to time and resource constraints, not much experimentation and hyperparameter tuning has been performed. We set values that we thought our memory can handle"
   ]
  },
  {
   "cell_type": "markdown",
   "id": "f4aef085",
   "metadata": {},
   "source": [
    "## Important parameters\n",
    "\n",
    "Reference: [Basics of Countvectorizer](https://towardsdatascience.com/basics-of-countvectorizer-e26677900f9c)\n",
    "\n",
    "#### Min_df\n",
    "\n",
    "Document frequency counts the number of documents in the dataset (aka rows or entries) that have the particular word. When building the vocabulary Min_df ignores terms that have a document frequency strictly *lower* than the given threshold. It helps eliminate words (names for instance) that appear in only 1 or 2 documents, as they do not provide enough information on the entire dataset as a whole but only a couple of particular documents. \n",
    "\n",
    "min_df can take absolute values(1,2,3..) or a value representing a percentage of documents(0.30, ignore words appearing in 30% of documents)\n",
    "\n",
    "#### Max_df\n",
    "\n",
    "Ignores words that occur frequently. These words could be like the word ‘the’ that occur in every document and does not provide and valuable information to our text classification or any other machine learning model and can be safely ignored. Max_df looks at how many documents contain the word and if it exceeds the max_df threshold then it is eliminated from the sparse matrix. This parameter can again 2 types of values, percentage and absolute.\n",
    "\n",
    "#### max_features\n",
    "\n",
    "The CountVectorizer will select terms that occur most frequently. It takes absolute values so if we set the ‘max_features = 100’, it will select the 100 most common words in the data."
   ]
  },
  {
   "cell_type": "code",
   "execution_count": 167,
   "id": "555e0f0a",
   "metadata": {},
   "outputs": [],
   "source": [
    "# reference https://towardsdatascience.com/basics-of-countvectorizer-e26677900f9c\n",
    "tf_vectorizer = CountVectorizer(max_df=0.9, stop_words='english', min_df= 10, max_features = 1000) \n",
    "# remove words that appear in more than 90% of documents. and \n",
    "tf_documents = tf_vectorizer.fit_transform(documents_train)\n",
    "tf_feature_names = tf_vectorizer.get_feature_names()"
   ]
  },
  {
   "cell_type": "markdown",
   "id": "aa5f4850",
   "metadata": {},
   "source": [
    "# Build the LDA model"
   ]
  },
  {
   "cell_type": "code",
   "execution_count": 133,
   "id": "eb90f86a",
   "metadata": {},
   "outputs": [],
   "source": [
    "def LDA_model(n_topics, X):\n",
    "    lda = LatentDirichletAllocation(n_components=n_topics, random_state=42)\n",
    "    lda_model = lda.fit(X)\n",
    "    return lda_model"
   ]
  },
  {
   "cell_type": "markdown",
   "id": "2a3a4c22",
   "metadata": {},
   "source": [
    "# Evalute LDA models using Log Likelihood and Perplexity"
   ]
  },
  {
   "cell_type": "code",
   "execution_count": 137,
   "id": "87915481",
   "metadata": {},
   "outputs": [
    {
     "name": "stdout",
     "output_type": "stream",
     "text": [
      "For n_clusters = 2 The log likelihood is : -11803745.593960786\n",
      "For n_clusters = 2 The perplexity is : 698.0422821106683\n",
      "For n_clusters = 3 The log likelihood is : -11814554.141945887\n",
      "For n_clusters = 3 The perplexity is : 702.2404438732452\n",
      "For n_clusters = 4 The log likelihood is : -11743204.083803842\n",
      "For n_clusters = 4 The perplexity is : 674.9870433353021\n",
      "For n_clusters = 5 The log likelihood is : -11661525.940980803\n",
      "For n_clusters = 5 The perplexity is : 645.0846157690455\n",
      "For n_clusters = 6 The log likelihood is : -11629026.74638533\n",
      "For n_clusters = 6 The perplexity is : 633.5583793935546\n",
      "For n_clusters = 7 The log likelihood is : -11604557.073010718\n",
      "For n_clusters = 7 The perplexity is : 625.0160211472455\n",
      "For n_clusters = 8 The log likelihood is : -11607459.658093978\n",
      "For n_clusters = 8 The perplexity is : 626.0232616836282\n",
      "For n_clusters = 9 The log likelihood is : -11601504.816867504\n",
      "For n_clusters = 9 The perplexity is : 623.958590564595\n",
      "For n_clusters = 10 The log likelihood is : -11604086.444350446\n",
      "For n_clusters = 10 The perplexity is : 624.85285870128\n",
      "For n_clusters = 11 The log likelihood is : -11568468.47039432\n",
      "For n_clusters = 11 The perplexity is : 612.6272444013441\n",
      "For n_clusters = 12 The log likelihood is : -11561999.233887607\n",
      "For n_clusters = 12 The perplexity is : 610.4325319398118\n",
      "For n_clusters = 13 The log likelihood is : -11557893.45246057\n",
      "For n_clusters = 13 The perplexity is : 609.0437106492193\n",
      "For n_clusters = 14 The log likelihood is : -11614712.28958712\n",
      "For n_clusters = 14 The perplexity is : 628.5471343749855\n"
     ]
    }
   ],
   "source": [
    "range_n_clusters = list(range(2,15))\n",
    "log_likelihood_list = []\n",
    "perplexity_list = []\n",
    "X= tf_documents\n",
    "\n",
    "# Iterating through cluster numbers\n",
    "for n_clusters in range_n_clusters:\n",
    "    lda_model = LDA_model(n_clusters, X)\n",
    "\n",
    "# Log Likelyhood: Higher the better\n",
    "    l_likelihood = lda_model.score(X)\n",
    "    log_likelihood_list.append(l_likelihood)\n",
    "    print(\"For n_clusters =\", n_clusters,\"The log likelihood is :\", l_likelihood)\n",
    "\n",
    "# Perplexity: Lower the better\n",
    "    perplexity = lda_model.perplexity(X)\n",
    "    perplexity_list.append(perplexity)\n",
    "    print(\"For n_clusters =\", n_clusters,\"The perplexity is :\", perplexity)"
   ]
  },
  {
   "cell_type": "code",
   "execution_count": 138,
   "id": "302148c7",
   "metadata": {},
   "outputs": [
    {
     "data": {
      "image/png": "[encoded data removed]",
      "text/plain": [
       "<Figure size 1008x504 with 2 Axes>"
      ]
     },
     "metadata": {},
     "output_type": "display_data"
    }
   ],
   "source": [
    "# Plot LDA Log Likelihood and Perplexity\n",
    "# to determine optimal cluster number\n",
    "\n",
    "plt.style.use('fivethirtyeight')\n",
    "\n",
    "fig = plt.figure(figsize=(14,7))\n",
    "fig.add_subplot(121)\n",
    "plt.plot(range_n_clusters, log_likelihood_list,'b-',label='Log Likelihood')\n",
    "plt.xlabel(\"Number of cluster\")\n",
    "plt.ylabel(\"log Likelihood\")\n",
    "plt.legend()\n",
    "\n",
    "fig.add_subplot(122)\n",
    "plt.plot(range_n_clusters, perplexity_list,'b-',label='Perplexity')\n",
    "plt.xlabel(\"Number of cluster\")\n",
    "plt.ylabel(\"Perplexity\")\n",
    "plt.legend()\n",
    "plt.show()"
   ]
  },
  {
   "cell_type": "markdown",
   "id": "880c33c9",
   "metadata": {},
   "source": [
    "# Hyperparameter tuning (alpha and beta)\n",
    "\n",
    "Alpha is the parameter that tells LDA how many topics each document should be generated from. beta is the parameter that tells LDA how many topics each word should be in. You can play with these and you may get better results."
   ]
  },
  {
   "cell_type": "code",
   "execution_count": 168,
   "id": "486e2e49",
   "metadata": {},
   "outputs": [
    {
     "name": "stdout",
     "output_type": "stream",
     "text": [
      "For doc_topic_prior = 0.1 The log likelihood is : -11578903.389362283\n",
      "For doc_topic_prior = 0.1 The perplexity is : 616.1839704699119\n",
      "For doc_topic_prior = 0.5 The log likelihood is : -11648626.62431351\n",
      "For doc_topic_prior = 0.5 The perplexity is : 640.4848281907788\n",
      "For doc_topic_prior = 1 The log likelihood is : -12071909.353473458\n",
      "For doc_topic_prior = 1 The perplexity is : 810.0103063539816\n",
      "For doc_topic_prior = 5 The log likelihood is : -12070038.99167609\n",
      "For doc_topic_prior = 5 The perplexity is : 809.170269667314\n",
      "For doc_topic_prior = 10 The log likelihood is : -11989170.828226062\n",
      "For doc_topic_prior = 10 The perplexity is : 773.6709937084443\n",
      "For doc_topic_prior = 20 The log likelihood is : -11948198.861394301\n",
      "For doc_topic_prior = 20 The perplexity is : 756.2840135657116\n",
      "For doc_topic_prior = 30 The log likelihood is : -11934465.123041319\n",
      "For doc_topic_prior = 30 The perplexity is : 750.5438048818517\n"
     ]
    }
   ],
   "source": [
    "# LDA_model function that accepts doc_topic_prior (alpha)\n",
    "X= tf_documents\n",
    "\n",
    "def LDA_model(n_topics, X, doc_topic_prior):\n",
    "    lda = LatentDirichletAllocation(n_components=n_topics, random_state=42, doc_topic_prior=doc_topic_prior)\n",
    "    lda_model = lda.fit(X)\n",
    "    return lda_model\n",
    "\n",
    "# LDA Log Likelihood and Perplexity\n",
    "n_clusters = 13\n",
    "doc_topic_prior_rates = [0.1, 0.5, 1, 5, 10, 20, 30]\n",
    "\n",
    "log_likelihood_list = []\n",
    "perplexity_list = []\n",
    "\n",
    "# Iterating through decay rates\n",
    "for doc_topic_prior in doc_topic_prior_rates:\n",
    "    lda_model = LDA_model(n_clusters, X, doc_topic_prior)\n",
    "\n",
    "# Log Likelyhood: Higher the better\n",
    "    l_likelihood = lda_model.score(X)\n",
    "    log_likelihood_list.append(l_likelihood)\n",
    "    print(\"For doc_topic_prior =\", doc_topic_prior,\"The log likelihood is :\", l_likelihood)\n",
    "\n",
    "# Perplexity: Lower the better\n",
    "    perplexity = lda_model.perplexity(X)\n",
    "    perplexity_list.append(perplexity)\n",
    "    print(\"For doc_topic_prior =\", doc_topic_prior,\"The perplexity is :\", perplexity)"
   ]
  },
  {
   "cell_type": "code",
   "execution_count": 171,
   "id": "451c210e",
   "metadata": {},
   "outputs": [
    {
     "data": {
      "image/png": "[encoded data removed]",
      "text/plain": [
       "<Figure size 1008x504 with 2 Axes>"
      ]
     },
     "metadata": {
      "needs_background": "light"
     },
     "output_type": "display_data"
    }
   ],
   "source": [
    "# Plot LDA Log Likelihood and Perplexity\n",
    "# to determine optimal cluster number\n",
    "\n",
    "fig = plt.figure(figsize=(14,7))\n",
    "fig.add_subplot(121)\n",
    "plt.plot(doc_topic_prior_rates, log_likelihood_list,'b-',label='Log Likelihood')\n",
    "plt.xlabel(\"alpha\")\n",
    "plt.ylabel(\"log Likelihood\")\n",
    "plt.legend()\n",
    "\n",
    "fig.add_subplot(122)\n",
    "plt.plot(doc_topic_prior_rates, perplexity_list,'b-',label='Perplexity')\n",
    "plt.xlabel(\"alpha\")\n",
    "plt.ylabel(\"Perplexity\")\n",
    "plt.legend()\n",
    "plt.show()"
   ]
  },
  {
   "cell_type": "code",
   "execution_count": 169,
   "id": "5821463d",
   "metadata": {},
   "outputs": [
    {
     "name": "stdout",
     "output_type": "stream",
     "text": [
      "For topic_word_prior = 0.1 The log likelihood is : -11558281.513709428\n",
      "For topic_word_prior = 0.1 The perplexity is : 609.1748408927455\n",
      "For topic_word_prior = 0.5 The log likelihood is : -11573363.778114595\n",
      "For topic_word_prior = 0.5 The perplexity is : 614.2932387755136\n",
      "For topic_word_prior = 1 The log likelihood is : -11590608.606256468\n",
      "For topic_word_prior = 1 The perplexity is : 620.1982542963758\n",
      "For topic_word_prior = 5 The log likelihood is : -11694155.172825817\n",
      "For topic_word_prior = 5 The perplexity is : 656.8679319394457\n",
      "For topic_word_prior = 10 The log likelihood is : -11784733.910925226\n",
      "For topic_word_prior = 10 The perplexity is : 690.7187356629369\n",
      "For topic_word_prior = 20 The log likelihood is : -11917109.48993272\n",
      "For topic_word_prior = 20 The perplexity is : 743.3520510759125\n",
      "For topic_word_prior = 30 The log likelihood is : -12025285.212803176\n",
      "For topic_word_prior = 30 The perplexity is : 789.3277468231496\n"
     ]
    }
   ],
   "source": [
    "# LDA_model function to accept topic_word_prior (beta)\n",
    "def LDA_model(n_topics, X, topic_word_prior):\n",
    "    lda = LatentDirichletAllocation(n_components=n_topics, random_state=42, topic_word_prior=topic_word_prior)\n",
    "    lda_model = lda.fit(X)\n",
    "    return lda_model\n",
    "\n",
    "# LDA Log Likelihood and Perplexity\n",
    "\n",
    "n_clusters = 13\n",
    "topic_word_prior_rates = [0.1, 0.5, 1, 5, 10, 20, 30]\n",
    "\n",
    "log_likelihood_list = []\n",
    "perplexity_list = []\n",
    "\n",
    "\n",
    "for topic_word_prior in topic_word_prior_rates:\n",
    "    lda_model = LDA_model(n_clusters, X, topic_word_prior)\n",
    "\n",
    "# Log Likelyhood: Higher the better\n",
    "    l_likelihood = lda_model.score(X)\n",
    "    log_likelihood_list.append(l_likelihood)\n",
    "    print(\"For topic_word_prior =\", topic_word_prior,\"The log likelihood is :\", l_likelihood)\n",
    "\n",
    "# Perplexity: Lower the better\n",
    "    perplexity = lda_model.perplexity(X)\n",
    "    perplexity_list.append(perplexity)\n",
    "    print(\"For topic_word_prior =\", topic_word_prior,\"The perplexity is :\", perplexity)"
   ]
  },
  {
   "cell_type": "code",
   "execution_count": 170,
   "id": "7f40b421",
   "metadata": {},
   "outputs": [
    {
     "data": {
      "image/png": "[encoded data removed]",
      "text/plain": [
       "<Figure size 1008x504 with 2 Axes>"
      ]
     },
     "metadata": {
      "needs_background": "light"
     },
     "output_type": "display_data"
    }
   ],
   "source": [
    "# Plot LDA Log Likelihood and Perplexity\n",
    "\n",
    "fig = plt.figure(figsize=(14,7))\n",
    "fig.add_subplot(121)\n",
    "plt.plot(topic_word_prior_rates, log_likelihood_list,'b-',label='Log Likelihood')\n",
    "plt.xlabel(\"beta\")\n",
    "plt.ylabel(\"log Likelihood\")\n",
    "plt.legend()\n",
    "\n",
    "fig.add_subplot(122)\n",
    "plt.plot(topic_word_prior_rates, perplexity_list,'b-',label='Perplexity')\n",
    "plt.xlabel(\"beta\")\n",
    "plt.ylabel(\"Perplexity\")\n",
    "plt.legend()\n",
    "plt.show()"
   ]
  },
  {
   "cell_type": "markdown",
   "id": "e5fff6e7",
   "metadata": {},
   "source": [
    "# Display top words in each topic"
   ]
  },
  {
   "cell_type": "code",
   "execution_count": 174,
   "id": "0c4406eb",
   "metadata": {},
   "outputs": [
    {
     "data": {
      "text/plain": [
       "[['united',\n",
       "  'city',\n",
       "  'states',\n",
       "  'county',\n",
       "  'people',\n",
       "  'population',\n",
       "  'largest',\n",
       "  'area',\n",
       "  'capital',\n",
       "  'state',\n",
       "  'kingdom',\n",
       "  'church',\n",
       "  'total'],\n",
       " ['group',\n",
       "  'la',\n",
       "  'germany',\n",
       "  'band',\n",
       "  'place',\n",
       "  'german',\n",
       "  'rock',\n",
       "  'river',\n",
       "  'formed',\n",
       "  'western',\n",
       "  'west',\n",
       "  'took',\n",
       "  'said'],\n",
       " ['national',\n",
       "  'international',\n",
       "  'line',\n",
       "  'team',\n",
       "  'died',\n",
       "  'age',\n",
       "  'famous',\n",
       "  'station',\n",
       "  'started',\n",
       "  'left',\n",
       "  'father',\n",
       "  'battle',\n",
       "  'house'],\n",
       " ['born',\n",
       "  'american',\n",
       "  'album',\n",
       "  'march',\n",
       "  'university',\n",
       "  'january',\n",
       "  'july',\n",
       "  'english',\n",
       "  'october',\n",
       "  'released',\n",
       "  'september',\n",
       "  'ndash',\n",
       "  'april'],\n",
       " ['district',\n",
       "  'republic',\n",
       "  'government',\n",
       "  'history',\n",
       "  'century',\n",
       "  'municipality',\n",
       "  'british',\n",
       "  'switzerland',\n",
       "  'period',\n",
       "  'order',\n",
       "  'canton',\n",
       "  'pakistan',\n",
       "  'old'],\n",
       " ['used',\n",
       "  'number',\n",
       "  'different',\n",
       "  'written',\n",
       "  'party',\n",
       "  'song',\n",
       "  'member',\n",
       "  'power',\n",
       "  'countries',\n",
       "  'european',\n",
       "  'minister',\n",
       "  'published',\n",
       "  'political'],\n",
       " ['world',\n",
       "  'football',\n",
       "  'player',\n",
       "  'year',\n",
       "  'war',\n",
       "  'league',\n",
       "  'born',\n",
       "  'season',\n",
       "  'team',\n",
       "  'japanese',\n",
       "  'won',\n",
       "  'plays',\n",
       "  'championship'],\n",
       " ['france',\n",
       "  'department',\n",
       "  'region',\n",
       "  'commune',\n",
       "  'northern',\n",
       "  'north',\n",
       "  'aisne',\n",
       "  'calvados',\n",
       "  'northwest',\n",
       "  'southern',\n",
       "  'gironde',\n",
       "  'picardie',\n",
       "  'aquitaine'],\n",
       " ['like',\n",
       "  'use',\n",
       "  'used',\n",
       "  'make',\n",
       "  'language',\n",
       "  'term',\n",
       "  'example',\n",
       "  'general',\n",
       "  'official',\n",
       "  'using',\n",
       "  'works',\n",
       "  'air',\n",
       "  'army'],\n",
       " ['time',\n",
       "  'known',\n",
       "  'later',\n",
       "  'life',\n",
       "  'water',\n",
       "  'early',\n",
       "  'form',\n",
       "  'used',\n",
       "  'live',\n",
       "  'usually',\n",
       "  'grand',\n",
       "  'important',\n",
       "  'computer'],\n",
       " ['called',\n",
       "  'family',\n",
       "  'named',\n",
       "  'species',\n",
       "  'years',\n",
       "  'tropical',\n",
       "  'hurricane',\n",
       "  'storm',\n",
       "  'common',\n",
       "  'body',\n",
       "  'word',\n",
       "  'greek',\n",
       "  'red'],\n",
       " ['new',\n",
       "  'south',\n",
       "  'north',\n",
       "  'located',\n",
       "  'town',\n",
       "  'east',\n",
       "  'school',\n",
       "  'west',\n",
       "  'near',\n",
       "  'york',\n",
       "  'central',\n",
       "  'city',\n",
       "  'center'],\n",
       " ['series',\n",
       "  'game',\n",
       "  'film',\n",
       "  'king',\n",
       "  'music',\n",
       "  'television',\n",
       "  'games',\n",
       "  'best',\n",
       "  'roman',\n",
       "  'video',\n",
       "  'great',\n",
       "  'movie',\n",
       "  'company']]"
      ]
     },
     "execution_count": 174,
     "metadata": {},
     "output_type": "execute_result"
    }
   ],
   "source": [
    "num_top_words = 13\n",
    "\n",
    "def display_topics(model, feature_names, no_top_words):\n",
    "    \"\"\"takes the model components generated by LDA\n",
    "    dump the top words by weight for each topic.\n",
    "    \"\"\"\n",
    "    topics =[]\n",
    "    for topic_idx, topic in enumerate(model.components_):\n",
    "        term_list = [feature_names[i] for i in topic.argsort()[:-no_top_words - 1:-1]]\n",
    "        topics.append(term_list)\n",
    "    return topics\n",
    "\n",
    "display_topics(lda,tf_feature_names, num_top_words)"
   ]
  },
  {
   "cell_type": "markdown",
   "id": "52da39b0",
   "metadata": {},
   "source": [
    "# Topic coherence\n",
    "\n",
    "One measure of topic model quality that is used (to determine the optimal number of topics for a corpus is *topic coherence*) This is a measure of how semantically related the top terms in a topic model are. \n",
    "\n",
    "- Low coherence: tend to be filled with seemingly random words and hard to interpret\n",
    "- High coherence: tend to indicate a clear semantic theme that's easily interpreted\n",
    "\n",
    "Word embeddings are an ideal tool for computing topic coherence because they have the ability to represent word semantics. \n",
    "\n",
    "We're going to use `text8_model` W2VTransformer object, which implements the word2vec embedding"
   ]
  },
  {
   "cell_type": "code",
   "execution_count": 50,
   "id": "d0b436d5",
   "metadata": {},
   "outputs": [],
   "source": [
    "#pip install \"gensim==3.8.3\"- use to this version of gensim"
   ]
  },
  {
   "cell_type": "code",
   "execution_count": 51,
   "id": "7013f64c",
   "metadata": {},
   "outputs": [],
   "source": [
    "import pickle\n",
    "\n",
    "f = open(\"data/text8_W2V.pickle\", \"rb\")\n",
    "text8_model = pickle.load(f)\n",
    "f.close()"
   ]
  },
  {
   "cell_type": "markdown",
   "id": "4fe96306",
   "metadata": {},
   "source": [
    "# Average semantic distance as a text coherence measure"
   ]
  },
  {
   "cell_type": "code",
   "execution_count": 68,
   "id": "a5d8faaa",
   "metadata": {},
   "outputs": [],
   "source": [
    "from sklearn.metrics.pairwise import cosine_similarity\n",
    "def calc_avg_cosine(s):\n",
    "    try:\n",
    "        wordvecs=text8_model.transform(s)#For each input term, compute its word2vec embedding vector\n",
    "    except KeyError:\n",
    "        #print('term not found {}'.format(s))\n",
    "        matrix= np.zeros(10)\n",
    "    else:\n",
    "        matrix=np.zeros([len(s),len(s)]) #create an empty array with dimension len(input)*len(input)\n",
    "    \n",
    "        for i in range(len(s)): #iterate over the rows\n",
    "            for j in range(len(s)):#iterate over the columns\n",
    "                if i==j: #if row index and column index match (i.e comparing the same word to itself)\n",
    "                    matrix[i][j]=0 # set that value to 0\n",
    "                else: #otherwise calculate the cosine similarity between all words and append to the matrix\n",
    "                    v1 = np.array(wordvecs[i]).reshape(1,-1)\n",
    "                    v2 = np.array(wordvecs[j]).reshape(1,-1)\n",
    "                    sim = cosine_similarity(v1,v2)\n",
    "                    matrix[i][j]= sim\n",
    "                    \n",
    "                \n",
    "    return np.mean(matrix)"
   ]
  },
  {
   "cell_type": "code",
   "execution_count": 73,
   "id": "a72e78b1",
   "metadata": {},
   "outputs": [],
   "source": [
    "#display_topics(lda, features_tfidf, num_top_words)"
   ]
  },
  {
   "cell_type": "code",
   "execution_count": 71,
   "id": "0b1b198e",
   "metadata": {},
   "outputs": [],
   "source": [
    "scores =[]\n",
    "for topic in display_topics(lda, features_tfidf, num_top_words):\n",
    "    scores.append(calc_avg_cosine(topic))"
   ]
  },
  {
   "cell_type": "code",
   "execution_count": 72,
   "id": "9de0d7ba",
   "metadata": {},
   "outputs": [
    {
     "name": "stdout",
     "output_type": "stream",
     "text": [
      "[0.18844251058995723, 0.22881923768669366, 0.18896742030978203, 0.23224354784935713, 0.26277119332458826, 0.1510866433568299, 0.32901755705475805, 0.0, 0.1663243638537824, 0.1324111014790833]\n"
     ]
    }
   ],
   "source": [
    "print(scores)"
   ]
  },
  {
   "cell_type": "code",
   "execution_count": 79,
   "id": "bc5346df",
   "metadata": {},
   "outputs": [],
   "source": [
    "def coherence_b():\n",
    "    from sklearn.decomposition import LatentDirichletAllocation\n",
    "    top=10\n",
    "    HH=[]\n",
    "    for terms in range(2,11):\n",
    "        lda = LatentDirichletAllocation(n_components = terms, random_state=0)\n",
    "        W= lda.fit(tfidf_documents)\n",
    "        h = lda.components_\n",
    "        HH.append(h)\n",
    "        \n",
    "    topics=[]\n",
    "    for H in HH:\n",
    "        tops=[]\n",
    "        for each in H:\n",
    "            top10_indexes=each.argsort()[::-1][:top]\n",
    "            topi=[features_tfidf[each] for each in top10_indexes]\n",
    "            tops.append(topi)\n",
    "        topics.append(tops)\n",
    "    \n",
    "    medians=[]\n",
    "    for eachlist in topics:\n",
    "        scorelist=[]\n",
    "        for each in eachlist:\n",
    "            score=calc_avg_cosine(each)\n",
    "            scorelist.append(score)\n",
    "        medians.append(np.median(scorelist))\n",
    "    \n",
    "    return medians"
   ]
  },
  {
   "cell_type": "code",
   "execution_count": 80,
   "id": "4e027740",
   "metadata": {},
   "outputs": [
    {
     "data": {
      "text/plain": [
       "[0.1576924245734699,\n",
       " 0.11390801172703505,\n",
       " 0.12204309355001897,\n",
       " 0.16601227690465747,\n",
       " 0.21220865251030774,\n",
       " 0.1433943632710725,\n",
       " 0.1633485022885725,\n",
       " 0.19491060564294457,\n",
       " 0.18870496544986964]"
      ]
     },
     "execution_count": 80,
     "metadata": {},
     "output_type": "execute_result"
    }
   ],
   "source": [
    "coherence_b()"
   ]
  },
  {
   "cell_type": "markdown",
   "id": "98070d78",
   "metadata": {},
   "source": [
    "#  Use GridSearch to determine the best LDA model (failed- ran for more than 24 hours with no output)"
   ]
  },
  {
   "cell_type": "code",
   "execution_count": 86,
   "id": "38f9f936",
   "metadata": {},
   "outputs": [],
   "source": [
    "# from sklearn.model_selection import GridSearchCV\n",
    "# #Define Search Param\n",
    "# search_params = {'n_components': [2, 3, 4, 8, 10,13], 'learning_decay': [.5, .7, .9]}\n",
    "# # Init the Model\n",
    "# lda = LatentDirichletAllocation(max_iter=5, learning_method='online', learning_offset=50.,random_state=0)\n",
    "# # Init Grid Search Class\n",
    "# model = GridSearchCV(lda, param_grid=search_params)\n",
    "# # Do the Grid Search\n",
    "# model.fit(tf_documents)\n",
    "# GridSearchCV(cv=None, error_score='raise',\n",
    "#        estimator=LatentDirichletAllocation(batch_size=128, doc_topic_prior=None,\n",
    "#              evaluate_every=-1, learning_decay=0.7, learning_method=None,\n",
    "#              learning_offset=10.0, max_doc_update_iter=100, max_iter=10,\n",
    "#              mean_change_tol=0.001, n_components=10, n_jobs=1,\n",
    "#              n_topics=None, perp_tol=0.1, random_state=None,\n",
    "#              topic_word_prior=None, total_samples=1000000.0, verbose=0),\n",
    "#        fit_params=None, iid=True, n_jobs=1,\n",
    "#        param_grid={'n_topics': [2,3,4,8,10,13], 'learning_decay': [0.5, 0.7, 0.9]},\n",
    "#        pre_dispatch='2*n_jobs', refit=True, return_train_score='warn',\n",
    "#        scoring=None, verbose=0)"
   ]
  },
  {
   "cell_type": "markdown",
   "id": "d67918e1",
   "metadata": {},
   "source": [
    "# Visualizing Topics with pyLDAvis\n",
    "\n",
    "pyLDAvis is designed to help users interpret the topics in a topic model that has been fit to a corpus of text data. The package extracts information from a fitted LDA topic model to inform an interactive web-based visualization."
   ]
  },
  {
   "cell_type": "code",
   "execution_count": 175,
   "id": "6d26a9f2",
   "metadata": {},
   "outputs": [],
   "source": [
    "#pip install pyLDAvis\n",
    "import spacy \n",
    "from spacy import displacy\n",
    "\n",
    "import gensim\n",
    "from gensim.corpora import Dictionary\n",
    "from gensim.models import LdaModel, CoherenceModel, LsiModel, HdpModel\n",
    "import warnings\n",
    "warnings.filterwarnings(\"ignore\")\n",
    "from nltk.corpus import stopwords"
   ]
  },
  {
   "cell_type": "code",
   "execution_count": 176,
   "id": "9e9c03ef",
   "metadata": {},
   "outputs": [],
   "source": [
    "stop = stopwords.words('english')"
   ]
  },
  {
   "cell_type": "code",
   "execution_count": 177,
   "id": "40b63ec5",
   "metadata": {},
   "outputs": [],
   "source": [
    "df['no_stop']= df['preprocessed'].apply(lambda x: [item for item in x if item not in stop])"
   ]
  },
  {
   "cell_type": "code",
   "execution_count": 178,
   "id": "0596ecdc",
   "metadata": {},
   "outputs": [],
   "source": [
    "texts= df['no_stop']\n",
    "\n",
    "dictionary = Dictionary(texts)\n",
    "corpus = [dictionary.doc2bow(text) for text in texts]"
   ]
  },
  {
   "cell_type": "code",
   "execution_count": 179,
   "id": "6ca1074f",
   "metadata": {},
   "outputs": [
    {
     "data": {
      "text/plain": [
       "[(1,\n",
       "  '0.014*\"means\" + 0.012*\"century\" + 0.012*\"built\" + 0.010*\"get\" + 0.010*\"big\" + 0.010*\"loire\" + 0.010*\"pays\" + 0.010*\"minister\" + 0.009*\"company\" + 0.009*\"hockey\"'),\n",
       " (6,\n",
       "  '0.050*\"city\" + 0.035*\"district\" + 0.028*\"part\" + 0.028*\"capital\" + 0.026*\"province\" + 0.023*\"island\" + 0.022*\"town\" + 0.022*\"northwest\" + 0.020*\"municipality\" + 0.019*\"state\"'),\n",
       " (2,\n",
       "  '0.027*\"national\" + 0.024*\"team\" + 0.021*\"university\" + 0.018*\"played\" + 0.013*\"league\" + 0.013*\"first\" + 0.012*\"season\" + 0.011*\"one\" + 0.010*\"world\" + 0.009*\"football\"'),\n",
       " (5,\n",
       "  '0.015*\"tropical\" + 0.014*\"church\" + 0.013*\"hurricane\" + 0.013*\"storm\" + 0.013*\"roman\" + 0.013*\"pakistan\" + 0.010*\"air\" + 0.010*\"village\" + 0.010*\"council\" + 0.009*\"black\"'),\n",
       " (9,\n",
       "  '0.080*\"born\" + 0.040*\"football\" + 0.039*\"player\" + 0.025*\"former\" + 0.024*\"american\" + 0.018*\"september\" + 0.017*\"april\" + 0.017*\"may\" + 0.017*\"march\" + 0.017*\"july\"'),\n",
       " (11,\n",
       "  '0.021*\"war\" + 0.015*\"king\" + 0.014*\"first\" + 0.014*\"started\" + 0.014*\"london\" + 0.013*\"ii\" + 0.013*\"world\" + 0.012*\"england\" + 0.012*\"became\" + 0.011*\"president\"'),\n",
       " (0,\n",
       "  '0.058*\"found\" + 0.039*\"north\" + 0.025*\"south\" + 0.021*\"county\" + 0.019*\"area\" + 0.018*\"west\" + 0.016*\"river\" + 0.014*\"east\" + 0.012*\"largest\" + 0.012*\"city\"'),\n",
       " (7,\n",
       "  '0.018*\"game\" + 0.015*\"like\" + 0.015*\"system\" + 0.014*\"said\" + 0.012*\"school\" + 0.011*\"family\" + 0.011*\"live\" + 0.011*\"high\" + 0.010*\"went\" + 0.010*\"people\"'),\n",
       " (10,\n",
       "  '0.106*\"france\" + 0.091*\"region\" + 0.083*\"department\" + 0.062*\"commune\" + 0.039*\"de\" + 0.023*\"la\" + 0.019*\"ã\" + 0.016*\"calvados\" + 0.015*\"aisne\" + 0.015*\"picardie\"'),\n",
       " (4,\n",
       "  '0.055*\"called\" + 0.032*\"also\" + 0.028*\"used\" + 0.023*\"name\" + 0.017*\"known\" + 0.015*\"year\" + 0.014*\"often\" + 0.013*\"sometimes\" + 0.011*\"one\" + 0.010*\"usually\"')]"
      ]
     },
     "execution_count": 179,
     "metadata": {},
     "output_type": "execute_result"
    }
   ],
   "source": [
    "lda_model = LdaModel(corpus=corpus, num_topics=13, id2word=dictionary)\n",
    "lda_model.show_topics()"
   ]
  },
  {
   "cell_type": "code",
   "execution_count": 180,
   "id": "8c55c9dc",
   "metadata": {},
   "outputs": [],
   "source": [
    "import pyLDAvis\n",
    "import pyLDAvis.gensim_models\n",
    "\n",
    "pyLDAvis.enable_notebook()\n",
    "p =pyLDAvis.gensim_models.prepare(lda_model, corpus, dictionary)"
   ]
  },
  {
   "cell_type": "code",
   "execution_count": 181,
   "id": "60834a8e",
   "metadata": {},
   "outputs": [],
   "source": [
    "pyLDAvis.save_html(p,'lda.html')"
   ]
  },
  {
   "cell_type": "code",
   "execution_count": 182,
   "id": "0ab1d862",
   "metadata": {},
   "outputs": [
    {
     "name": "stdout",
     "output_type": "stream",
     "text": [
      "PreparedData(topic_coordinates=              x         y  topics  cluster       Freq\n",
      "topic                                                \n",
      "12    -0.226811 -0.050899       1        1  11.259613\n",
      "0      0.041530 -0.242499       2        1   9.058055\n",
      "2     -0.050872  0.074678       3        1   8.920224\n",
      "11     0.034752  0.140122       4        1   8.585522\n",
      "4     -0.158941 -0.080045       5        1   8.078135\n",
      "7     -0.188488 -0.025254       6        1   8.030894\n",
      "9      0.200335  0.226975       7        1   8.010593\n",
      "8     -0.018173  0.044911       8        1   8.006853\n",
      "3      0.029754  0.216414       9        1   7.269819\n",
      "1     -0.134585  0.014575      10        1   6.590651\n",
      "5      0.035456  0.017640      11        1   6.069085\n",
      "6      0.170688 -0.206403      12        1   5.189019\n",
      "10     0.265357 -0.130216      13        1   4.931536, topic_info=            Term          Freq         Total Category  logprob  loglift\n",
      "484         born  27649.000000  27649.000000  Default  30.0000  30.0000\n",
      "99        france  22606.000000  22606.000000  Default  29.0000  29.0000\n",
      "820       region  19454.000000  19454.000000  Default  28.0000  28.0000\n",
      "51         found  22582.000000  22582.000000  Default  27.0000  27.0000\n",
      "188   department  17743.000000  17743.000000  Default  26.0000  26.0000\n",
      "...          ...           ...           ...      ...      ...      ...\n",
      "673           de   8280.784433   8915.378937  Topic13  -3.2493   2.9357\n",
      "3159       paris   1569.532999   1800.599898  Topic13  -4.9125   2.8722\n",
      "372            n   1435.399295   1683.308202  Topic13  -5.0018   2.8502\n",
      "2070    southern   1963.157786   3821.574591  Topic13  -4.6887   2.3434\n",
      "71          part   1481.079173  11797.411867  Topic13  -4.9705   0.9344\n",
      "\n",
      "[673 rows x 6 columns], token_table=       Topic      Freq     Term\n",
      "term                           \n",
      "1789      12  0.998843  academy\n",
      "1058      12  0.998544     acid\n",
      "2725      12  0.998869      act\n",
      "481        7  0.024202    actor\n",
      "481        9  0.975182    actor\n",
      "...      ...       ...      ...\n",
      "191       12  0.998673        å\n",
      "3400       8  0.998793        î\n",
      "8381       8  0.999177        ð\n",
      "13586      9  0.999239        ø\n",
      "13587      9  0.998952        ù\n",
      "\n",
      "[1196 rows x 3 columns], R=30, lambda_step=0.01, plot_opts={'xlab': 'PC1', 'ylab': 'PC2'}, topic_order=[13, 1, 3, 12, 5, 8, 10, 9, 4, 2, 6, 7, 11])\n"
     ]
    }
   ],
   "source": [
    "print(p)"
   ]
  },
  {
   "cell_type": "code",
   "execution_count": null,
   "id": "e9a4e946",
   "metadata": {},
   "outputs": [],
   "source": []
  }
 ],
 "metadata": {
  "kernelspec": {
   "display_name": "Python 3",
   "language": "python",
   "name": "python3"
  },
  "language_info": {
   "codemirror_mode": {
    "name": "ipython",
    "version": 3
   },
   "file_extension": ".py",
   "mimetype": "text/x-python",
   "name": "python",
   "nbconvert_exporter": "python",
   "pygments_lexer": "ipython3",
   "version": "3.8.8"
  }
 },
 "nbformat": 4,
 "nbformat_minor": 5
}
