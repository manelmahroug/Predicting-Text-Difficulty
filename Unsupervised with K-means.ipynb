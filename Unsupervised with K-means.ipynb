{
 "cells": [
  {
   "cell_type": "markdown",
   "id": "7699142a",
   "metadata": {},
   "source": [
    "# k-means"
   ]
  },
  {
   "cell_type": "markdown",
   "id": "4e3424a0",
   "metadata": {},
   "source": [
    "In this notebook, I will explore k-means clustering as a way to determine how many clusters there are. I will be using TF-IDF feature representation and make use of some dimentionality reduction techniques such as PCA to reduce the number of features."
   ]
  },
  {
   "cell_type": "code",
   "execution_count": 1,
   "id": "335b8989",
   "metadata": {},
   "outputs": [],
   "source": [
    "import pandas as pd\n",
    "import numpy as np\n",
    "from sklearn.model_selection import train_test_split, cross_val_score\n",
    "from sklearn.feature_extraction.text import TfidfVectorizer\n",
    "from tqdm import tqdm\n",
    "tqdm.pandas()\n",
    "from sklearn.cluster import KMeans, MiniBatchKMeans\n",
    "from sklearn.metrics import davies_bouldin_score, calinski_harabasz_score, silhouette_score\n",
    "import warnings\n",
    "import matplotlib.pyplot as plt\n",
    "%matplotlib inline\n",
    "warnings.filterwarnings('ignore')"
   ]
  },
  {
   "cell_type": "code",
   "execution_count": 2,
   "id": "14a7be2b",
   "metadata": {},
   "outputs": [],
   "source": [
    "# import data\n",
    "cleaned = pd.read_pickle('data/features.pkl')"
   ]
  },
  {
   "cell_type": "code",
   "execution_count": 3,
   "id": "613be419",
   "metadata": {},
   "outputs": [
    {
     "data": {
      "text/html": [
       "<div>\n",
       "<style scoped>\n",
       "    .dataframe tbody tr th:only-of-type {\n",
       "        vertical-align: middle;\n",
       "    }\n",
       "\n",
       "    .dataframe tbody tr th {\n",
       "        vertical-align: top;\n",
       "    }\n",
       "\n",
       "    .dataframe thead th {\n",
       "        text-align: right;\n",
       "    }\n",
       "</style>\n",
       "<table border=\"1\" class=\"dataframe\">\n",
       "  <thead>\n",
       "    <tr style=\"text-align: right;\">\n",
       "      <th></th>\n",
       "      <th>original_text</th>\n",
       "      <th>label</th>\n",
       "      <th>preprocessed</th>\n",
       "      <th>word_count</th>\n",
       "      <th>avg_word_count</th>\n",
       "      <th>syllable_count</th>\n",
       "      <th>uncommon</th>\n",
       "      <th>difficult_words</th>\n",
       "      <th>stem</th>\n",
       "      <th>discourse</th>\n",
       "      <th>cohesive_features</th>\n",
       "      <th>flesch</th>\n",
       "      <th>dale</th>\n",
       "      <th>mcalpine</th>\n",
       "      <th>nouns_adjs</th>\n",
       "      <th>normalized</th>\n",
       "    </tr>\n",
       "  </thead>\n",
       "  <tbody>\n",
       "    <tr>\n",
       "      <th>0</th>\n",
       "      <td>There is manuscript evidence that Austen conti...</td>\n",
       "      <td>1</td>\n",
       "      <td>[there, is, manuscript, evidence, that, austen...</td>\n",
       "      <td>35</td>\n",
       "      <td>4.485714</td>\n",
       "      <td>1.371429</td>\n",
       "      <td>14</td>\n",
       "      <td>7</td>\n",
       "      <td>there is manuscript evid that austen continu t...</td>\n",
       "      <td>4</td>\n",
       "      <td>2</td>\n",
       "      <td>52.87</td>\n",
       "      <td>11.24</td>\n",
       "      <td>48.0</td>\n",
       "      <td>0.228571</td>\n",
       "      <td>there is manuscript evidence that austen conti...</td>\n",
       "    </tr>\n",
       "    <tr>\n",
       "      <th>1</th>\n",
       "      <td>In a remarkable comparative analysis , Mandaea...</td>\n",
       "      <td>1</td>\n",
       "      <td>[in, a, remarkable, comparative, analysis, man...</td>\n",
       "      <td>19</td>\n",
       "      <td>6.000000</td>\n",
       "      <td>1.789474</td>\n",
       "      <td>14</td>\n",
       "      <td>8</td>\n",
       "      <td>there is manuscript evid that austen continu t...</td>\n",
       "      <td>2</td>\n",
       "      <td>1</td>\n",
       "      <td>35.27</td>\n",
       "      <td>14.55</td>\n",
       "      <td>23.0</td>\n",
       "      <td>0.315789</td>\n",
       "      <td>in a remarkable comparative analysis mandaean ...</td>\n",
       "    </tr>\n",
       "    <tr>\n",
       "      <th>2</th>\n",
       "      <td>Before Persephone was released to Hermes , who...</td>\n",
       "      <td>1</td>\n",
       "      <td>[before, persephone, was, released, to, hermes...</td>\n",
       "      <td>40</td>\n",
       "      <td>4.725000</td>\n",
       "      <td>1.400000</td>\n",
       "      <td>15</td>\n",
       "      <td>9</td>\n",
       "      <td>there is manuscript evid that austen continu t...</td>\n",
       "      <td>7</td>\n",
       "      <td>3</td>\n",
       "      <td>47.80</td>\n",
       "      <td>11.15</td>\n",
       "      <td>57.0</td>\n",
       "      <td>0.175000</td>\n",
       "      <td>before persephone was released to hermes who h...</td>\n",
       "    </tr>\n",
       "    <tr>\n",
       "      <th>3</th>\n",
       "      <td>Cogeneration plants are commonly found in dist...</td>\n",
       "      <td>1</td>\n",
       "      <td>[cogeneration, plants, are, commonly, found, i...</td>\n",
       "      <td>32</td>\n",
       "      <td>6.281250</td>\n",
       "      <td>1.781250</td>\n",
       "      <td>22</td>\n",
       "      <td>14</td>\n",
       "      <td>there is manuscript evid that austen continu t...</td>\n",
       "      <td>0</td>\n",
       "      <td>1</td>\n",
       "      <td>22.08</td>\n",
       "      <td>14.60</td>\n",
       "      <td>38.0</td>\n",
       "      <td>0.593750</td>\n",
       "      <td>cogeneration plants are commonly found in dist...</td>\n",
       "    </tr>\n",
       "    <tr>\n",
       "      <th>4</th>\n",
       "      <td>Geneva -LRB- , ; , ; , ; ; -RRB- is the second...</td>\n",
       "      <td>1</td>\n",
       "      <td>[geneva, is, the, city, in, switzerland, after...</td>\n",
       "      <td>20</td>\n",
       "      <td>4.650000</td>\n",
       "      <td>1.350000</td>\n",
       "      <td>7</td>\n",
       "      <td>4</td>\n",
       "      <td>there is manuscript evid that austen continu t...</td>\n",
       "      <td>0</td>\n",
       "      <td>2</td>\n",
       "      <td>68.10</td>\n",
       "      <td>8.58</td>\n",
       "      <td>29.0</td>\n",
       "      <td>0.400000</td>\n",
       "      <td>geneva is the city in switzerland after zürich...</td>\n",
       "    </tr>\n",
       "  </tbody>\n",
       "</table>\n",
       "</div>"
      ],
      "text/plain": [
       "                                       original_text  label  \\\n",
       "0  There is manuscript evidence that Austen conti...      1   \n",
       "1  In a remarkable comparative analysis , Mandaea...      1   \n",
       "2  Before Persephone was released to Hermes , who...      1   \n",
       "3  Cogeneration plants are commonly found in dist...      1   \n",
       "4  Geneva -LRB- , ; , ; , ; ; -RRB- is the second...      1   \n",
       "\n",
       "                                        preprocessed  word_count  \\\n",
       "0  [there, is, manuscript, evidence, that, austen...          35   \n",
       "1  [in, a, remarkable, comparative, analysis, man...          19   \n",
       "2  [before, persephone, was, released, to, hermes...          40   \n",
       "3  [cogeneration, plants, are, commonly, found, i...          32   \n",
       "4  [geneva, is, the, city, in, switzerland, after...          20   \n",
       "\n",
       "   avg_word_count  syllable_count  uncommon  difficult_words  \\\n",
       "0        4.485714        1.371429        14                7   \n",
       "1        6.000000        1.789474        14                8   \n",
       "2        4.725000        1.400000        15                9   \n",
       "3        6.281250        1.781250        22               14   \n",
       "4        4.650000        1.350000         7                4   \n",
       "\n",
       "                                                stem  discourse  \\\n",
       "0  there is manuscript evid that austen continu t...          4   \n",
       "1  there is manuscript evid that austen continu t...          2   \n",
       "2  there is manuscript evid that austen continu t...          7   \n",
       "3  there is manuscript evid that austen continu t...          0   \n",
       "4  there is manuscript evid that austen continu t...          0   \n",
       "\n",
       "   cohesive_features  flesch   dale  mcalpine  nouns_adjs  \\\n",
       "0                  2   52.87  11.24      48.0    0.228571   \n",
       "1                  1   35.27  14.55      23.0    0.315789   \n",
       "2                  3   47.80  11.15      57.0    0.175000   \n",
       "3                  1   22.08  14.60      38.0    0.593750   \n",
       "4                  2   68.10   8.58      29.0    0.400000   \n",
       "\n",
       "                                          normalized  \n",
       "0  there is manuscript evidence that austen conti...  \n",
       "1  in a remarkable comparative analysis mandaean ...  \n",
       "2  before persephone was released to hermes who h...  \n",
       "3  cogeneration plants are commonly found in dist...  \n",
       "4  geneva is the city in switzerland after zürich...  "
      ]
     },
     "execution_count": 3,
     "metadata": {},
     "output_type": "execute_result"
    }
   ],
   "source": [
    "cleaned.head()"
   ]
  },
  {
   "cell_type": "markdown",
   "id": "fb09c4c4",
   "metadata": {},
   "source": [
    "### Step 1:\n",
    "\n",
    "Here, we will apply k-means clustering to a set of text documents to gain some insight into the nature of the content. \n",
    "\n",
    "This scenario uses the TfidfVectorizer class to convert each text to a numeric vector. "
   ]
  },
  {
   "cell_type": "code",
   "execution_count": 4,
   "id": "d6d57e26",
   "metadata": {},
   "outputs": [],
   "source": [
    "def vectorized(top_n = -1, ngram_range = (1,2), max_features = 2000):\n",
    "    \"\"\"\n",
    "    This function returns:\n",
    "    - a matrix X with one row per document (review). Each row is a sparse\n",
    "    vector containing tf.idf term weights for the words in the document.\n",
    "    \"\"\"\n",
    "    df = pd.read_pickle('data/features.pkl')['normalized']\n",
    "    vectorizer = TfidfVectorizer(max_features=max_features,\n",
    "                                 min_df=2, stop_words='english',\n",
    "                                 ngram_range = ngram_range,\n",
    "                                 use_idf=True)\n",
    "    if (top_n >= 0):\n",
    "        instances = df.values[0:top_n]\n",
    "    else:\n",
    "        instances = df.values\n",
    "    \n",
    "    X = vectorizer.fit_transform(instances) \n",
    "    \n",
    "    return (X, vectorizer, instances)"
   ]
  },
  {
   "cell_type": "code",
   "execution_count": 5,
   "id": "77e870a8",
   "metadata": {},
   "outputs": [
    {
     "data": {
      "text/plain": [
       "array([[0., 0., 0., ..., 0., 0., 0.],\n",
       "       [0., 0., 0., ..., 0., 0., 0.],\n",
       "       [0., 0., 0., ..., 0., 0., 0.],\n",
       "       ...,\n",
       "       [0., 0., 0., ..., 0., 0., 0.],\n",
       "       [0., 0., 0., ..., 0., 0., 0.],\n",
       "       [0., 0., 0., ..., 0., 0., 0.]])"
      ]
     },
     "execution_count": 5,
     "metadata": {},
     "output_type": "execute_result"
    }
   ],
   "source": [
    "vectorized(top_n = -1, ngram_range = (1,2), max_features = 2000)[0].toarray()"
   ]
  },
  {
   "cell_type": "markdown",
   "id": "52e56cda",
   "metadata": {},
   "source": [
    "Let's build a function that takes the various numerical vectors and reduces them into two principle componments"
   ]
  },
  {
   "cell_type": "code",
   "execution_count": 6,
   "id": "530ec9ab",
   "metadata": {},
   "outputs": [],
   "source": [
    "def pca(npca_components):\n",
    "    \"\"\"\n",
    "    Reduces dimensions of text into PCA space\n",
    "    \"\"\"\n",
    "    from sklearn.decomposition import PCA\n",
    "    from sklearn.preprocessing import StandardScaler\n",
    "    \n",
    "    X, vectorizer, review_instances = vectorized(top_n = -1, ngram_range = (1,2), max_features = 2000)\n",
    "    \n",
    "    # convert vectorized text into dataframe \n",
    "    df_x_tdidf = pd.DataFrame(X.toarray(), columns = vectorizer.get_feature_names())\n",
    "    \n",
    "    #Reduce TFIDF features X, to 4 Principle components (Assessing impact)\n",
    "    X_pca = PCA(n_components=npca_components).fit_transform(StandardScaler().fit_transform(df_x_tdidf))\n",
    "    \n",
    "    # convert pca features to dataframe:\n",
    "    df_xpca = pd.DataFrame(X_pca, columns = [\"pca\"+str(i) for i in range(1, npca_components+1)])\n",
    "    \n",
    "    return df_xpca\n"
   ]
  },
  {
   "cell_type": "code",
   "execution_count": null,
   "id": "4d15d31d",
   "metadata": {},
   "outputs": [],
   "source": [
    "#df_pca = pca(2)"
   ]
  },
  {
   "cell_type": "code",
   "execution_count": 8,
   "id": "5cf0dc63",
   "metadata": {},
   "outputs": [],
   "source": [
    "df_pca.to_pickle(\"data/pca2.pkl\")"
   ]
  },
  {
   "cell_type": "markdown",
   "id": "8a2eb718",
   "metadata": {},
   "source": [
    "## Next, let's find the optimal number of clusters"
   ]
  },
  {
   "cell_type": "markdown",
   "id": "51cefb97",
   "metadata": {},
   "source": [
    "#### K-Means: Inertia\n",
    "\n",
    "Inertia measures how well a dataset was clustered by K-Means. It is calculated by measuring the distance between each data point and its centroid, squaring this distance, and summing these squares across one cluster.\n",
    "\n",
    "A good model is one with low inertia AND a low number of clusters (K). However, this is a tradeoff because as K increases, inertia decreases.\n",
    "\n",
    "To find the optimal K for a dataset we use the Elbow method. The optimal K is the point where the decrease in inertia begins to slow (looks like an elbow)"
   ]
  },
  {
   "cell_type": "code",
   "execution_count": 7,
   "id": "f4722683",
   "metadata": {},
   "outputs": [
    {
     "data": {
      "text/plain": [
       "66852     damn was given poor reviews by the daily star ...\n",
       "242486    this danger made the asteroid level on the tor...\n",
       "67594     hattusili and the egyptian pharaoh ramesses ii...\n",
       "340029    it is found in the region pays de la loire in ...\n",
       "342307        shawnee park is a park in louisville kentucky\n",
       "                                ...                        \n",
       "281685    an atlas is a collection of maps or manifolds ...\n",
       "271673                  most people in the uk speak english\n",
       "301321              the fairly oddparents and danny phantom\n",
       "256255    its first section opened in which makes it old...\n",
       "211427    villigen is a municipality of the district of ...\n",
       "Name: normalized, Length: 100000, dtype: object"
      ]
     },
     "execution_count": 7,
     "metadata": {},
     "output_type": "execute_result"
    }
   ],
   "source": [
    "# first let's try with a sample\n",
    "df = pd.read_pickle('data/features.pkl')\n",
    "sample= df['normalized'].sample(n=100000, random_state=42)\n",
    "\n",
    "sample"
   ]
  },
  {
   "cell_type": "code",
   "execution_count": 8,
   "id": "c2b00fc6",
   "metadata": {},
   "outputs": [],
   "source": [
    "def vectorized_sample(top_n = -1, ngram_range = (1,2), max_features = 200):\n",
    "    \"\"\"\n",
    "    This function returns:\n",
    "    - a matrix X with one row per document (review). Each row is a sparse\n",
    "    vector containing tf.idf term weights for the words in the document.\n",
    "    \"\"\"\n",
    "    df = sample\n",
    "    vectorizer = TfidfVectorizer(max_features=max_features,\n",
    "                                 min_df=2, stop_words='english',\n",
    "                                 ngram_range = ngram_range,\n",
    "                                 use_idf=True)\n",
    "    if (top_n >= 0):\n",
    "        instances = df.values[0:top_n]\n",
    "    else:\n",
    "        instances = df.values\n",
    "    \n",
    "    X = vectorizer.fit_transform(instances) \n",
    "    \n",
    "    return (X, vectorizer, instances)"
   ]
  },
  {
   "cell_type": "code",
   "execution_count": 9,
   "id": "bccf7fc6",
   "metadata": {},
   "outputs": [],
   "source": [
    "inertia = []\n",
    "labels = []\n",
    "\n",
    "def elbow_method():\n",
    "    \"\"\"Returns optimal k_clusters in the range of 2 to 10\"\"\"\n",
    "    X, vectorizer, review_instances = vectorized_sample(top_n = -1, ngram_range = (1,2), max_features = 200)\n",
    "\n",
    "    for k in tqdm(range(2, 15)): \n",
    "        km = KMeans(n_clusters=k, max_iter=50,random_state=42).fit(X.toarray())\n",
    "        labels.append(km.labels_)\n",
    "        inertia.append(km.inertia_)\n",
    "    return labels, inertia"
   ]
  },
  {
   "cell_type": "code",
   "execution_count": 10,
   "id": "b62d51f8",
   "metadata": {},
   "outputs": [
    {
     "name": "stderr",
     "output_type": "stream",
     "text": [
      "100%|██████████| 13/13 [00:27<00:00,  2.15s/it]\n"
     ]
    },
    {
     "data": {
      "text/plain": [
       "([array([0, 0, 0, ..., 0, 0, 0], dtype=int32),\n",
       "  array([2, 2, 2, ..., 2, 2, 2], dtype=int32),\n",
       "  array([2, 2, 2, ..., 2, 2, 2], dtype=int32),\n",
       "  array([3, 3, 3, ..., 3, 3, 3], dtype=int32),\n",
       "  array([0, 0, 0, ..., 0, 0, 0], dtype=int32),\n",
       "  array([6, 6, 6, ..., 6, 6, 6], dtype=int32),\n",
       "  array([0, 1, 1, ..., 1, 1, 1], dtype=int32),\n",
       "  array([6, 6, 6, ..., 6, 6, 6], dtype=int32),\n",
       "  array([2, 2, 1, ..., 2, 3, 2], dtype=int32),\n",
       "  array([5, 2, 9, ..., 2, 2, 2], dtype=int32),\n",
       "  array([4, 5, 5, ..., 5, 5, 5], dtype=int32),\n",
       "  array([ 3,  3,  3, ...,  3,  3, 12], dtype=int32),\n",
       "  array([1, 1, 4, ..., 1, 1, 1], dtype=int32)],\n",
       " [77115.49338430513,\n",
       "  75332.82902175152,\n",
       "  74177.98666744711,\n",
       "  73814.89877845588,\n",
       "  72864.50516855363,\n",
       "  71698.85559375983,\n",
       "  71435.73474751961,\n",
       "  70768.4239738978,\n",
       "  71103.18406220648,\n",
       "  70488.58212989259,\n",
       "  69451.51611731714,\n",
       "  69609.191524503,\n",
       "  68959.8767501848])"
      ]
     },
     "execution_count": 10,
     "metadata": {},
     "output_type": "execute_result"
    }
   ],
   "source": [
    "elbow_method()"
   ]
  },
  {
   "cell_type": "code",
   "execution_count": 11,
   "id": "352d6a7c",
   "metadata": {},
   "outputs": [
    {
     "data": {
      "image/png": "[encoded data removed]",
      "text/plain": [
       "<Figure size 1080x720 with 1 Axes>"
      ]
     },
     "metadata": {
      "needs_background": "light"
     },
     "output_type": "display_data"
    }
   ],
   "source": [
    "# Elbow Plot: \n",
    "plot = plt.figure(figsize= (15,10))\n",
    "plot = plt.plot(range(2,15), inertia, 'bx-', color = 'green')\n",
    "plot= plt.xticks(list(range(2,20)))\n",
    "plot= plt.xlabel('k')\n",
    "plot= plt.ylabel('inertia')\n",
    "plot= plt.title('Elbow Method to select optimal k')"
   ]
  },
  {
   "cell_type": "code",
   "execution_count": 12,
   "id": "2ecd88e4",
   "metadata": {},
   "outputs": [],
   "source": [
    "def clusters():\n",
    "    \"\"\"\n",
    "    We're looking for clusterings that have a high Calinski-Harabasz index\n",
    "    but a low Davies-Bouldin score.\n",
    "    \"\"\"\n",
    "    from sklearn.cluster import KMeans\n",
    "    from sklearn import metrics\n",
    "    from sklearn.metrics import pairwise_distances\n",
    "    \n",
    "    X, vectorizer, review_instances = vectorized_sample(ngram_range = (1,2), max_features = 200)\n",
    "\n",
    "    metric_values = []\n",
    "    for i in tqdm(range(2,10)):\n",
    "        kmeans_model = KMeans(n_clusters = i, init='k-means++', max_iter=50,n_init=1, random_state=42)\n",
    "        kmeans_model.fit(X.toarray()) \n",
    "        labels = kmeans_model.labels_\n",
    "        calinkski = metrics.calinski_harabasz_score(X.toarray(), labels) #The score is higher when clusters are dense \n",
    "       # and well separated, which relates to a standard concept of a cluster.\n",
    "\n",
    "        davies = metrics.davies_bouldin_score(X.toarray(), labels) #lower values indicating better clustering.\n",
    "        metric_values.append((i,calinkski,davies))\n",
    "    return metric_values"
   ]
  },
  {
   "cell_type": "code",
   "execution_count": 13,
   "id": "66410ca6",
   "metadata": {},
   "outputs": [
    {
     "name": "stderr",
     "output_type": "stream",
     "text": [
      "100%|██████████| 8/8 [00:05<00:00,  1.52it/s]\n"
     ]
    },
    {
     "data": {
      "text/plain": [
       "[(2, 1157.135453677715, 2.8991590290682496),\n",
       " (3, 1028.816353424557, 3.657149486854968),\n",
       " (4, 920.1487515914265, 3.2364390359230204),\n",
       " (5, 1090.8387471088038, 3.162357886674922),\n",
       " (6, 1212.1009988308258, 2.8205709316927567),\n",
       " (7, 1059.5257728769925, 2.7423221334453407),\n",
       " (8, 1059.0765942861842, 2.4337792491999153),\n",
       " (9, 1092.04091056578, 2.3886786371735282)]"
      ]
     },
     "execution_count": 13,
     "metadata": {},
     "output_type": "execute_result"
    }
   ],
   "source": [
    "clusters()"
   ]
  },
  {
   "cell_type": "code",
   "execution_count": 22,
   "id": "694c0d76",
   "metadata": {},
   "outputs": [],
   "source": [
    "# Calculate silhouette_score \n",
    "def silhouette():\n",
    "    sil_score={}\n",
    "    # Calculate silhouette_score: (Optional- On a smaller sample size. This should be highest)\n",
    "    X, vectorizer, review_instances = vectorized_sample(ngram_range = (1,2), max_features = 200)\n",
    "    for k in tqdm(range(2,15)): \n",
    "        km_optimal = KMeans(n_clusters=k, max_iter=100, n_init=1, init='k-means++', random_state=0).fit(X)\n",
    "        sil_score[k] = silhouette_score(X, km_optimal.labels_, sample_size= 100000, random_state = 0)\n",
    "    return sil_score"
   ]
  },
  {
   "cell_type": "code",
   "execution_count": 23,
   "id": "850f44e3",
   "metadata": {},
   "outputs": [
    {
     "name": "stderr",
     "output_type": "stream",
     "text": [
      "100%|██████████| 13/13 [40:46<00:00, 188.19s/it]\n"
     ]
    },
    {
     "data": {
      "text/plain": [
       "{2: 0.10742470952460115,\n",
       " 3: 0.09824967488816645,\n",
       " 4: 0.09997087851355904,\n",
       " 5: 0.09892332139556446,\n",
       " 6: 0.10123002012848527,\n",
       " 7: 0.10153833205601459,\n",
       " 8: 0.10959727921662982,\n",
       " 9: 0.1111285570611287,\n",
       " 10: 0.11765289480040872,\n",
       " 11: 0.12963264469664867,\n",
       " 12: 0.13435074331746968,\n",
       " 13: 0.14073025445036252,\n",
       " 14: 0.14279797297376054}"
      ]
     },
     "execution_count": 23,
     "metadata": {},
     "output_type": "execute_result"
    }
   ],
   "source": [
    "silhouette()"
   ]
  },
  {
   "cell_type": "markdown",
   "id": "4b096019",
   "metadata": {},
   "source": [
    "### Observations and conclusions\n",
    "\n",
    "It seems that the ideal number of clusters according the the elbow method is 9. However, the lowest Silhouette score is for k = 5. One way to mitigate this challenge is to pick a number between 5 and 9. 7 might seem like a good choice given our results"
   ]
  },
  {
   "cell_type": "code",
   "execution_count": 16,
   "id": "fd6092a0",
   "metadata": {},
   "outputs": [],
   "source": [
    "def kmeans_clusters():\n",
    "    \"\"\"\n",
    "    Returns a list that has k elements, where k is the optimal number of clusters\n",
    "    Each of these k elements contains a list of the top 10 terms (strings) for that cluster. \n",
    "    These terms are sorted by highest to lowest term weight value as stored in the cluster centroid.\n",
    "    \"\"\"\n",
    "    kmeans=KMeans(n_clusters=6,init='k-means++',max_iter=100,n_init=1,random_state=42)\n",
    "    X, vectorizer, review_instances = vectorized_sample(ngram_range = (1,2), max_features = 200)\n",
    "    \n",
    "    kmeans.fit(X)\n",
    "    \n",
    "    centroids=kmeans.cluster_centers_\n",
    "    columns=vectorizer.get_feature_names()\n",
    "    centers = [list(zip(columns,center)) for center in centroids]\n",
    "    sorted_words = [sorted(each,key=lambda x:x[1],reverse=True)[:10]for each in centers]\n",
    "    result=[[tup[0] for tup in each] for each in sorted_words]\n",
    "  \n",
    "    return result"
   ]
  },
  {
   "cell_type": "code",
   "execution_count": 17,
   "id": "778dc880",
   "metadata": {},
   "outputs": [
    {
     "data": {
      "text/plain": [
       "[['france',\n",
       "  'commune',\n",
       "  'department',\n",
       "  'region',\n",
       "  'department region',\n",
       "  'aisne',\n",
       "  'north',\n",
       "  'northern',\n",
       "  'la',\n",
       "  'southern'],\n",
       " ['known',\n",
       "  'best',\n",
       "  'born',\n",
       "  'american',\n",
       "  'world',\n",
       "  'television',\n",
       "  'english',\n",
       "  'february',\n",
       "  'species',\n",
       "  'used'],\n",
       " ['new',\n",
       "  'time',\n",
       "  'new york',\n",
       "  'york',\n",
       "  'city',\n",
       "  'south',\n",
       "  'world',\n",
       "  'american',\n",
       "  'year',\n",
       "  'born'],\n",
       " ['use',\n",
       "  'used',\n",
       "  'people',\n",
       "  'term',\n",
       "  'usually',\n",
       "  'english',\n",
       "  'common',\n",
       "  'time',\n",
       "  'different',\n",
       "  'make'],\n",
       " ['high',\n",
       "  'school',\n",
       "  'university',\n",
       "  'including',\n",
       "  'began',\n",
       "  'city',\n",
       "  'used',\n",
       "  'park',\n",
       "  'north',\n",
       "  'united'],\n",
       " ['born',\n",
       "  'city',\n",
       "  'used',\n",
       "  'called',\n",
       "  'united',\n",
       "  'world',\n",
       "  'states',\n",
       "  'people',\n",
       "  'american',\n",
       "  'football']]"
      ]
     },
     "execution_count": 17,
     "metadata": {},
     "output_type": "execute_result"
    }
   ],
   "source": [
    "kmeans_clusters()"
   ]
  },
  {
   "cell_type": "markdown",
   "id": "a684c670",
   "metadata": {},
   "source": [
    "Let's play around with values for the parameters of TfidfVectorizer, to see how the results change, because the results of this kind of clustering can be very sensitive to those parameters, which control how the text is processed, what defines what a \"term\" is, and which words are kept as features in the clustering."
   ]
  },
  {
   "cell_type": "code",
   "execution_count": 18,
   "id": "03e8bd9a",
   "metadata": {},
   "outputs": [],
   "source": [
    "def vectorized_diffvalues(top_n = -1, ngram_range = (2,3), max_features = 1000):\n",
    "    \"\"\"\n",
    "    This function returns:\n",
    "    - a matrix X with one row per document (review). Each row is a sparse\n",
    "    vector containing tf.idf term weights for the words in the document.\n",
    "    \"\"\"\n",
    "    df = sample\n",
    "    vectorizer = TfidfVectorizer(max_features=max_features, max_df= 0.5,\n",
    "                                 min_df= 2, stop_words='english',\n",
    "                                 ngram_range = ngram_range,\n",
    "                                 use_idf=True)\n",
    "    if (top_n >= 0):\n",
    "        instances = df.values[0:top_n]\n",
    "    else:\n",
    "        instances = df.values\n",
    "    \n",
    "    X = vectorizer.fit_transform(instances) \n",
    "    \n",
    "    return (X, vectorizer, instances)"
   ]
  },
  {
   "cell_type": "code",
   "execution_count": 19,
   "id": "cd02dd47",
   "metadata": {},
   "outputs": [],
   "source": [
    "def kmeans_clusters_experiment():\n",
    "    \"\"\"\n",
    "    Returns a list that has k elements, where k is the optimal number of clusters\n",
    "    Each of these k elements contains a list of the top 10 terms (strings) for that cluster. \n",
    "    These terms are sorted by highest to lowest term weight value as stored in the cluster centroid.\n",
    "    \"\"\"\n",
    "    X, vectorizer, instances = vectorized_diffvalues(top_n = -1, ngram_range = (2,3), max_features = 1000)\n",
    "    kmeans=KMeans(n_clusters=6,init='k-means++',max_iter=100,n_init=1,random_state=42)\n",
    "\n",
    "    \n",
    "    kmeans.fit(X)\n",
    "    \n",
    "    centroids=kmeans.cluster_centers_\n",
    "    columns=vectorizer.get_feature_names()\n",
    "    centers = [list(zip(columns,center)) for center in centroids]\n",
    "    sorted_words = [sorted(each,key=lambda x:x[1],reverse=True)[:10]for each in centers]\n",
    "    result=[[tup[0] for tup in each] for each in sorted_words]\n",
    "  \n",
    "    return result"
   ]
  },
  {
   "cell_type": "code",
   "execution_count": 20,
   "id": "274bcb0c",
   "metadata": {},
   "outputs": [
    {
     "data": {
      "text/plain": [
       "[['commune department region',\n",
       "  'department region france',\n",
       "  'region france',\n",
       "  'commune department',\n",
       "  'department region',\n",
       "  'southern france',\n",
       "  'aargau switzerland',\n",
       "  'abbottabad district',\n",
       "  'academy award',\n",
       "  'according census'],\n",
       " ['united states',\n",
       "  'new york',\n",
       "  'united kingdom',\n",
       "  'best known',\n",
       "  'prime minister',\n",
       "  'north america',\n",
       "  'department north',\n",
       "  'department north france',\n",
       "  'north france',\n",
       "  'high school'],\n",
       " ['football player',\n",
       "  'japanese football',\n",
       "  'japanese football player',\n",
       "  'brazilian football player',\n",
       "  'brazilian football',\n",
       "  'football player plays',\n",
       "  'player plays',\n",
       "  'born july',\n",
       "  'born february',\n",
       "  'born january'],\n",
       " ['middle ages',\n",
       "  'roman empire',\n",
       "  'western europe',\n",
       "  'catholic church',\n",
       "  'eastern europe',\n",
       "  'england scotland',\n",
       "  'commonly used',\n",
       "  'latin word',\n",
       "  'middle east',\n",
       "  'byzantine empire'],\n",
       " ['football club',\n",
       "  'club plays',\n",
       "  'football club plays',\n",
       "  'club based',\n",
       "  'football club based',\n",
       "  'english football',\n",
       "  'association football',\n",
       "  'professional football',\n",
       "  'football league',\n",
       "  'italian football'],\n",
       " ['world war',\n",
       "  'war ii',\n",
       "  'world war ii',\n",
       "  'end world war',\n",
       "  'end world',\n",
       "  'united states',\n",
       "  'nazi germany',\n",
       "  'soviet union',\n",
       "  'air force',\n",
       "  'second world war']]"
      ]
     },
     "execution_count": 20,
     "metadata": {},
     "output_type": "execute_result"
    }
   ],
   "source": [
    "kmeans_clusters_experiment()"
   ]
  },
  {
   "cell_type": "markdown",
   "id": "42ad20a9",
   "metadata": {},
   "source": [
    "### Information Gain for discriminative clusters\n",
    "\n",
    "Ideally, we'd like to find slighly better representative words for each cluster that are somewhat *specific* to that cluster and not others, i.e. words that distinguish reviews in that cluster from reviews in other clusters. To use the technical term, we want terms that are *discriminative* with respect to the clusters, not just descriptive. We will make use of Infomration gain to help us come up with such clusters"
   ]
  },
  {
   "cell_type": "code",
   "execution_count": 27,
   "id": "220f878a",
   "metadata": {},
   "outputs": [
    {
     "data": {
      "text/plain": [
       "[['aisne department',\n",
       "  'aquitaine gironde',\n",
       "  'calvados department',\n",
       "  'commune aisne',\n",
       "  'commune calvados'],\n",
       " ['million', 'bbc', 'low', 'china', 'africa'],\n",
       " ['york city', 'new york', 'new zealand', 'york', 'zealand'],\n",
       " ['points', 'flag', 'tropical', 'race', 'ice'],\n",
       " ['football player',\n",
       "  'japanese football',\n",
       "  'brazilian football',\n",
       "  'born september',\n",
       "  'born march'],\n",
       " ['family', 'wife', 'married', 'branch', 'tree'],\n",
       " ['cells', 'municipality district', 'district', 'study', 'refer']]"
      ]
     },
     "execution_count": 27,
     "metadata": {},
     "output_type": "execute_result"
    }
   ],
   "source": [
    "from scipy.stats import entropy\n",
    "\n",
    "def compute_distinctive_term_score(T, T_a):   \n",
    "    # First compute information gain.\n",
    "    IG = entropy(T) - entropy(T_a) \n",
    "    #if it's high IG, but not for this class, we want to penalize,\n",
    "    # so flip the IG negative.  We do this because these are terms whose *absence* is notable, \n",
    "    # but we don't care about those for purposes of this assignment and so we give them\n",
    "    # a score that guarantees we won't rank them highly.\n",
    "    \n",
    "    if (T_a[0] < T_a[1]):\n",
    "        score = -IG  \n",
    "    else:\n",
    "        score = IG\n",
    "    return score\n",
    "\n",
    "# create a 1-vs-all two-class matrix for each cluster\n",
    "def one_vs_all_count_matrix(m, index):\n",
    "    # row zero is the selected row\n",
    "    row0 = m[index, :]\n",
    "    # row one is the other rows summed\n",
    "    row1 = np.vstack((m[0:index, :], m[index+1:, :])).sum(axis=0)\n",
    "    result = np.vstack((row0, row1))\n",
    "    return result\n",
    "\n",
    "def cluster_labeling():\n",
    "    kmeans=KMeans(n_clusters=7,init='k-means++',max_iter=100,n_init=1,random_state=42)\n",
    "    X, vectorizer, instances = vectorized_diffvalues(top_n = -1, ngram_range = (1,2), max_features = 1000)\n",
    "    kmeans.fit(X)\n",
    "    centroids=kmeans.cluster_centers_\n",
    "    centroids=np.array(centroids) #This should be an array with seven (7) rows, one row per cluster, \n",
    "    #and 1000 columns (one column per word/term in the vocabulary produced by the vectorizer).\n",
    "    final = []\n",
    "    \n",
    "    for i in range(centroids.shape[0]):\n",
    "        \n",
    "        ctm = one_vs_all_count_matrix(centroids,i)#the first row has the weights of words in this cluster 𝑐  \n",
    "        #(which is the same as L[c, :]), and the second row has the aggregate summed weights of the words \n",
    "        #across all other clusters. The columns are the same as  𝐿 : one column per term in the vocabulary.\n",
    "        T_c = ctm.sum(axis=1)\n",
    "        T_c = T_c/sum(T_c)\n",
    "        result = []\n",
    "        for i in range(centroids.shape[1]):\n",
    "            T_w=ctm[:,i]\n",
    "            T_w=T_w/sum(T_w)\n",
    "            info_gain = compute_distinctive_term_score(T_c, T_w)\n",
    "            result.append(info_gain)\n",
    "            \n",
    "        terms_score=list(zip(vectorizer.get_feature_names(),result))\n",
    "        terms_score=sorted(terms_score,key=lambda x:x[1],reverse=True)[:5]\n",
    "        terms_score=[each[0] for each in terms_score]\n",
    "        final.append(terms_score)\n",
    "    return final\n",
    "\n",
    "cluster_labeling()"
   ]
  },
  {
   "cell_type": "markdown",
   "id": "b9cc9d4b",
   "metadata": {},
   "source": [
    "### Visualization"
   ]
  },
  {
   "cell_type": "code",
   "execution_count": 39,
   "id": "796c1d85",
   "metadata": {},
   "outputs": [],
   "source": [
    "# scatter plot using optimal clusters\n",
    "tokens = {}\n",
    "def optimal_k(num = 200, k = 7):\n",
    "    X, vectorizer, instances = vectorized_diffvalues(top_n = -1, ngram_range = (1,2), max_features = 1000)\n",
    "    km_best = KMeans(n_clusters=k, max_iter=100, n_init=1, init='k-means++', random_state=42).fit(X)\n",
    "    \n",
    "    # Get cluster centers: \n",
    "    cluster_center = pd.DataFrame(km_best.cluster_centers_, columns = vectorizer.get_feature_names()).T\n",
    "    \n",
    "    for i in cluster_center.columns: \n",
    "    \n",
    "        tokens[i] = cluster_center[i].sort_values(ascending = False)[:num].index\n",
    "        \n",
    "    central_words = pd.DataFrame(tokens)\n",
    "    central_words.columns = [\"cluster_\"+str(i) for i in range(1, k+1)]\n",
    "    return km_best, central_words"
   ]
  },
  {
   "cell_type": "code",
   "execution_count": 40,
   "id": "04ec2a5b",
   "metadata": {},
   "outputs": [
    {
     "data": {
      "text/plain": [
       "(KMeans(max_iter=100, n_clusters=7, n_init=1, random_state=42),\n",
       "              cluster_1  cluster_2      cluster_3 cluster_4        cluster_5  \\\n",
       " 0              commune    million            new      time             born   \n",
       " 1               france       live           york      team           player   \n",
       " 2           department  countries       new york  national         football   \n",
       " 3               region   northern    new zealand     named  football player   \n",
       " 4    department region    romania        zealand    season         american   \n",
       " ..                 ...        ...            ...       ...              ...   \n",
       " 195          performed    systems           head      hall        rock band   \n",
       " 196             period       film         police   spanish           worked   \n",
       " 197             person     square  hockey league  original             poet   \n",
       " 198              peter      music            led     dutch           leader   \n",
       " 199           physical      named          parts   current          married   \n",
       " \n",
       "          cluster_6     cluster_7  \n",
       " 0           family          city  \n",
       " 1             died          used  \n",
       " 2          species         known  \n",
       " 3              age        called  \n",
       " 4           father        united  \n",
       " ..             ...           ...  \n",
       " 195  north america  championship  \n",
       " 196          lives      referred  \n",
       " 197          title       similar  \n",
       " 198           best        empire  \n",
       " 199           poet       william  \n",
       " \n",
       " [200 rows x 7 columns])"
      ]
     },
     "execution_count": 40,
     "metadata": {},
     "output_type": "execute_result"
    }
   ],
   "source": [
    "optimal_k(num = 200, k = 7)"
   ]
  },
  {
   "cell_type": "code",
   "execution_count": null,
   "id": "489ace01",
   "metadata": {},
   "outputs": [],
   "source": [
    "# Prepare to plot clusters and its centroids: \n",
    "\n",
    "# Get unique labels: \n",
    "label = km_best.fit_predict(X_pca)\n",
    "u_labels = np.unique(label)\n",
    "\n",
    "_ = plt.figure(figsize= (15,10))\n",
    "for i in u_labels: \n",
    "    _ = plt.scatter(x = X_pca[label == i , 0] , y = X_pca[label == i , 1] , label = \"cluster_\"+str(i+1), \\\n",
    "                    cmap=plt.get_cmap('viridis'), alpha = 0.5)\n",
    "    _ = plt.xlabel('PCA1')\n",
    "    _ = plt.ylabel('PCA2')\n",
    "    _ = plt.title('K-Means Clusters with centroids on reduced Principle Components')\n",
    "    _ = plt.legend()\n",
    "\n",
    "for i in km_best.cluster_centers_:  \n",
    "    _ = plt.scatter(x = i[0],y = i[1],  s = 80, marker='o', label = \"cluster_\"+str(i+1),\\\n",
    "                    c= 'black', edgecolors='white', alpha = 0.8)"
   ]
  }
 ],
 "metadata": {
  "kernelspec": {
   "display_name": "Python 3",
   "language": "python",
   "name": "python3"
  },
  "language_info": {
   "codemirror_mode": {
    "name": "ipython",
    "version": 3
   },
   "file_extension": ".py",
   "mimetype": "text/x-python",
   "name": "python",
   "nbconvert_exporter": "python",
   "pygments_lexer": "ipython3",
   "version": "3.8.8"
  }
 },
 "nbformat": 4,
 "nbformat_minor": 5
}
